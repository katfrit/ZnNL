{
 "cells": [
  {
   "cell_type": "markdown",
   "id": "a5ba73c9",
   "metadata": {},
   "source": [
    "# Custom Data Generator\n",
    "\n",
    "Here we will demonstrate how to create a custom data generator."
   ]
  },
  {
   "cell_type": "code",
   "execution_count": 1,
   "id": "457bf0fa",
   "metadata": {},
   "outputs": [
    {
     "name": "stdout",
     "output_type": "stream",
     "text": [
      "Using: gpu\n"
     ]
    }
   ],
   "source": [
    "import pandas as pd\n",
    "import numpy as np\n",
    "import znrnd\n",
    "\n",
    "import optax\n",
    "from neural_tangents import stax\n",
    "\n",
    "from jax.lib import xla_bridge\n",
    "\n",
    "print(f\"Using: {xla_bridge.get_backend().platform}\")"
   ]
  },
  {
   "cell_type": "markdown",
   "id": "1c3af1b3",
   "metadata": {},
   "source": [
    "### Download the dataset"
   ]
  },
  {
   "cell_type": "code",
   "execution_count": 2,
   "id": "ec1952c1",
   "metadata": {},
   "outputs": [],
   "source": [
    "url = 'http://archive.ics.uci.edu/ml/machine-learning-databases/auto-mpg/auto-mpg.data'\n",
    "column_names = ['MPG', 'Cylinders', 'Displacement', 'Horsepower', 'Weight',\n",
    "                'Acceleration', 'Model Year', 'Origin']\n",
    "\n",
    "raw_dataset = pd.read_csv(url, names=column_names,\n",
    "                          na_values='?', comment='\\t',\n",
    "                          sep=' ', skipinitialspace=True)"
   ]
  },
  {
   "cell_type": "markdown",
   "id": "8425aef3",
   "metadata": {},
   "source": [
    "### Post-process the data here"
   ]
  },
  {
   "cell_type": "code",
   "execution_count": 3,
   "id": "f84cd364",
   "metadata": {},
   "outputs": [],
   "source": [
    "dataset = raw_dataset.copy()\n",
    "dataset = dataset.dropna()\n",
    "dataset['Origin'] = dataset['Origin'].map({1: 'USA', 2: 'Europe', 3: 'Japan'})\n",
    "dataset = pd.get_dummies(dataset, columns=['Origin'], prefix='', prefix_sep='')\n",
    "\n",
    "\n",
    "dataset = (dataset-dataset.mean())/dataset.std()"
   ]
  },
  {
   "cell_type": "markdown",
   "id": "ac303f99",
   "metadata": {},
   "source": [
    "### Create the data generator"
   ]
  },
  {
   "cell_type": "code",
   "execution_count": 4,
   "id": "df98f59d",
   "metadata": {},
   "outputs": [],
   "source": [
    "class MPGDataGenerator(znrnd.data.DataGenerator):\n",
    "    \"\"\"\n",
    "    Data generator for the MPG dataset.\n",
    "    \"\"\"\n",
    "    def __init__(self, dataset: pd.DataFrame):\n",
    "        \"\"\"\n",
    "        Constructor for the data generator.\n",
    "        \n",
    "        Parameters\n",
    "        ----------\n",
    "        dataset\n",
    "        \"\"\"        \n",
    "        train_ds = dataset.sample(frac=0.8, random_state=0)\n",
    "        train_labels = train_ds.pop(\"MPG\")\n",
    "        test_ds = dataset.drop(train_ds.index)\n",
    "        test_labels = test_ds.pop(\"MPG\")\n",
    "        \n",
    "        self.train_ds = {\"inputs\": train_ds.to_numpy(), \"targets\": train_labels.to_numpy().reshape(-1, 1)}\n",
    "        self.test_ds = {\"inputs\": test_ds.to_numpy(), \"targets\": test_labels.to_numpy().reshape(-1, 1)}\n",
    "        \n",
    "        self.data_pool = self.train_ds[\"inputs\"]\n",
    "        "
   ]
  },
  {
   "cell_type": "code",
   "execution_count": 5,
   "id": "f9e8e849",
   "metadata": {},
   "outputs": [],
   "source": [
    "data_generator = MPGDataGenerator(dataset)"
   ]
  },
  {
   "cell_type": "markdown",
   "id": "f607ab75",
   "metadata": {},
   "source": [
    "### Create a model"
   ]
  },
  {
   "cell_type": "code",
   "execution_count": 6,
   "id": "92f3e810",
   "metadata": {},
   "outputs": [],
   "source": [
    "model = stax.serial(\n",
    "    stax.Dense(32),\n",
    "    stax.Relu(),\n",
    "    stax.Dense(32),\n",
    "    stax.Relu(),\n",
    "    stax.Dense(32),\n",
    "    stax.Relu(),\n",
    "    stax.Dense(1),\n",
    ")"
   ]
  },
  {
   "cell_type": "code",
   "execution_count": 7,
   "id": "282ad734",
   "metadata": {},
   "outputs": [],
   "source": [
    "ntk_network = znrnd.models.NTModel(\n",
    "            nt_module=model,\n",
    "            optimizer=optax.adam(learning_rate=0.001),\n",
    "            loss_fn=znrnd.loss_functions.LPNormLoss(order=2),\n",
    "            input_shape=(9,),\n",
    "            training_threshold=0.001\n",
    "        )"
   ]
  },
  {
   "cell_type": "code",
   "execution_count": 8,
   "id": "23255bdf",
   "metadata": {},
   "outputs": [
    {
     "name": "stderr",
     "output_type": "stream",
     "text": [
      "Epoch: 100: 100%|█████████████████████████████| 100/100 [00:50<00:00,  1.96batch/s, test_loss=0.241]\n"
     ]
    }
   ],
   "source": [
    "metrics = ntk_network.train_model(\n",
    "    train_ds=data_generator.train_ds, test_ds=data_generator.test_ds, epochs=100, batch_size=32\n",
    ")"
   ]
  },
  {
   "cell_type": "markdown",
   "id": "663ac5ca",
   "metadata": {},
   "source": [
    "### Perform some data selection"
   ]
  },
  {
   "cell_type": "code",
   "execution_count": 9,
   "id": "8565f655",
   "metadata": {},
   "outputs": [],
   "source": [
    "rnd_stack = stax.serial(\n",
    "    stax.Dense(32),\n",
    "    stax.Relu(),\n",
    "    stax.Dense(32),\n",
    "    stax.Relu(),\n",
    "    stax.Dense(32),\n",
    ")"
   ]
  },
  {
   "cell_type": "code",
   "execution_count": 10,
   "id": "c3724135",
   "metadata": {},
   "outputs": [],
   "source": [
    "target = znrnd.models.NTModel(\n",
    "        nt_module=rnd_stack,\n",
    "        optimizer=optax.adam(learning_rate=0.001),\n",
    "        loss_fn=znrnd.loss_functions.MeanPowerLoss(order=2),\n",
    "        input_shape=(9,),\n",
    "        training_threshold=0.001\n",
    "    )\n",
    "\n",
    "predictor = znrnd.models.NTModel(\n",
    "        nt_module=rnd_stack,\n",
    "        optimizer=optax.adam(learning_rate=0.001),\n",
    "        loss_fn=znrnd.loss_functions.MeanPowerLoss(order=2),\n",
    "        input_shape=(9,),\n",
    "        training_threshold=0.001\n",
    "    )"
   ]
  },
  {
   "cell_type": "code",
   "execution_count": 11,
   "id": "4c33fbf6",
   "metadata": {},
   "outputs": [],
   "source": [
    "agent = znrnd.agents.RND(\n",
    "        point_selector=znrnd.point_selection.GreedySelection(threshold=0.01),\n",
    "        distance_metric=znrnd.distance_metrics.OrderNDifference(order=2),\n",
    "        data_generator=data_generator,\n",
    "        target_network=target,\n",
    "        predictor_network=predictor,\n",
    "        tolerance=8,\n",
    "    )"
   ]
  },
  {
   "cell_type": "code",
   "execution_count": 12,
   "id": "7ecab2a3",
   "metadata": {},
   "outputs": [
    {
     "name": "stderr",
     "output_type": "stream",
     "text": [
      "Epoch: 100: 100%|████████████████████████████| 100/100 [00:01<00:00, 69.20batch/s, test_loss=0.0385]\n",
      "Epoch: 110: 100%|██████████████████████████| 110/110 [00:00<00:00, 113.86batch/s, test_loss=0.00428]\n",
      "Epoch: 121: 100%|██████████████████████████| 121/121 [00:00<00:00, 121.07batch/s, test_loss=9.24e-5]\n",
      "Epoch: 100: 100%|█████████████████████████████| 100/100 [00:02<00:00, 38.10batch/s, test_loss=0.582]\n",
      "Epoch: 110: 100%|█████████████████████████████| 110/110 [00:02<00:00, 47.04batch/s, test_loss=0.307]\n",
      "Epoch: 121: 100%|████████████████████████████| 121/121 [00:07<00:00, 17.18batch/s, test_loss=0.0874]\n",
      "Epoch: 133: 100%|████████████████████████████| 133/133 [00:14<00:00,  8.91batch/s, test_loss=0.0121]\n",
      "Epoch: 146: 100%|██████████████████████████| 146/146 [00:15<00:00,  9.29batch/s, test_loss=0.000884]\n",
      "Epoch: 100: 100%|████████████████████████████| 100/100 [00:16<00:00,  5.92batch/s, test_loss=0.0301]\n",
      "Epoch: 110: 100%|███████████████████████████| 110/110 [00:18<00:00,  6.11batch/s, test_loss=0.00153]\n",
      "Epoch: 121: 100%|███████████████████████████| 121/121 [00:20<00:00,  6.00batch/s, test_loss=2.65e-5]\n",
      "Epoch: 100: 100%|███████████████████████████| 100/100 [00:22<00:00,  4.45batch/s, test_loss=0.00152]\n",
      "Epoch: 110: 100%|███████████████████████████| 110/110 [00:24<00:00,  4.49batch/s, test_loss=1.66e-5]\n",
      "Epoch: 100: 100%|███████████████████████████| 100/100 [00:28<00:00,  3.56batch/s, test_loss=0.00205]\n",
      "Epoch: 110: 100%|██████████████████████████| 110/110 [00:30<00:00,  3.58batch/s, test_loss=0.000223]\n",
      "Epoch: 100: 100%|███████████████████████████| 100/100 [00:33<00:00,  2.94batch/s, test_loss=0.00369]\n",
      "Epoch: 110: 100%|██████████████████████████| 110/110 [00:36<00:00,  3.04batch/s, test_loss=0.000142]\n",
      "Epoch: 100: 100%|███████████████████████████| 100/100 [00:39<00:00,  2.52batch/s, test_loss=0.00132]\n",
      "Epoch: 110: 100%|███████████████████████████| 110/110 [00:43<00:00,  2.55batch/s, test_loss=5.93e-5]\n",
      "Epoch: 100: 100%|███████████████████████████| 100/100 [00:45<00:00,  2.21batch/s, test_loss=0.00297]\n",
      "Epoch: 110: 100%|███████████████████████████| 110/110 [00:48<00:00,  2.25batch/s, test_loss=0.00121]\n",
      "Epoch: 121: 100%|██████████████████████████| 121/121 [00:53<00:00,  2.26batch/s, test_loss=0.000304]\n",
      "Epoch: 100: 100%|██████████████████████████| 100/100 [00:50<00:00,  1.96batch/s, test_loss=0.000145]\n",
      "Epoch: 100: 100%|███████████████████████████| 100/100 [00:57<00:00,  1.73batch/s, test_loss=0.00218]\n",
      "Epoch: 110: 100%|██████████████████████████| 110/110 [01:01<00:00,  1.79batch/s, test_loss=0.000108]\n"
     ]
    }
   ],
   "source": [
    "ds = agent.build_dataset(10)"
   ]
  },
  {
   "cell_type": "code",
   "execution_count": 13,
   "id": "0fda24c4",
   "metadata": {},
   "outputs": [],
   "source": [
    "train_ds = {\n",
    "    \"inputs\": np.take(data_generator.train_ds[\"inputs\"], agent.target_indices, axis=0),\n",
    "    \"targets\": np.take(data_generator.train_ds[\"targets\"], agent.target_indices, axis=0)\n",
    "}"
   ]
  },
  {
   "cell_type": "code",
   "execution_count": 14,
   "id": "08a4d8e6",
   "metadata": {},
   "outputs": [],
   "source": [
    "ntk_network = znrnd.models.NTModel(\n",
    "            nt_module=model,\n",
    "            optimizer=optax.adam(learning_rate=0.1),\n",
    "            loss_fn=znrnd.loss_functions.LPNormLoss(order=2),\n",
    "            input_shape=(9,),\n",
    "            training_threshold=0.001\n",
    "        )"
   ]
  },
  {
   "cell_type": "code",
   "execution_count": 15,
   "id": "c75503ae",
   "metadata": {},
   "outputs": [
    {
     "name": "stderr",
     "output_type": "stream",
     "text": [
      "Epoch: 50: 100%|████████████████████████████████| 50/50 [00:11<00:00,  4.30batch/s, test_loss=0.535]\n"
     ]
    }
   ],
   "source": [
    "rnd_metrics = ntk_network.train_model(train_ds, test_ds=data_generator.test_ds)"
   ]
  },
  {
   "cell_type": "code",
   "execution_count": null,
   "id": "a1195149",
   "metadata": {},
   "outputs": [],
   "source": []
  }
 ],
 "metadata": {
  "kernelspec": {
   "display_name": "Python 3 (ipykernel)",
   "language": "python",
   "name": "python3"
  },
  "language_info": {
   "codemirror_mode": {
    "name": "ipython",
    "version": 3
   },
   "file_extension": ".py",
   "mimetype": "text/x-python",
   "name": "python",
   "nbconvert_exporter": "python",
   "pygments_lexer": "ipython3",
   "version": "3.9.12"
  }
 },
 "nbformat": 4,
 "nbformat_minor": 5
}
