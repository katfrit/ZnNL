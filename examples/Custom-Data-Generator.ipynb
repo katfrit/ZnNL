{
 "cells": [
  {
   "cell_type": "markdown",
   "id": "a5ba73c9",
   "metadata": {},
   "source": [
    "# Custom Data Generator\n",
    "\n",
    "Here we will demonstrate how to create a custom data generator."
   ]
  },
  {
   "cell_type": "code",
   "execution_count": 10,
   "id": "457bf0fa",
   "metadata": {},
   "outputs": [
    {
     "name": "stderr",
     "output_type": "stream",
     "text": [
      "WARNING:absl:No GPU/TPU found, falling back to CPU. (Set TF_CPP_MIN_LOG_LEVEL=0 and rerun for more info.)\n"
     ]
    }
   ],
   "source": [
    "import pandas as pd\n",
    "import numpy as np\n",
    "import znrnd"
   ]
  },
  {
   "cell_type": "markdown",
   "id": "1c3af1b3",
   "metadata": {},
   "source": [
    "### Download the dataset"
   ]
  },
  {
   "cell_type": "code",
   "execution_count": 8,
   "id": "ec1952c1",
   "metadata": {},
   "outputs": [],
   "source": [
    "url = 'http://archive.ics.uci.edu/ml/machine-learning-databases/auto-mpg/auto-mpg.data'\n",
    "column_names = ['MPG', 'Cylinders', 'Displacement', 'Horsepower', 'Weight',\n",
    "                'Acceleration', 'Model Year', 'Origin']\n",
    "\n",
    "raw_dataset = pd.read_csv(url, names=column_names,\n",
    "                          na_values='?', comment='\\t',\n",
    "                          sep=' ', skipinitialspace=True)"
   ]
  },
  {
   "cell_type": "markdown",
   "id": "8425aef3",
   "metadata": {},
   "source": [
    "### Post-process the data here"
   ]
  },
  {
   "cell_type": "code",
   "execution_count": 20,
   "id": "f84cd364",
   "metadata": {},
   "outputs": [],
   "source": [
    "dataset = raw_dataset.copy()\n",
    "dataset = dataset.dropna()\n",
    "dataset['Origin'] = dataset['Origin'].map({1: 'USA', 2: 'Europe', 3: 'Japan'})\n",
    "dataset = pd.get_dummies(dataset, columns=['Origin'], prefix='', prefix_sep='')\n",
    "\n",
    "\n",
    "dataset = (dataset-dataset.mean())/dataset.std()"
   ]
  },
  {
   "cell_type": "markdown",
   "id": "ac303f99",
   "metadata": {},
   "source": [
    "### Create the data generator"
   ]
  },
  {
   "cell_type": "code",
   "execution_count": 11,
   "id": "df98f59d",
   "metadata": {},
   "outputs": [],
   "source": [
    "class MPGDataGenerator(znrnd.data.DataGenerator):\n",
    "    \"\"\"\n",
    "    Data generator for the MPG dataset.\n",
    "    \"\"\"\n",
    "    def __init__(self, dataset: pd.DataFrame):\n",
    "        \"\"\"\n",
    "        Constructor for the data generator.\n",
    "        \n",
    "        Parameters\n",
    "        ----------\n",
    "        dataset\n",
    "        \"\"\"\n",
    "        self.dataset = dataset\n",
    "        \n",
    "        self.train_ds = \n",
    "        \n",
    "        "
   ]
  },
  {
   "cell_type": "code",
   "execution_count": null,
   "id": "f9e8e849",
   "metadata": {},
   "outputs": [],
   "source": []
  }
 ],
 "metadata": {
  "kernelspec": {
   "display_name": "Python 3 (ipykernel)",
   "language": "python",
   "name": "python3"
  },
  "language_info": {
   "codemirror_mode": {
    "name": "ipython",
    "version": 3
   },
   "file_extension": ".py",
   "mimetype": "text/x-python",
   "name": "python",
   "nbconvert_exporter": "python",
   "pygments_lexer": "ipython3",
   "version": "3.8.12"
  }
 },
 "nbformat": 4,
 "nbformat_minor": 5
}
