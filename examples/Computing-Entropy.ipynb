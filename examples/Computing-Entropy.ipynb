{
 "cells": [
  {
   "cell_type": "markdown",
   "id": "1155f508",
   "metadata": {},
   "source": [
    "# Computing Entropy\n",
    "\n",
    "In this notebook we will walkthrough entropy computations and some of the options associated with them."
   ]
  },
  {
   "cell_type": "markdown",
   "id": "c2f5d943",
   "metadata": {},
   "source": [
    "### Imports\n",
    "\n",
    "For all entropy calculations we will use the neural tangent kernel. Therefore, we will exclusively be using the neural tangents library."
   ]
  },
  {
   "cell_type": "code",
   "execution_count": 1,
   "id": "02668461",
   "metadata": {},
   "outputs": [
    {
     "name": "stderr",
     "output_type": "stream",
     "text": [
      "2022-08-23 14:02:52.687406: E external/org_tensorflow/tensorflow/stream_executor/cuda/cuda_driver.cc:271] failed call to cuInit: CUDA_ERROR_NO_DEVICE: no CUDA-capable device is detected\n",
      "WARNING:absl:No GPU/TPU found, falling back to CPU. (Set TF_CPP_MIN_LOG_LEVEL=0 and rerun for more info.)\n"
     ]
    },
    {
     "data": {
      "text/plain": [
       "'cpu'"
      ]
     },
     "execution_count": 1,
     "metadata": {},
     "output_type": "execute_result"
    }
   ],
   "source": [
    "import os\n",
    "os.environ['CUDA_VISIBLE_DEVICES'] = '-1'\n",
    "\n",
    "import znrnd\n",
    "from neural_tangents import stax\n",
    "import optax\n",
    "\n",
    "import matplotlib.pyplot as plt\n",
    "import numpy as np\n",
    "import pandas as pd\n",
    "\n",
    "import jax\n",
    "jax.default_backend()"
   ]
  },
  {
   "cell_type": "markdown",
   "id": "9d379c99",
   "metadata": {},
   "source": [
    "### Data generators\n",
    "\n",
    "For the sake of covereage, we will look at the entropy of the all the data generators on small networks"
   ]
  },
  {
   "cell_type": "code",
   "execution_count": 2,
   "id": "0d70094e",
   "metadata": {},
   "outputs": [],
   "source": [
    "url = 'http://archive.ics.uci.edu/ml/machine-learning-databases/auto-mpg/auto-mpg.data'\n",
    "column_names = ['MPG', 'Cylinders', 'Displacement', 'Horsepower', 'Weight',\n",
    "                'Acceleration', 'Model Year', 'Origin']\n",
    "\n",
    "raw_dataset = pd.read_csv(url, names=column_names,\n",
    "                          na_values='?', comment='\\t',\n",
    "                          sep=' ', skipinitialspace=True)\n",
    "\n",
    "dataset = raw_dataset.copy()\n",
    "dataset = dataset.dropna()\n",
    "dataset['Origin'] = dataset['Origin'].map({1: 'USA', 2: 'Europe', 3: 'Japan'})\n",
    "dataset = pd.get_dummies(dataset, columns=['Origin'], prefix='', prefix_sep='')\n",
    "\n",
    "\n",
    "dataset = (dataset-dataset.mean())/dataset.std()\n",
    "\n",
    "class MPGDataGenerator(znrnd.data.DataGenerator):\n",
    "    \"\"\"\n",
    "    Data generator for the MPG dataset.\n",
    "    \"\"\"\n",
    "    def __init__(self, dataset: pd.DataFrame):\n",
    "        \"\"\"\n",
    "        Constructor for the data generator.\n",
    "        \n",
    "        Parameters\n",
    "        ----------\n",
    "        dataset\n",
    "        \"\"\"        \n",
    "        train_ds = dataset.sample(frac=0.8, random_state=0)\n",
    "        train_labels = train_ds.pop(\"MPG\")\n",
    "        test_ds = dataset.drop(train_ds.index)\n",
    "        test_labels = test_ds.pop(\"MPG\")\n",
    "        \n",
    "        self.train_ds = {\"inputs\": train_ds.to_numpy(), \"targets\": train_labels.to_numpy().reshape(-1, 1)}\n",
    "        self.test_ds = {\"inputs\": test_ds.to_numpy(), \"targets\": test_labels.to_numpy().reshape(-1, 1)}\n",
    "        \n",
    "        self.data_pool = self.train_ds[\"inputs\"]\n"
   ]
  },
  {
   "cell_type": "code",
   "execution_count": 3,
   "id": "088201ee",
   "metadata": {},
   "outputs": [
    {
     "name": "stderr",
     "output_type": "stream",
     "text": [
      "2022-08-23 14:03:12.706482: E tensorflow/stream_executor/cuda/cuda_driver.cc:271] failed call to cuInit: CUDA_ERROR_NO_DEVICE: no CUDA-capable device is detected\n"
     ]
    }
   ],
   "source": [
    "mnist_generator = znrnd.data.MNISTGenerator()\n",
    "cifar_generator = znrnd.data.CIFAR10Generator()\n",
    "fuel_generator = MPGDataGenerator(dataset)"
   ]
  },
  {
   "cell_type": "markdown",
   "id": "38fa1b9d",
   "metadata": {},
   "source": [
    "###  Networks and Models\n",
    "\n",
    "Now we can define the network architectures for which we will compute the entropy of the data. Let's use a dense network for the fuel data and a convolutional network for the others."
   ]
  },
  {
   "cell_type": "code",
   "execution_count": 4,
   "id": "62250ce8",
   "metadata": {},
   "outputs": [],
   "source": [
    "dense_network = stax.serial(\n",
    "    stax.Dense(32),\n",
    "    stax.Relu(),\n",
    "    stax.Dense(32),\n",
    ")\n",
    "\n",
    "convolutional_network = stax.serial(\n",
    "    stax.Conv(64, filter_shape=(2, 2)),\n",
    "    stax.Relu(),\n",
    "    stax.AvgPool(window_shape=(2, 2), strides=(2, 2)),\n",
    "    stax.Flatten(),\n",
    "    stax.Dense(128),\n",
    ")"
   ]
  },
  {
   "cell_type": "code",
   "execution_count": 5,
   "id": "dd7b67ca",
   "metadata": {},
   "outputs": [],
   "source": [
    "fuel_model = znrnd.models.NTModel(\n",
    "    nt_module=dense_network,\n",
    "    optimizer=optax.adam(learning_rate=0.001),\n",
    "    loss_fn=znrnd.loss_functions.MeanPowerLoss(order=2),\n",
    "    input_shape=(9,),\n",
    "    training_threshold=0.001,\n",
    "    batch_size=5\n",
    ")\n",
    "mnist_model = znrnd.models.NTModel(\n",
    "    nt_module=convolutional_network,\n",
    "    optimizer=optax.adam(learning_rate=0.001),\n",
    "    loss_fn=znrnd.loss_functions.CrossEntropyLoss(classes=10, apply_softmax=False),\n",
    "    input_shape=(1, 28, 28, 1),\n",
    "    training_threshold=0.001,\n",
    "    batch_size=1\n",
    ")\n",
    "cifar_model = znrnd.models.NTModel(\n",
    "    nt_module=convolutional_network,\n",
    "    optimizer=optax.adam(learning_rate=0.001),\n",
    "    loss_fn=znrnd.loss_functions.CrossEntropyLoss(classes=10, apply_softmax=False),\n",
    "    input_shape=(1, 32, 32, 3),\n",
    "    training_threshold=0.001,\n",
    "    batch_size=1\n",
    ")"
   ]
  },
  {
   "cell_type": "markdown",
   "id": "699ab687",
   "metadata": {},
   "source": [
    "### Computing the Entropy\n",
    "\n",
    "Let's compute the entropy of a small subset of the data points, let's say, 10 points from each. To do so, we will perform the following steps:\n",
    "\n",
    "1. Select the subset of data.\n",
    "2. Compute the NTK matrix for each model.\n",
    "3. Instantiate an entropy calculator for each matrix.\n",
    "4. Compute the entropy for each matrix."
   ]
  },
  {
   "cell_type": "code",
   "execution_count": 6,
   "id": "b1f79abe",
   "metadata": {},
   "outputs": [],
   "source": [
    "# Step 1\n",
    "\n",
    "fuel_data = fuel_generator[0:10]\n",
    "mnist_data = mnist_generator[0:10]\n",
    "cifar_data = cifar_generator[0:10]"
   ]
  },
  {
   "cell_type": "code",
   "execution_count": 7,
   "id": "b17ba4b0",
   "metadata": {},
   "outputs": [
    {
     "name": "stderr",
     "output_type": "stream",
     "text": [
      "/tikhome/stovey/miniconda3/envs/zincware/lib/python3.9/site-packages/jax/_src/tree_util.py:188: FutureWarning: jax.tree_util.tree_multimap() is deprecated. Please use jax.tree_util.tree_map() instead as a drop-in replacement.\n",
      "  warnings.warn('jax.tree_util.tree_multimap() is deprecated. Please use jax.tree_util.tree_map() '\n"
     ]
    }
   ],
   "source": [
    "# Step 2\n",
    "\n",
    "fuel_ntk = fuel_model.compute_ntk(fuel_data, normalize=False)[\"empirical\"]\n",
    "mnist_ntk = mnist_model.compute_ntk(mnist_data, normalize=False)[\"empirical\"]\n",
    "cifar_ntk = cifar_model.compute_ntk(cifar_data, normalize=False)[\"empirical\"]"
   ]
  },
  {
   "cell_type": "code",
   "execution_count": 8,
   "id": "0b5fb103",
   "metadata": {},
   "outputs": [],
   "source": [
    "# Step 3\n",
    "\n",
    "fuel_calculator = znrnd.analysis.EntropyAnalysis(matrix=fuel_ntk)\n",
    "mnist_calculator = znrnd.analysis.EntropyAnalysis(matrix=mnist_ntk)\n",
    "cifar_calculator = znrnd.analysis.EntropyAnalysis(matrix=cifar_ntk)"
   ]
  },
  {
   "cell_type": "code",
   "execution_count": 9,
   "id": "5a19af94",
   "metadata": {},
   "outputs": [],
   "source": [
    "# Step 4\n",
    "\n",
    "fuel_entropy = fuel_calculator.compute_von_neumann_entropy(\n",
    "    effective=True, normalize_eig=True\n",
    ")\n",
    "mnist_entropy = mnist_calculator.compute_von_neumann_entropy(\n",
    "    effective=True, normalize_eig=True\n",
    ")\n",
    "cifar_entropy = cifar_calculator.compute_von_neumann_entropy(\n",
    "    effective=True, normalize_eig=True\n",
    ")"
   ]
  },
  {
   "cell_type": "code",
   "execution_count": 10,
   "id": "ef40b732",
   "metadata": {},
   "outputs": [
    {
     "data": {
      "image/png": "[encoded data removed]",
      "text/plain": [
       "<Figure size 432x288 with 1 Axes>"
      ]
     },
     "metadata": {
      "needs_background": "light"
     },
     "output_type": "display_data"
    }
   ],
   "source": [
    "plt.plot([\"Fuel\", \"MNIST\", \"CIFAR10\"], [fuel_entropy, mnist_entropy, cifar_entropy], 'o', mfc=\"none\")\n",
    "plt.grid()\n",
    "plt.xlabel(\"Data-set\")\n",
    "plt.ylabel(\"Von-Neumann Entropy\")\n",
    "plt.title(\"Entropy Computation Demonstration\")\n",
    "plt.show()"
   ]
  }
 ],
 "metadata": {
  "kernelspec": {
   "display_name": "Python 3 (ipykernel)",
   "language": "python",
   "name": "python3"
  },
  "language_info": {
   "codemirror_mode": {
    "name": "ipython",
    "version": 3
   },
   "file_extension": ".py",
   "mimetype": "text/x-python",
   "name": "python",
   "nbconvert_exporter": "python",
   "pygments_lexer": "ipython3",
   "version": "3.9.12"
  }
 },
 "nbformat": 4,
 "nbformat_minor": 5
}
