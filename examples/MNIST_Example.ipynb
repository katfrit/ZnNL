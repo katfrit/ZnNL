{
 "cells": [
  {
   "cell_type": "markdown",
   "id": "2c522a05",
   "metadata": {},
   "source": [
    "# MNIST meets RND\n",
    "\n",
    "In this tutorial, we go over how to apply random network distillation to non-standard network architectures, specifically, the convoltutional neural networks required to classify the MNIST dataset."
   ]
  },
  {
   "cell_type": "code",
   "execution_count": 1,
   "id": "f4f62b3c",
   "metadata": {},
   "outputs": [
    {
     "name": "stderr",
     "output_type": "stream",
     "text": [
      "WARNING:absl:No GPU/TPU found, falling back to CPU. (Set TF_CPP_MIN_LOG_LEVEL=0 and rerun for more info.)\n"
     ]
    }
   ],
   "source": [
    "import os\n",
    "os.environ[\"CUDA_VISIBLE_DEVICES\"] = \"-1\"\n",
    "\n",
    "\n",
    "import znrnd as rnd\n",
    "\n",
    "import tensorflow_datasets as tfds\n",
    "\n",
    "import numpy as np\n",
    "from flax import linen as nn\n",
    "import optax"
   ]
  },
  {
   "cell_type": "markdown",
   "id": "aad7b959",
   "metadata": {},
   "source": [
    "### Making a data generator\n",
    "\n",
    "The first thing we need to do is create a data generator for the problem."
   ]
  },
  {
   "cell_type": "code",
   "execution_count": 2,
   "id": "c8029770",
   "metadata": {},
   "outputs": [],
   "source": [
    "data_generator = rnd.data.MNISTGenerator()"
   ]
  },
  {
   "cell_type": "markdown",
   "id": "8a967968",
   "metadata": {},
   "source": [
    "### Define the agent"
   ]
  },
  {
   "cell_type": "code",
   "execution_count": 3,
   "id": "772667ec",
   "metadata": {},
   "outputs": [],
   "source": [
    "class CustomModule(nn.Module):\n",
    "    \"\"\"\n",
    "    Simple CNN module.\n",
    "    \"\"\"\n",
    "    @nn.compact\n",
    "    def __call__(self, x):\n",
    "        x = nn.Conv(features=32, kernel_size=(3, 3))(x)\n",
    "        x = nn.relu(x)\n",
    "        x = nn.avg_pool(x, window_shape=(2, 2), strides=(2, 2))\n",
    "        x = nn.Conv(features=64, kernel_size=(3, 3))(x)\n",
    "        x = nn.relu(x)\n",
    "        x = nn.avg_pool(x, window_shape=(2, 2), strides=(2, 2))\n",
    "        x = x.reshape((x.shape[0], -1))  # flatten\n",
    "        x = nn.Dense(features=256)(x)\n",
    "        return x"
   ]
  },
  {
   "cell_type": "code",
   "execution_count": 4,
   "id": "ed479cfc",
   "metadata": {},
   "outputs": [],
   "source": [
    "class ProductionModule(nn.Module):\n",
    "    \"\"\"\n",
    "    Simple CNN module.\n",
    "    \"\"\"\n",
    "\n",
    "    @nn.compact\n",
    "    def __call__(self, x):\n",
    "        x = nn.Conv(features=32, kernel_size=(3, 3))(x)\n",
    "        x = nn.relu(x)\n",
    "        x = nn.avg_pool(x, window_shape=(2, 2), strides=(2, 2))\n",
    "        x = nn.Conv(features=64, kernel_size=(3, 3))(x)\n",
    "        x = nn.relu(x)\n",
    "        x = nn.avg_pool(x, window_shape=(2, 2), strides=(2, 2))\n",
    "        x = x.reshape((x.shape[0], -1))  # flatten\n",
    "        x = nn.Dense(features=256)(x)\n",
    "        x = nn.relu(x)\n",
    "        x = nn.Dense(10)(x)\n",
    "\n",
    "        return x"
   ]
  },
  {
   "cell_type": "code",
   "execution_count": 5,
   "id": "2868daf4",
   "metadata": {},
   "outputs": [],
   "source": [
    "production_model = rnd.models.FlaxModel(\n",
    "            flax_module=ProductionModule(),\n",
    "            optimizer=optax.adam(learning_rate=0.01),\n",
    "            loss_fn=rnd.loss_functions.CrossEntropyLoss(classes=10),\n",
    "            input_shape=(1, 28, 28, 1),\n",
    "            training_threshold=0.001,\n",
    "            compute_accuracy=True\n",
    "        )"
   ]
  },
  {
   "cell_type": "code",
   "execution_count": 6,
   "id": "2ec38476",
   "metadata": {},
   "outputs": [
    {
     "name": "stderr",
     "output_type": "stream",
     "text": [
      "Epoch: 50: 100%|█████████████████████████████████| 50/50 [02:05<00:00,  2.51s/batch, accuracy=0.934]\n"
     ]
    },
    {
     "data": {
      "text/plain": [
       "([1.9081650972366333,\n",
       "  0.7170539498329163,\n",
       "  0.5145832896232605,\n",
       "  0.4604935944080353,\n",
       "  0.5124824643135071,\n",
       "  0.3270696699619293,\n",
       "  0.45221054553985596,\n",
       "  0.4316408932209015,\n",
       "  0.3962288200855255,\n",
       "  0.42191997170448303,\n",
       "  0.43806907534599304,\n",
       "  0.43773353099823,\n",
       "  0.4474071264266968,\n",
       "  0.44737598299980164,\n",
       "  0.45669522881507874,\n",
       "  0.45106184482574463,\n",
       "  0.45159268379211426,\n",
       "  0.45254239439964294,\n",
       "  0.4553583562374115,\n",
       "  0.4582881033420563,\n",
       "  0.46119967103004456,\n",
       "  0.46404439210891724,\n",
       "  0.4667452573776245,\n",
       "  0.4694133400917053,\n",
       "  0.47191354632377625,\n",
       "  0.47429773211479187,\n",
       "  0.476602703332901,\n",
       "  0.47883060574531555,\n",
       "  0.48097744584083557,\n",
       "  0.48307761549949646,\n",
       "  0.48522433638572693,\n",
       "  0.4872837960720062,\n",
       "  0.4892633557319641,\n",
       "  0.4911554157733917,\n",
       "  0.4930015802383423,\n",
       "  0.494782030582428,\n",
       "  0.49652528762817383,\n",
       "  0.49817031621932983,\n",
       "  0.49978744983673096,\n",
       "  0.5013770461082458,\n",
       "  0.5029512047767639,\n",
       "  0.5044976472854614,\n",
       "  0.5060179233551025,\n",
       "  0.5075149536132812,\n",
       "  0.508941113948822,\n",
       "  0.5103925466537476,\n",
       "  0.5117714405059814,\n",
       "  0.5131738781929016,\n",
       "  0.5145578980445862,\n",
       "  0.515857994556427],\n",
       " [0.3460000157356262,\n",
       "  0.7940000295639038,\n",
       "  0.8420000672340393,\n",
       "  0.8760000467300415,\n",
       "  0.8580000400543213,\n",
       "  0.9200000166893005,\n",
       "  0.8740000128746033,\n",
       "  0.9100000262260437,\n",
       "  0.9140000343322754,\n",
       "  0.9160000681877136,\n",
       "  0.9160000681877136,\n",
       "  0.9220000505447388,\n",
       "  0.9220000505447388,\n",
       "  0.9180000424385071,\n",
       "  0.9260000586509705,\n",
       "  0.9200000166893005,\n",
       "  0.9180000424385071,\n",
       "  0.9240000247955322,\n",
       "  0.9280000329017639,\n",
       "  0.9280000329017639,\n",
       "  0.9300000667572021,\n",
       "  0.9280000329017639,\n",
       "  0.9280000329017639,\n",
       "  0.9280000329017639,\n",
       "  0.9300000667572021,\n",
       "  0.9300000667572021,\n",
       "  0.9300000667572021,\n",
       "  0.9300000667572021,\n",
       "  0.9300000667572021,\n",
       "  0.9300000667572021,\n",
       "  0.9320000410079956,\n",
       "  0.9320000410079956,\n",
       "  0.9320000410079956,\n",
       "  0.9320000410079956,\n",
       "  0.9320000410079956,\n",
       "  0.9320000410079956,\n",
       "  0.9320000410079956,\n",
       "  0.9320000410079956,\n",
       "  0.9320000410079956,\n",
       "  0.9320000410079956,\n",
       "  0.9320000410079956,\n",
       "  0.9340000152587891,\n",
       "  0.9340000152587891,\n",
       "  0.9340000152587891,\n",
       "  0.9340000152587891,\n",
       "  0.9340000152587891,\n",
       "  0.9340000152587891,\n",
       "  0.9340000152587891,\n",
       "  0.9340000152587891,\n",
       "  0.9340000152587891],\n",
       " [{'accuracy': 0.19375, 'loss': 2.4313228},\n",
       "  {'accuracy': 0.66041666, 'loss': 1.0888207},\n",
       "  {'accuracy': 0.85833335, 'loss': 0.47593814},\n",
       "  {'accuracy': 0.92291665, 'loss': 0.2430674},\n",
       "  {'accuracy': 0.93333334, 'loss': 0.19813484},\n",
       "  {'accuracy': 0.94166666, 'loss': 0.17199686},\n",
       "  {'accuracy': 0.98125, 'loss': 0.07743378},\n",
       "  {'accuracy': 0.9895833, 'loss': 0.034656703},\n",
       "  {'accuracy': 0.9916667, 'loss': 0.024439855},\n",
       "  {'accuracy': 1.0, 'loss': 0.0073241284},\n",
       "  {'accuracy': 1.0, 'loss': 0.0029250295},\n",
       "  {'accuracy': 1.0, 'loss': 0.0020427313},\n",
       "  {'accuracy': 1.0, 'loss': 0.002276382},\n",
       "  {'accuracy': 1.0, 'loss': 0.0022339476},\n",
       "  {'accuracy': 1.0, 'loss': 0.0012739269},\n",
       "  {'accuracy': 1.0, 'loss': 0.0003251047},\n",
       "  {'accuracy': 1.0, 'loss': 0.0002835934},\n",
       "  {'accuracy': 1.0, 'loss': 0.00016011893},\n",
       "  {'accuracy': 1.0, 'loss': 0.00012893368},\n",
       "  {'accuracy': 1.0, 'loss': 0.00011575425},\n",
       "  {'accuracy': 1.0, 'loss': 0.00010537948},\n",
       "  {'accuracy': 1.0, 'loss': 9.6695e-05},\n",
       "  {'accuracy': 1.0, 'loss': 8.939557e-05},\n",
       "  {'accuracy': 1.0, 'loss': 8.307781e-05},\n",
       "  {'accuracy': 1.0, 'loss': 7.74979e-05},\n",
       "  {'accuracy': 1.0, 'loss': 7.2537805e-05},\n",
       "  {'accuracy': 1.0, 'loss': 6.803469e-05},\n",
       "  {'accuracy': 1.0, 'loss': 6.399309e-05},\n",
       "  {'accuracy': 1.0, 'loss': 6.032227e-05},\n",
       "  {'accuracy': 1.0, 'loss': 5.6978042e-05},\n",
       "  {'accuracy': 1.0, 'loss': 5.3883545e-05},\n",
       "  {'accuracy': 1.0, 'loss': 5.103266e-05},\n",
       "  {'accuracy': 1.0, 'loss': 4.8409038e-05},\n",
       "  {'accuracy': 1.0, 'loss': 4.6030236e-05},\n",
       "  {'accuracy': 1.0, 'loss': 4.3805037e-05},\n",
       "  {'accuracy': 1.0, 'loss': 4.177857e-05},\n",
       "  {'accuracy': 1.0, 'loss': 3.9898525e-05},\n",
       "  {'accuracy': 1.0, 'loss': 3.817034e-05},\n",
       "  {'accuracy': 1.0, 'loss': 3.6561534e-05},\n",
       "  {'accuracy': 1.0, 'loss': 3.5072087e-05},\n",
       "  {'accuracy': 1.0, 'loss': 3.3665274e-05},\n",
       "  {'accuracy': 1.0, 'loss': 3.234531e-05},\n",
       "  {'accuracy': 1.0, 'loss': 3.1104533e-05},\n",
       "  {'accuracy': 1.0, 'loss': 2.9932762e-05},\n",
       "  {'accuracy': 1.0, 'loss': 2.8826758e-05},\n",
       "  {'accuracy': 1.0, 'loss': 2.7783797e-05},\n",
       "  {'accuracy': 1.0, 'loss': 2.6804877e-05},\n",
       "  {'accuracy': 1.0, 'loss': 2.587757e-05},\n",
       "  {'accuracy': 1.0, 'loss': 2.498899e-05},\n",
       "  {'accuracy': 1.0, 'loss': 2.4146837e-05}])"
      ]
     },
     "execution_count": 6,
     "metadata": {},
     "output_type": "execute_result"
    }
   ],
   "source": [
    "production_model.train_model(\n",
    "    train_ds={\"inputs\": data_generator.ds_train[\"image\"], \"targets\": data_generator.ds_train[\"label\"]},\n",
    "    test_ds={\"inputs\": data_generator.ds_test[\"image\"], \"targets\": data_generator.ds_test[\"label\"]},\n",
    "    batch_size=32,\n",
    ")"
   ]
  },
  {
   "cell_type": "code",
   "execution_count": 7,
   "id": "622300c1",
   "metadata": {},
   "outputs": [],
   "source": [
    "target = rnd.models.FlaxModel(\n",
    "        flax_module=CustomModule(),\n",
    "        optimizer=optax.adam(learning_rate=0.001),\n",
    "        loss_fn=rnd.loss_functions.MeanPowerLoss(order=2),\n",
    "        input_shape=(1, 28, 28, 1),\n",
    "        training_threshold=0.001\n",
    "    )\n",
    "\n",
    "predictor = rnd.models.FlaxModel(\n",
    "        flax_module=CustomModule(),\n",
    "        optimizer=optax.adam(learning_rate=0.001),\n",
    "        loss_fn=rnd.loss_functions.MeanPowerLoss(order=2),\n",
    "        input_shape=(1, 28, 28, 1),\n",
    "        training_threshold=0.001\n",
    "    )"
   ]
  },
  {
   "cell_type": "code",
   "execution_count": 8,
   "id": "37801fbc",
   "metadata": {},
   "outputs": [],
   "source": [
    "agent = rnd.agents.RND(\n",
    "        point_selector=rnd.point_selection.GreedySelection(threshold=0.01),\n",
    "        distance_metric=rnd.distance_metrics.OrderNDifference(order=2),\n",
    "        data_generator=data_generator,\n",
    "        target_network=target,\n",
    "        predictor_network=predictor,\n",
    "        tolerance=8,\n",
    "    )"
   ]
  },
  {
   "cell_type": "code",
   "execution_count": null,
   "id": "39439c0b",
   "metadata": {
    "scrolled": false
   },
   "outputs": [
    {
     "name": "stderr",
     "output_type": "stream",
     "text": [
      "Epoch: 100: 100%|██████████████████████████████| 100/100 [00:15<00:00,  6.35batch/s, test_loss=1e-7]\n",
      "/Users/samueltovey/miniconda3/envs/zincware/lib/python3.8/site-packages/sklearn/manifold/_t_sne.py:982: FutureWarning: The PCA initialization in TSNE will change to have the standard deviation of PC1 equal to 1e-4 in 1.2. This will ensure better convergence.\n",
      "  warnings.warn(\n",
      "/Users/samueltovey/miniconda3/envs/zincware/lib/python3.8/site-packages/sklearn/manifold/_t_sne.py:982: FutureWarning: The PCA initialization in TSNE will change to have the standard deviation of PC1 equal to 1e-4 in 1.2. This will ensure better convergence.\n",
      "  warnings.warn(\n",
      "/Users/samueltovey/miniconda3/envs/zincware/lib/python3.8/site-packages/sklearn/manifold/_t_sne.py:982: FutureWarning: The PCA initialization in TSNE will change to have the standard deviation of PC1 equal to 1e-4 in 1.2. This will ensure better convergence.\n",
      "  warnings.warn(\n",
      "Epoch: 100: 100%|██████████████████████████| 100/100 [00:26<00:00,  3.84batch/s, test_loss=2.78e-12]\n",
      "/Users/samueltovey/miniconda3/envs/zincware/lib/python3.8/site-packages/sklearn/manifold/_t_sne.py:982: FutureWarning: The PCA initialization in TSNE will change to have the standard deviation of PC1 equal to 1e-4 in 1.2. This will ensure better convergence.\n",
      "  warnings.warn(\n",
      "Epoch: 100: 100%|███████████████████████████| 100/100 [00:32<00:00,  3.12batch/s, test_loss=1.59e-6]\n",
      "/Users/samueltovey/miniconda3/envs/zincware/lib/python3.8/site-packages/sklearn/manifold/_t_sne.py:982: FutureWarning: The PCA initialization in TSNE will change to have the standard deviation of PC1 equal to 1e-4 in 1.2. This will ensure better convergence.\n",
      "  warnings.warn(\n",
      "Epoch: 100: 100%|██████████████████████████| 100/100 [00:48<00:00,  2.08batch/s, test_loss=2.23e-15]\n",
      "/Users/samueltovey/miniconda3/envs/zincware/lib/python3.8/site-packages/sklearn/manifold/_t_sne.py:982: FutureWarning: The PCA initialization in TSNE will change to have the standard deviation of PC1 equal to 1e-4 in 1.2. This will ensure better convergence.\n",
      "  warnings.warn(\n",
      "Epoch: 100: 100%|██████████████████████████| 100/100 [01:03<00:00,  1.58batch/s, test_loss=9.45e-15]\n",
      "/Users/samueltovey/miniconda3/envs/zincware/lib/python3.8/site-packages/sklearn/manifold/_t_sne.py:982: FutureWarning: The PCA initialization in TSNE will change to have the standard deviation of PC1 equal to 1e-4 in 1.2. This will ensure better convergence.\n",
      "  warnings.warn(\n",
      "Epoch: 16:  15%|████▎                        | 15/100 [00:11<00:52,  1.63batch/s, test_loss=4.64e-6]"
     ]
    }
   ],
   "source": [
    "agent.build_dataset(visualize=True)"
   ]
  },
  {
   "cell_type": "code",
   "execution_count": null,
   "id": "86ff87ef",
   "metadata": {},
   "outputs": [],
   "source": [
    "data_generator.plot_image(data_list=np.array(agent.target_set))"
   ]
  },
  {
   "cell_type": "code",
   "execution_count": null,
   "id": "18659de4",
   "metadata": {},
   "outputs": [],
   "source": []
  }
 ],
 "metadata": {
  "kernelspec": {
   "display_name": "Python 3 (ipykernel)",
   "language": "python",
   "name": "python3"
  },
  "language_info": {
   "codemirror_mode": {
    "name": "ipython",
    "version": 3
   },
   "file_extension": ".py",
   "mimetype": "text/x-python",
   "name": "python",
   "nbconvert_exporter": "python",
   "pygments_lexer": "ipython3",
   "version": "3.8.12"
  }
 },
 "nbformat": 4,
 "nbformat_minor": 5
}
