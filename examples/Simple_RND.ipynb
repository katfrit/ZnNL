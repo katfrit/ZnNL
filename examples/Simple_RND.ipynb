{
 "cells": [
  {
   "cell_type": "markdown",
   "metadata": {},
   "source": [
    "# Simple Random Network Distillation"
   ]
  },
  {
   "cell_type": "markdown",
   "metadata": {},
   "source": [
    "### Imports\n",
    "The first step to using ZnRND is to import the package as you would any other Python library.\n",
    "\n",
    "In this case we will also import some visualization libraries we can use along the way. Note that, in this case, we have turned off warnings from TF as the very nature of RND, i.e, a lot of re-training, triggers a lot of graph builds and therefore, a lot of TF complaints."
   ]
  },
  {
   "cell_type": "code",
   "execution_count": 1,
   "metadata": {},
   "outputs": [
    {
     "name": "stdout",
     "output_type": "stream",
     "text": [
      "Using: gpu\n"
     ]
    }
   ],
   "source": [
    "import znrnd \n",
    "\n",
    "from flax import linen as nn\n",
    "import optax\n",
    "import matplotlib.pyplot as plt\n",
    "import numpy as np\n",
    "\n",
    "from jax.lib import xla_bridge\n",
    "\n",
    "print(f\"Using: {xla_bridge.get_backend().platform}\")"
   ]
  },
  {
   "cell_type": "markdown",
   "metadata": {},
   "source": [
    "### Data pools\n",
    "\n",
    "In ZnRND we use a data generator to store and handle the passing of data. This makes it easy to perform operations element-wise on data as well as theoretically to make the whole process compilable.\n",
    "\n",
    "For this example we want to use points on a lattice using a built-in generator."
   ]
  },
  {
   "cell_type": "code",
   "execution_count": 2,
   "metadata": {},
   "outputs": [],
   "source": [
    "data_generator = znrnd.data.PointsOnLattice()\n",
    "data_generator.build_pool(x_points=10, y_points=10)"
   ]
  },
  {
   "cell_type": "markdown",
   "metadata": {},
   "source": [
    "Just for fun let's look at this data to see what we are working with."
   ]
  },
  {
   "cell_type": "code",
   "execution_count": 3,
   "metadata": {},
   "outputs": [
    {
     "data": {
      "image/png": "[encoded data removed]",
      "text/plain": [
       "<Figure size 432x288 with 1 Axes>"
      ]
     },
     "metadata": {
      "needs_background": "light"
     },
     "output_type": "display_data"
    }
   ],
   "source": [
    "x = data_generator.data_pool[:, 0]\n",
    "y = data_generator.data_pool[:, 1]\n",
    "\n",
    "plt.plot(x, y, '.')\n",
    "plt.show()"
   ]
  },
  {
   "cell_type": "markdown",
   "metadata": {},
   "source": [
    "So we have some square lattice of points on which to peform distillation. So what will distillation achieve on a grid like this? It should pick points seperated by N lattice spacing depending on what metric we are using."
   ]
  },
  {
   "cell_type": "markdown",
   "metadata": {},
   "source": [
    "### Defining the models\n",
    "\n",
    "Now we need to build our target and predictor models using the build-in ZnRND models."
   ]
  },
  {
   "cell_type": "code",
   "execution_count": 4,
   "metadata": {},
   "outputs": [],
   "source": [
    "layer_stack = [nn.Dense(features=12), nn.sigmoid, nn.Dense(features=12), nn.sigmoid, nn.Dense(features=12)]"
   ]
  },
  {
   "cell_type": "code",
   "execution_count": 5,
   "metadata": {},
   "outputs": [],
   "source": [
    "target = znrnd.models.FlaxModel(\n",
    "        layer_stack=layer_stack,\n",
    "        optimizer=optax.adam(learning_rate=0.001),\n",
    "        loss_fn=znrnd.loss_functions.MeanPowerLoss(order=2),\n",
    "        input_shape=(2, ),\n",
    "        training_threshold=0.001\n",
    "    )"
   ]
  },
  {
   "cell_type": "code",
   "execution_count": 6,
   "metadata": {},
   "outputs": [],
   "source": [
    "predictor = znrnd.models.FlaxModel(\n",
    "        layer_stack=layer_stack,\n",
    "        optimizer=optax.adam(learning_rate=0.001),\n",
    "        loss_fn=znrnd.loss_functions.MeanPowerLoss(order=2),\n",
    "        input_shape=(2, ),\n",
    "        training_threshold=0.001\n",
    "    )"
   ]
  },
  {
   "cell_type": "markdown",
   "metadata": {},
   "source": [
    "### Defining the agent\n",
    "\n",
    "Finally we can define the actualy RND agent which will perform the data selection procedure."
   ]
  },
  {
   "cell_type": "code",
   "execution_count": 7,
   "metadata": {},
   "outputs": [],
   "source": [
    "agent = znrnd.agents.RND(\n",
    "        point_selector=znrnd.point_selection.GreedySelection(threshold=0.01),\n",
    "        distance_metric=znrnd.distance_metrics.OrderNDifference(order=2),\n",
    "        data_generator=data_generator,\n",
    "        target_network=target,\n",
    "        predictor_network=predictor,\n",
    "        tolerance=8,\n",
    "    )"
   ]
  },
  {
   "cell_type": "markdown",
   "metadata": {},
   "source": [
    "### Running rnd\n",
    "\n",
    "With everything established it is now very simple to run the RND procedure"
   ]
  },
  {
   "cell_type": "code",
   "execution_count": null,
   "metadata": {
    "scrolled": false
   },
   "outputs": [
    {
     "name": "stderr",
     "output_type": "stream",
     "text": [
      "Epoch: 100: 100%|█████████████████████████████| 100/100 [00:11<00:00,  8.66batch/s, test_loss=0.177]\n",
      "Epoch: 110: 100%|████████████████████████████| 110/110 [00:10<00:00, 10.27batch/s, test_loss=0.0116]\n",
      "Epoch: 121: 100%|███████████████████████████| 121/121 [00:11<00:00, 10.17batch/s, test_loss=7.77e-5]\n",
      "/tikhome/stovey/miniconda3/envs/zincware/lib/python3.9/site-packages/sklearn/manifold/_t_sne.py:982: FutureWarning: The PCA initialization in TSNE will change to have the standard deviation of PC1 equal to 1e-4 in 1.2. This will ensure better convergence.\n",
      "  warnings.warn(\n",
      "/tikhome/stovey/miniconda3/envs/zincware/lib/python3.9/site-packages/sklearn/manifold/_t_sne.py:982: FutureWarning: The PCA initialization in TSNE will change to have the standard deviation of PC1 equal to 1e-4 in 1.2. This will ensure better convergence.\n",
      "  warnings.warn(\n",
      "/tikhome/stovey/miniconda3/envs/zincware/lib/python3.9/site-packages/sklearn/manifold/_t_sne.py:982: FutureWarning: The PCA initialization in TSNE will change to have the standard deviation of PC1 equal to 1e-4 in 1.2. This will ensure better convergence.\n",
      "  warnings.warn(\n",
      "Epoch: 100: 100%|██████████████████████████| 100/100 [00:18<00:00,  5.54batch/s, test_loss=0.000844]\n",
      "/tikhome/stovey/miniconda3/envs/zincware/lib/python3.9/site-packages/sklearn/manifold/_t_sne.py:982: FutureWarning: The PCA initialization in TSNE will change to have the standard deviation of PC1 equal to 1e-4 in 1.2. This will ensure better convergence.\n",
      "  warnings.warn(\n",
      "Epoch: 100: 100%|███████████████████████████| 100/100 [00:23<00:00,  4.30batch/s, test_loss=0.00227]\n",
      "Epoch: 110: 100%|███████████████████████████| 110/110 [00:25<00:00,  4.33batch/s, test_loss=0.00155]\n",
      "Epoch: 121: 100%|██████████████████████████| 121/121 [00:29<00:00,  4.15batch/s, test_loss=0.000922]\n",
      "/tikhome/stovey/miniconda3/envs/zincware/lib/python3.9/site-packages/sklearn/manifold/_t_sne.py:982: FutureWarning: The PCA initialization in TSNE will change to have the standard deviation of PC1 equal to 1e-4 in 1.2. This will ensure better convergence.\n",
      "  warnings.warn(\n",
      "Epoch: 100: 100%|██████████████████████████| 100/100 [00:32<00:00,  3.08batch/s, test_loss=0.000354]\n",
      "/tikhome/stovey/miniconda3/envs/zincware/lib/python3.9/site-packages/sklearn/manifold/_t_sne.py:982: FutureWarning: The PCA initialization in TSNE will change to have the standard deviation of PC1 equal to 1e-4 in 1.2. This will ensure better convergence.\n",
      "  warnings.warn(\n",
      "Epoch: 100: 100%|██████████████████████████| 100/100 [00:42<00:00,  2.35batch/s, test_loss=0.000365]\n",
      "/tikhome/stovey/miniconda3/envs/zincware/lib/python3.9/site-packages/sklearn/manifold/_t_sne.py:982: FutureWarning: The PCA initialization in TSNE will change to have the standard deviation of PC1 equal to 1e-4 in 1.2. This will ensure better convergence.\n",
      "  warnings.warn(\n",
      "Epoch: 100: 100%|██████████████████████████| 100/100 [00:53<00:00,  1.88batch/s, test_loss=0.000248]\n",
      "/tikhome/stovey/miniconda3/envs/zincware/lib/python3.9/site-packages/sklearn/manifold/_t_sne.py:982: FutureWarning: The PCA initialization in TSNE will change to have the standard deviation of PC1 equal to 1e-4 in 1.2. This will ensure better convergence.\n",
      "  warnings.warn(\n",
      "Epoch: 30:  29%|████████                    | 29/100 [00:18<00:48,  1.47batch/s, test_loss=0.000281]"
     ]
    }
   ],
   "source": [
    "agent.build_dataset(target_size=5, visualize=True)"
   ]
  },
  {
   "cell_type": "markdown",
   "metadata": {},
   "source": [
    "### Visualizing the results\n",
    "\n",
    "So let's see how well the method performed."
   ]
  },
  {
   "cell_type": "code",
   "execution_count": null,
   "metadata": {},
   "outputs": [],
   "source": [
    "target_set = np.array(agent.target_set)\n",
    "\n",
    "x = data_generator.data_pool[:, 0]\n",
    "y = data_generator.data_pool[:, 1]\n",
    "\n",
    "x_selected = target_set[:, 0]\n",
    "y_selected = target_set[:, 1]\n",
    "\n",
    "plt.plot(x, y, '.', label='Input data')\n",
    "plt.plot(x_selected, y_selected, 'x', label='Selected Points')\n",
    "plt.legend(bbox_to_anchor=(1, 1))\n",
    "plt.show()"
   ]
  },
  {
   "cell_type": "markdown",
   "metadata": {},
   "source": [
    "So we can see that the RND method was able to pick three points quite far away from one another using these parameters."
   ]
  },
  {
   "cell_type": "markdown",
   "metadata": {},
   "source": [
    "### Seeding the process\n",
    "\n",
    "Sometimes you may know where to start the RND from rather than just randomly selecting a point. We take care of this at the initialization of the RND agent. Let's tell the agent to start with the bottom left corner and center top point in the lattice."
   ]
  },
  {
   "cell_type": "code",
   "execution_count": null,
   "metadata": {},
   "outputs": [],
   "source": [
    "agent = znrnd.RND(\n",
    "    point_selector=znrnd.point_selection.GreedySelection(threshold=0.01),\n",
    "    distance_metric=znrnd.distance_metrics.OrderNDifference(order=2),\n",
    "    data_generator=data_generator,\n",
    "    target_network=target,\n",
    "    predictor_network=predictor,\n",
    "    tolerance=8,\n",
    "    target_size=10,\n",
    "    seed_point=[[-5, -5], [0, 5]]\n",
    "    )"
   ]
  },
  {
   "cell_type": "code",
   "execution_count": null,
   "metadata": {},
   "outputs": [],
   "source": [
    "agent.run_rnd()"
   ]
  },
  {
   "cell_type": "code",
   "execution_count": null,
   "metadata": {
    "scrolled": true
   },
   "outputs": [],
   "source": [
    "target_set = np.array(agent.target_set)\n",
    "\n",
    "x = data_generator.data_pool[:, 0]\n",
    "y = data_generator.data_pool[:, 1]\n",
    "\n",
    "x_selected = target_set[:, 0]\n",
    "y_selected = target_set[:, 1]\n",
    "\n",
    "plt.plot(x, y, '.', label='Input data')\n",
    "plt.plot(x_selected, y_selected, 'x', label='Selected Points')\n",
    "plt.legend(bbox_to_anchor=(1, 1))\n",
    "plt.show()"
   ]
  },
  {
   "cell_type": "markdown",
   "metadata": {},
   "source": [
    "In this case we have to consider that two of these points are those seeded in the definition of the agent. We can see that in this case, the RND can only find 3 new points each quite far away from one another."
   ]
  }
 ],
 "metadata": {
  "kernelspec": {
   "display_name": "Python 3 (ipykernel)",
   "language": "python",
   "name": "python3"
  },
  "language_info": {
   "codemirror_mode": {
    "name": "ipython",
    "version": 3
   },
   "file_extension": ".py",
   "mimetype": "text/x-python",
   "name": "python",
   "nbconvert_exporter": "python",
   "pygments_lexer": "ipython3",
   "version": "3.9.12"
  }
 },
 "nbformat": 4,
 "nbformat_minor": 4
}
