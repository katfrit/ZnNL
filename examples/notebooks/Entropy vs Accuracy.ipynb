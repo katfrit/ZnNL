{
 "cells": [
  {
   "cell_type": "markdown",
   "id": "63d24171",
   "metadata": {},
   "source": [
    "# Entropy vs Accuracy\n",
    "\n",
    "Here we study how starting with a maximum entropy dataset, and therefore, maximising the entropy transfer to the model, results in better trained models"
   ]
  },
  {
   "cell_type": "code",
   "execution_count": 1,
   "id": "604b03a0",
   "metadata": {},
   "outputs": [
    {
     "name": "stderr",
     "output_type": "stream",
     "text": [
      "WARNING:absl:No GPU/TPU found, falling back to CPU. (Set TF_CPP_MIN_LOG_LEVEL=0 and rerun for more info.)\n"
     ]
    }
   ],
   "source": [
    "import znrnd\n",
    "\n",
    "import numpy as np\n",
    "import optax\n",
    "from plotly.subplots import make_subplots\n",
    "import plotly.graph_objects as go\n",
    "from neural_tangents import stax\n",
    "\n",
    "import matplotlib.pyplot as plt\n",
    "import copy"
   ]
  },
  {
   "cell_type": "markdown",
   "id": "4c24f1c4",
   "metadata": {},
   "source": [
    "### Trivial test"
   ]
  },
  {
   "cell_type": "code",
   "execution_count": 2,
   "id": "93a92afe",
   "metadata": {},
   "outputs": [
    {
     "name": "stderr",
     "output_type": "stream",
     "text": [
      "2022-05-11 18:26:42.495954: W tensorflow/stream_executor/platform/default/dso_loader.cc:64] Could not load dynamic library 'libcudnn.so.8'; dlerror: libcudnn.so.8: cannot open shared object file: No such file or directory; LD_LIBRARY_PATH: /usr/local/cuda-11.2/targets/x86_64-linux/lib:/usr/local/cuda-11.2/targets/x86_64-linux/lib:\n",
      "2022-05-11 18:26:42.495974: W tensorflow/core/common_runtime/gpu/gpu_device.cc:1850] Cannot dlopen some GPU libraries. Please make sure the missing libraries mentioned above are installed properly if you would like to use GPU. Follow the guide at https://www.tensorflow.org/install/gpu for how to download and setup the required libraries for your platform.\n",
      "Skipping registering GPU devices...\n"
     ]
    }
   ],
   "source": [
    "data_generator = znrnd.data.MNISTGenerator(ds_size=1000)"
   ]
  },
  {
   "cell_type": "code",
   "execution_count": 3,
   "id": "90114409",
   "metadata": {},
   "outputs": [],
   "source": [
    "model = stax.serial(\n",
    "    stax.Conv(32, (3, 3)),\n",
    "    stax.Relu(),\n",
    "    stax.AvgPool(window_shape=(2, 2), strides=(2, 2)),\n",
    "    stax.Conv(64, (3, 3)),\n",
    "    stax.Relu(),\n",
    "    stax.AvgPool(window_shape=(2, 2), strides=(2, 2)),\n",
    "    stax.Flatten(),\n",
    "    stax.Dense(256),\n",
    "    stax.Relu(),\n",
    "    stax.Dense(10)\n",
    ")"
   ]
  },
  {
   "cell_type": "code",
   "execution_count": 4,
   "id": "dd5c1245",
   "metadata": {},
   "outputs": [],
   "source": [
    "production_model = znrnd.models.NTModel(\n",
    "        nt_module=model,\n",
    "        optimizer=optax.adam(learning_rate=0.001),\n",
    "        loss_fn=znrnd.loss_functions.CrossEntropyLoss(classes=10, apply_softmax=False),\n",
    "        input_shape=(1, 28, 28, 1),\n",
    "        training_threshold=0.001\n",
    "    )"
   ]
  },
  {
   "cell_type": "code",
   "execution_count": 5,
   "id": "27857b9c",
   "metadata": {},
   "outputs": [],
   "source": [
    "test_ds = {\n",
    "    \"inputs\": data_generator.ds_test[\"image\"],\n",
    "    \"targets\": data_generator.ds_test[\"label\"]\n",
    "}"
   ]
  },
  {
   "cell_type": "code",
   "execution_count": null,
   "id": "0122d471",
   "metadata": {},
   "outputs": [],
   "source": [
    "maximum_agent = znrnd.agents.ApproximateMaximumEntropy(\n",
    "    target_network=production_model, \n",
    "    data_generator=data_generator,\n",
    "    samples=30\n",
    ")"
   ]
  },
  {
   "cell_type": "code",
   "execution_count": 6,
   "id": "2396144d",
   "metadata": {},
   "outputs": [],
   "source": [
    "\n",
    "random_agent = znrnd.agents.RandomAgent(\n",
    "    data_generator=data_generator\n",
    ")"
   ]
  },
  {
   "cell_type": "code",
   "execution_count": 193,
   "id": "7dfec8c7",
   "metadata": {},
   "outputs": [],
   "source": [
    "max_ds = maximum_agent.build_dataset(target_size=30)"
   ]
  },
  {
   "cell_type": "code",
   "execution_count": 194,
   "id": "b3abb250",
   "metadata": {},
   "outputs": [],
   "source": [
    "ntk = production_model.compute_ntk(x_i=max_ds, normalize=False)"
   ]
  },
  {
   "cell_type": "code",
   "execution_count": 195,
   "id": "b28f00b0",
   "metadata": {},
   "outputs": [],
   "source": [
    "max_entropy = znrnd.analysis.EntropyAnalysis(matrix=ntk[\"empirical\"]).compute_von_neumann_entropy()"
   ]
  },
  {
   "cell_type": "code",
   "execution_count": 196,
   "id": "3fc369c4",
   "metadata": {},
   "outputs": [
    {
     "data": {
      "text/plain": [
       "DeviceArray(0.5237574-0.j, dtype=complex64)"
      ]
     },
     "execution_count": 196,
     "metadata": {},
     "output_type": "execute_result"
    }
   ],
   "source": [
    "max_entropy"
   ]
  },
  {
   "cell_type": "code",
   "execution_count": 197,
   "id": "447bda7c",
   "metadata": {},
   "outputs": [],
   "source": [
    "random_ds = random_agent.build_dataset(target_size=30)"
   ]
  },
  {
   "cell_type": "code",
   "execution_count": 198,
   "id": "f8390cea",
   "metadata": {},
   "outputs": [],
   "source": [
    "ntk = production_model.compute_ntk(x_i=random_ds, normalize=False)"
   ]
  },
  {
   "cell_type": "code",
   "execution_count": 199,
   "id": "bd1fc2e8",
   "metadata": {},
   "outputs": [],
   "source": [
    "random_entropy = znrnd.analysis.EntropyAnalysis(matrix=ntk[\"empirical\"]).compute_von_neumann_entropy()"
   ]
  },
  {
   "cell_type": "code",
   "execution_count": 200,
   "id": "42f211fc",
   "metadata": {},
   "outputs": [
    {
     "data": {
      "text/plain": [
       "DeviceArray(0.49159148-0.j, dtype=complex64)"
      ]
     },
     "execution_count": 200,
     "metadata": {},
     "output_type": "execute_result"
    }
   ],
   "source": [
    "random_entropy"
   ]
  },
  {
   "cell_type": "code",
   "execution_count": 201,
   "id": "fd0c3e8f",
   "metadata": {},
   "outputs": [],
   "source": [
    "max_ds = {\n",
    "    \"inputs\": np.take(data_generator.ds_train[\"image\"], maximum_agent.target_indices, axis=0),\n",
    "    \"targets\": np.take(data_generator.ds_train[\"label\"], maximum_agent.target_indices, axis=0)\n",
    "}\n",
    "random_ds = {\n",
    "    \"inputs\": np.take(data_generator.ds_train[\"image\"], random_agent.target_indices, axis=0),\n",
    "    \"targets\": np.take(data_generator.ds_train[\"label\"], random_agent.target_indices, axis=0)\n",
    "}"
   ]
  },
  {
   "cell_type": "code",
   "execution_count": 202,
   "id": "ebcd8d47",
   "metadata": {},
   "outputs": [
    {
     "name": "stderr",
     "output_type": "stream",
     "text": [
      "Epoch: 500: 100%|███████████████| 500/500 [02:24<00:00,  3.46batch/s, accuracy=0.63, test_loss=2.02]\n",
      "Epoch: 500: 100%|██████████████| 500/500 [01:55<00:00,  4.33batch/s, accuracy=0.502, test_loss=3.82]\n",
      "Epoch: 500: 100%|██████████████| 500/500 [02:21<00:00,  3.54batch/s, accuracy=0.629, test_loss=1.99]\n",
      "Epoch: 500: 100%|████████████████| 500/500 [02:01<00:00,  4.11batch/s, accuracy=0.53, test_loss=4.1]\n",
      "Epoch: 500: 100%|██████████████| 500/500 [02:21<00:00,  3.54batch/s, accuracy=0.627, test_loss=1.88]\n",
      "Epoch: 500: 100%|██████████████| 500/500 [02:04<00:00,  4.00batch/s, accuracy=0.512, test_loss=3.38]\n",
      "Epoch: 500: 100%|██████████████| 500/500 [02:07<00:00,  3.91batch/s, accuracy=0.626, test_loss=2.06]\n",
      "Epoch: 500: 100%|██████████████| 500/500 [02:09<00:00,  3.85batch/s, accuracy=0.507, test_loss=4.07]\n",
      "Epoch: 500: 100%|██████████████| 500/500 [01:57<00:00,  4.26batch/s, accuracy=0.619, test_loss=2.02]\n",
      "Epoch: 500: 100%|██████████████| 500/500 [02:16<00:00,  3.66batch/s, accuracy=0.517, test_loss=3.87]\n"
     ]
    }
   ],
   "source": [
    "max_final_entropy = []\n",
    "random_final_entropy = []\n",
    "max_losses = []\n",
    "random_losses = []\n",
    "max_accuracy = []\n",
    "random_accuracy = []\n",
    "\n",
    "for _ in range(5):\n",
    "    max_model = znrnd.models.NTModel(\n",
    "        nt_module=model,\n",
    "        optimizer=optax.adam(learning_rate=0.001),\n",
    "        loss_fn=znrnd.loss_functions.CrossEntropyLoss(classes=10, apply_softmax=False),\n",
    "        input_shape=(1, 28, 28, 1),\n",
    "        training_threshold=0.001\n",
    "    )\n",
    "    random_model = znrnd.models.NTModel(\n",
    "        nt_module=model,\n",
    "        optimizer=optax.adam(learning_rate=0.001),\n",
    "        loss_fn=znrnd.loss_functions.CrossEntropyLoss(classes=10, apply_softmax=False),\n",
    "        input_shape=(1, 28, 28, 1),\n",
    "        training_threshold=0.001\n",
    "    )\n",
    "    max_loss, max_acc = max_model.train_model(\n",
    "        train_ds=max_ds, test_ds=test_ds, batch_size=10, epochs=500\n",
    "    )\n",
    "    random_loss, random_acc = random_model.train_model(\n",
    "        train_ds=random_ds, test_ds=test_ds, batch_size=10, epochs=500\n",
    "    )\n",
    "    final_max_ntk = max_model.compute_ntk(max_ds[\"inputs\"], normalize=False)\n",
    "    max_final_entropy.append(znrnd.analysis.EntropyAnalysis(\n",
    "        final_max_ntk[\"empirical\"]\n",
    "    ).compute_von_neumann_entropy())\n",
    "    final_random_ntk = random_model.compute_ntk(random_ds[\"inputs\"], normalize=False)\n",
    "    random_final_entropy.append(znrnd.analysis.EntropyAnalysis(\n",
    "        final_random_ntk[\"empirical\"]\n",
    "    ).compute_von_neumann_entropy())\n",
    "    \n",
    "    max_losses.append(max_loss)\n",
    "    max_accuracy.append(max_acc)\n",
    "    random_losses.append(random_loss)\n",
    "    random_accuracy.append(random_acc)"
   ]
  },
  {
   "cell_type": "markdown",
   "id": "3b8b52bb",
   "metadata": {},
   "source": [
    "### Analysis"
   ]
  },
  {
   "cell_type": "code",
   "execution_count": 203,
   "id": "0a26374d",
   "metadata": {},
   "outputs": [],
   "source": [
    "max_delta_s = max_entropy - np.array(max_final_entropy)"
   ]
  },
  {
   "cell_type": "code",
   "execution_count": 204,
   "id": "fb6e6405",
   "metadata": {},
   "outputs": [],
   "source": [
    "max_delta_s_error = np.std(max_delta_s) / np.sqrt(5)\n",
    "max_delta_s_ave = np.real(np.mean(max_delta_s))"
   ]
  },
  {
   "cell_type": "code",
   "execution_count": 205,
   "id": "d37927b7",
   "metadata": {},
   "outputs": [],
   "source": [
    "random_delta_s = random_entropy - np.array(random_final_entropy)"
   ]
  },
  {
   "cell_type": "code",
   "execution_count": 206,
   "id": "906d0cf4",
   "metadata": {},
   "outputs": [],
   "source": [
    "random_delta_s_error = np.std(random_delta_s) / np.sqrt(5)\n",
    "random_delta_s_ave = np.real(np.mean(random_delta_s))"
   ]
  },
  {
   "cell_type": "code",
   "execution_count": 207,
   "id": "60aab414",
   "metadata": {},
   "outputs": [],
   "source": [
    "max_min_loss = np.min(max_losses, axis=0).mean()\n",
    "random_min_loss = np.min(random_losses, axis=0).mean()"
   ]
  },
  {
   "cell_type": "code",
   "execution_count": 208,
   "id": "849b4e07",
   "metadata": {},
   "outputs": [
    {
     "data": {
      "image/png": "[encoded data removed]",
      "text/plain": [
       "<Figure size 432x288 with 1 Axes>"
      ]
     },
     "metadata": {
      "needs_background": "light"
     },
     "output_type": "display_data"
    }
   ],
   "source": [
    "plt.errorbar(\n",
    "    [max_min_loss, random_min_loss], \n",
    "    [max_delta_s_ave, random_delta_s_ave], \n",
    "    yerr=[float(max_delta_s_error), float(random_delta_s_error)],\n",
    "    marker='o'\n",
    ")\n",
    "plt.show()"
   ]
  },
  {
   "cell_type": "code",
   "execution_count": 9,
   "id": "8bf39d5c",
   "metadata": {},
   "outputs": [
    {
     "name": "stderr",
     "output_type": "stream",
     "text": [
      "Epoch: 500: 100%|██████████████| 500/500 [01:54<00:00,  4.35batch/s, accuracy=0.607, test_loss=2.67]\n",
      "Epoch: 500: 100%|██████████████| 500/500 [02:17<00:00,  3.63batch/s, accuracy=0.594, test_loss=2.42]\n",
      "Epoch: 500: 100%|████████████████| 500/500 [01:53<00:00,  4.42batch/s, accuracy=0.6, test_loss=2.55]\n",
      "Epoch: 500: 100%|███████████████| 500/500 [02:22<00:00,  3.50batch/s, accuracy=0.599, test_loss=2.5]\n",
      "Epoch: 500: 100%|███████████████| 500/500 [02:03<00:00,  4.06batch/s, accuracy=0.611, test_loss=2.5]\n",
      "Epoch: 500: 100%|██████████████| 500/500 [02:22<00:00,  3.51batch/s, accuracy=0.687, test_loss=2.78]\n",
      "Epoch: 500: 100%|██████████████| 500/500 [02:05<00:00,  4.00batch/s, accuracy=0.676, test_loss=2.93]\n",
      "Epoch: 500: 100%|██████████████| 500/500 [02:13<00:00,  3.75batch/s, accuracy=0.681, test_loss=2.69]\n",
      "Epoch: 500: 100%|██████████████| 500/500 [02:04<00:00,  4.03batch/s, accuracy=0.678, test_loss=2.96]\n",
      "Epoch: 500: 100%|██████████████| 500/500 [01:57<00:00,  4.27batch/s, accuracy=0.682, test_loss=2.99]\n",
      "Epoch: 500: 100%|██████████████| 500/500 [02:11<00:00,  3.81batch/s, accuracy=0.645, test_loss=3.65]\n",
      "Epoch: 500: 100%|███████████████| 500/500 [01:57<00:00,  4.25batch/s, accuracy=0.63, test_loss=4.26]\n",
      "Epoch: 500: 100%|██████████████| 500/500 [02:18<00:00,  3.61batch/s, accuracy=0.647, test_loss=4.06]\n",
      "Epoch: 500: 100%|███████████████| 500/500 [01:54<00:00,  4.39batch/s, accuracy=0.64, test_loss=4.65]\n",
      "Epoch: 500: 100%|██████████████| 500/500 [02:22<00:00,  3.52batch/s, accuracy=0.631, test_loss=4.37]\n",
      "Epoch: 500: 100%|██████████████| 500/500 [01:56<00:00,  4.28batch/s, accuracy=0.658, test_loss=1.42]\n",
      "Epoch: 500: 100%|███████████████| 500/500 [02:23<00:00,  3.49batch/s, accuracy=0.694, test_loss=1.3]\n",
      "Epoch: 500: 100%|██████████████| 500/500 [02:04<00:00,  4.02batch/s, accuracy=0.673, test_loss=1.37]\n",
      "Epoch: 500: 100%|███████████████| 500/500 [02:14<00:00,  3.71batch/s, accuracy=0.665, test_loss=1.5]\n",
      "Epoch: 500: 100%|██████████████| 500/500 [02:06<00:00,  3.94batch/s, accuracy=0.675, test_loss=1.38]\n",
      "Epoch: 500: 100%|██████████████| 500/500 [02:08<00:00,  3.90batch/s, accuracy=0.685, test_loss=1.39]\n",
      "Epoch: 500: 100%|██████████████| 500/500 [02:06<00:00,  3.97batch/s, accuracy=0.679, test_loss=1.52]\n",
      "Epoch: 500: 100%|██████████████| 500/500 [01:59<00:00,  4.20batch/s, accuracy=0.675, test_loss=1.52]\n",
      "Epoch: 500: 100%|██████████████| 500/500 [02:12<00:00,  3.77batch/s, accuracy=0.664, test_loss=1.67]\n",
      "Epoch: 500: 100%|███████████████| 500/500 [01:51<00:00,  4.50batch/s, accuracy=0.669, test_loss=1.6]\n",
      "Epoch: 500: 100%|██████████████| 500/500 [02:19<00:00,  3.59batch/s, accuracy=0.694, test_loss=2.18]\n",
      "Epoch: 500: 100%|██████████████| 500/500 [01:54<00:00,  4.35batch/s, accuracy=0.695, test_loss=2.24]\n",
      "Epoch: 500: 100%|██████████████| 500/500 [02:24<00:00,  3.45batch/s, accuracy=0.694, test_loss=2.29]\n",
      "Epoch: 500: 100%|██████████████| 500/500 [02:01<00:00,  4.12batch/s, accuracy=0.686, test_loss=2.18]\n",
      "Epoch: 500: 100%|██████████████| 500/500 [02:18<00:00,  3.62batch/s, accuracy=0.686, test_loss=2.22]\n",
      "Epoch: 500: 100%|██████████████| 500/500 [02:04<00:00,  4.03batch/s, accuracy=0.626, test_loss=2.46]\n",
      "Epoch: 500: 100%|██████████████| 500/500 [02:12<00:00,  3.79batch/s, accuracy=0.608, test_loss=2.78]\n",
      "Epoch: 500: 100%|██████████████| 500/500 [02:05<00:00,  3.99batch/s, accuracy=0.632, test_loss=2.69]\n",
      "Epoch: 500: 100%|██████████████| 500/500 [01:59<00:00,  4.20batch/s, accuracy=0.611, test_loss=2.68]\n",
      "Epoch: 500: 100%|██████████████| 500/500 [02:13<00:00,  3.74batch/s, accuracy=0.603, test_loss=2.91]\n",
      "Epoch: 500: 100%|██████████████| 500/500 [01:56<00:00,  4.28batch/s, accuracy=0.565, test_loss=4.16]\n",
      "Epoch: 500: 100%|██████████████| 500/500 [02:16<00:00,  3.68batch/s, accuracy=0.564, test_loss=4.54]\n",
      "Epoch: 500: 100%|█████████████████| 500/500 [01:52<00:00,  4.43batch/s, accuracy=0.581, test_loss=4]\n",
      "Epoch: 500: 100%|██████████████| 500/500 [02:22<00:00,  3.51batch/s, accuracy=0.578, test_loss=3.74]\n",
      "Epoch: 500: 100%|██████████████| 500/500 [02:01<00:00,  4.12batch/s, accuracy=0.574, test_loss=3.78]\n",
      "Epoch: 500: 100%|██████████████| 500/500 [02:24<00:00,  3.47batch/s, accuracy=0.561, test_loss=2.56]\n",
      "Epoch: 500: 100%|██████████████| 500/500 [02:02<00:00,  4.07batch/s, accuracy=0.572, test_loss=2.49]\n",
      "Epoch: 500: 100%|████████████████| 500/500 [02:15<00:00,  3.68batch/s, accuracy=0.55, test_loss=2.7]\n",
      "Epoch: 500: 100%|██████████████| 500/500 [02:06<00:00,  3.95batch/s, accuracy=0.554, test_loss=2.56]\n",
      "Epoch: 500: 100%|██████████████| 500/500 [02:02<00:00,  4.08batch/s, accuracy=0.581, test_loss=2.75]\n",
      "Epoch: 500: 100%|██████████████| 500/500 [02:05<00:00,  3.98batch/s, accuracy=0.623, test_loss=2.08]\n",
      "Epoch: 500: 100%|██████████████| 500/500 [02:00<00:00,  4.15batch/s, accuracy=0.628, test_loss=2.02]\n",
      "Epoch: 500: 100%|██████████████| 500/500 [02:14<00:00,  3.73batch/s, accuracy=0.623, test_loss=2.24]\n",
      "Epoch: 500: 100%|██████████████| 500/500 [01:50<00:00,  4.51batch/s, accuracy=0.618, test_loss=2.16]\n",
      "Epoch: 500: 100%|██████████████| 500/500 [02:21<00:00,  3.52batch/s, accuracy=0.639, test_loss=1.95]\n",
      "Epoch: 500: 100%|██████████████| 500/500 [01:55<00:00,  4.33batch/s, accuracy=0.646, test_loss=1.62]\n",
      "Epoch: 500: 100%|██████████████| 500/500 [02:23<00:00,  3.49batch/s, accuracy=0.648, test_loss=1.67]\n",
      "Epoch: 500: 100%|███████████████| 500/500 [02:00<00:00,  4.15batch/s, accuracy=0.64, test_loss=1.81]\n",
      "Epoch: 500: 100%|██████████████| 500/500 [02:18<00:00,  3.61batch/s, accuracy=0.633, test_loss=1.73]\n",
      "Epoch: 500: 100%|██████████████| 500/500 [02:08<00:00,  3.89batch/s, accuracy=0.641, test_loss=1.68]\n",
      "Epoch: 500: 100%|██████████████| 500/500 [02:13<00:00,  3.75batch/s, accuracy=0.561, test_loss=2.07]\n",
      "Epoch: 500: 100%|██████████████| 500/500 [02:03<00:00,  4.06batch/s, accuracy=0.558, test_loss=2.16]\n",
      "Epoch: 500: 100%|██████████████| 500/500 [01:57<00:00,  4.25batch/s, accuracy=0.571, test_loss=1.93]\n",
      "Epoch: 500: 100%|█████████████████| 500/500 [02:11<00:00,  3.79batch/s, accuracy=0.571, test_loss=2]\n",
      "Epoch: 500: 100%|██████████████| 500/500 [01:52<00:00,  4.44batch/s, accuracy=0.582, test_loss=2.05]\n",
      "Epoch: 500: 100%|██████████████| 500/500 [02:17<00:00,  3.63batch/s, accuracy=0.637, test_loss=4.62]\n",
      "Epoch: 500: 100%|█████████████████| 500/500 [01:54<00:00,  4.37batch/s, accuracy=0.628, test_loss=4]\n",
      "Epoch: 500: 100%|███████████████| 500/500 [02:23<00:00,  3.50batch/s, accuracy=0.64, test_loss=3.86]\n",
      "Epoch: 500: 100%|██████████████| 500/500 [02:01<00:00,  4.13batch/s, accuracy=0.624, test_loss=4.37]\n",
      "Epoch: 500: 100%|██████████████| 500/500 [02:19<00:00,  3.57batch/s, accuracy=0.631, test_loss=4.26]\n",
      "Epoch: 500: 100%|██████████████| 500/500 [02:03<00:00,  4.05batch/s, accuracy=0.567, test_loss=4.26]\n",
      "Epoch: 500: 100%|██████████████| 500/500 [02:12<00:00,  3.76batch/s, accuracy=0.578, test_loss=4.64]\n",
      "Epoch: 500: 100%|██████████████| 500/500 [02:05<00:00,  4.00batch/s, accuracy=0.567, test_loss=4.45]\n",
      "Epoch: 500: 100%|███████████████| 500/500 [01:59<00:00,  4.17batch/s, accuracy=0.58, test_loss=4.71]\n",
      "Epoch: 500: 100%|██████████████| 500/500 [02:12<00:00,  3.77batch/s, accuracy=0.578, test_loss=4.67]\n",
      "Epoch: 500: 100%|██████████████| 500/500 [01:55<00:00,  4.31batch/s, accuracy=0.596, test_loss=2.51]\n",
      "Epoch: 500: 100%|███████████████| 500/500 [02:14<00:00,  3.71batch/s, accuracy=0.595, test_loss=2.2]\n",
      "Epoch: 500: 100%|██████████████| 500/500 [01:50<00:00,  4.52batch/s, accuracy=0.586, test_loss=2.38]\n",
      "Epoch: 500: 100%|██████████████| 500/500 [02:22<00:00,  3.51batch/s, accuracy=0.585, test_loss=2.51]\n",
      "Epoch: 500: 100%|████████████████| 500/500 [01:59<00:00,  4.20batch/s, accuracy=0.6, test_loss=2.21]\n",
      "Epoch: 500: 100%|███████████████| 500/500 [02:24<00:00,  3.47batch/s, accuracy=0.611, test_loss=2.1]\n",
      "Epoch: 500: 100%|██████████████| 500/500 [02:00<00:00,  4.14batch/s, accuracy=0.642, test_loss=1.84]\n",
      "Epoch: 500: 100%|██████████████| 500/500 [02:17<00:00,  3.62batch/s, accuracy=0.607, test_loss=2.14]\n",
      "Epoch: 500: 100%|██████████████| 500/500 [02:08<00:00,  3.89batch/s, accuracy=0.629, test_loss=1.91]\n",
      "Epoch: 500: 100%|██████████████| 500/500 [02:03<00:00,  4.06batch/s, accuracy=0.618, test_loss=1.96]\n",
      "Epoch: 500: 100%|██████████████| 500/500 [02:04<00:00,  4.02batch/s, accuracy=0.638, test_loss=1.96]\n"
     ]
    },
    {
     "name": "stderr",
     "output_type": "stream",
     "text": [
      "Epoch: 500: 100%|██████████████| 500/500 [01:57<00:00,  4.25batch/s, accuracy=0.645, test_loss=2.13]\n",
      "Epoch: 500: 100%|█████████████████| 500/500 [02:13<00:00,  3.76batch/s, accuracy=0.637, test_loss=2]\n",
      "Epoch: 500: 100%|██████████████| 500/500 [01:51<00:00,  4.48batch/s, accuracy=0.632, test_loss=1.97]\n",
      "Epoch: 500: 100%|██████████████| 500/500 [02:19<00:00,  3.57batch/s, accuracy=0.645, test_loss=2.04]\n",
      "Epoch: 500: 100%|██████████████| 500/500 [01:53<00:00,  4.41batch/s, accuracy=0.638, test_loss=1.74]\n",
      "Epoch: 500: 100%|██████████████| 500/500 [02:23<00:00,  3.49batch/s, accuracy=0.623, test_loss=1.91]\n",
      "Epoch: 500: 100%|██████████████| 500/500 [01:59<00:00,  4.19batch/s, accuracy=0.634, test_loss=1.78]\n",
      "Epoch: 500: 100%|██████████████| 500/500 [02:19<00:00,  3.59batch/s, accuracy=0.636, test_loss=1.75]\n",
      "Epoch: 500: 100%|██████████████| 500/500 [02:07<00:00,  3.93batch/s, accuracy=0.636, test_loss=1.71]\n",
      "Epoch: 500: 100%|██████████████| 500/500 [02:17<00:00,  3.65batch/s, accuracy=0.691, test_loss=1.37]\n",
      "Epoch: 500: 100%|██████████████| 500/500 [02:06<00:00,  3.96batch/s, accuracy=0.694, test_loss=1.41]\n",
      "Epoch: 500: 100%|██████████████| 500/500 [02:00<00:00,  4.14batch/s, accuracy=0.658, test_loss=1.75]\n",
      "Epoch: 500: 100%|██████████████| 500/500 [02:10<00:00,  3.82batch/s, accuracy=0.672, test_loss=1.56]\n",
      "Epoch: 500: 100%|██████████████| 500/500 [01:57<00:00,  4.26batch/s, accuracy=0.669, test_loss=1.44]\n",
      "Epoch: 500: 100%|██████████████| 500/500 [02:12<00:00,  3.76batch/s, accuracy=0.599, test_loss=2.23]\n",
      "Epoch: 500: 100%|██████████████| 500/500 [01:49<00:00,  4.57batch/s, accuracy=0.581, test_loss=2.57]\n",
      "Epoch: 500: 100%|██████████████| 500/500 [02:21<00:00,  3.53batch/s, accuracy=0.595, test_loss=2.27]\n",
      "Epoch: 500: 100%|██████████████| 500/500 [01:57<00:00,  4.26batch/s, accuracy=0.594, test_loss=2.15]\n",
      "Epoch: 500: 100%|██████████████| 500/500 [02:23<00:00,  3.49batch/s, accuracy=0.593, test_loss=2.37]\n",
      "Epoch: 500: 100%|██████████████| 500/500 [02:00<00:00,  4.15batch/s, accuracy=0.554, test_loss=5.06]\n",
      "Epoch: 500: 100%|██████████████| 500/500 [02:19<00:00,  3.59batch/s, accuracy=0.557, test_loss=5.55]\n",
      "Epoch: 500: 100%|██████████████| 500/500 [02:06<00:00,  3.94batch/s, accuracy=0.548, test_loss=4.64]\n",
      "Epoch: 500: 100%|██████████████| 500/500 [02:05<00:00,  3.98batch/s, accuracy=0.544, test_loss=4.93]\n",
      "Epoch: 500: 100%|██████████████| 500/500 [02:06<00:00,  3.95batch/s, accuracy=0.545, test_loss=4.96]\n",
      "Epoch: 500: 100%|██████████████| 500/500 [01:58<00:00,  4.23batch/s, accuracy=0.657, test_loss=1.69]\n",
      "Epoch: 500: 100%|███████████████| 500/500 [02:12<00:00,  3.78batch/s, accuracy=0.665, test_loss=1.5]\n",
      "Epoch: 500: 100%|███████████████| 500/500 [01:54<00:00,  4.37batch/s, accuracy=0.68, test_loss=1.45]\n",
      "Epoch: 500: 100%|███████████████| 500/500 [02:18<00:00,  3.61batch/s, accuracy=0.66, test_loss=1.63]\n",
      "Epoch: 500: 100%|██████████████| 500/500 [01:54<00:00,  4.36batch/s, accuracy=0.667, test_loss=1.67]\n",
      "Epoch: 500: 100%|██████████████| 500/500 [02:20<00:00,  3.57batch/s, accuracy=0.694, test_loss=1.29]\n",
      "Epoch: 500: 100%|██████████████| 500/500 [01:56<00:00,  4.28batch/s, accuracy=0.674, test_loss=1.44]\n",
      "Epoch: 500: 100%|██████████████| 500/500 [02:21<00:00,  3.53batch/s, accuracy=0.662, test_loss=1.49]\n",
      "Epoch: 500: 100%|██████████████| 500/500 [02:03<00:00,  4.05batch/s, accuracy=0.678, test_loss=1.47]\n",
      "Epoch: 500: 100%|██████████████| 500/500 [02:13<00:00,  3.74batch/s, accuracy=0.672, test_loss=1.42]\n",
      "Epoch: 500: 100%|██████████████| 500/500 [02:06<00:00,  3.96batch/s, accuracy=0.595, test_loss=2.42]\n",
      "Epoch: 500: 100%|██████████████| 500/500 [02:06<00:00,  3.96batch/s, accuracy=0.603, test_loss=2.02]\n",
      "Epoch: 500: 100%|██████████████| 500/500 [02:05<00:00,  4.00batch/s, accuracy=0.614, test_loss=1.93]\n",
      "Epoch: 500: 100%|██████████████| 500/500 [01:56<00:00,  4.28batch/s, accuracy=0.611, test_loss=1.98]\n",
      "Epoch: 500: 100%|██████████████| 500/500 [02:13<00:00,  3.75batch/s, accuracy=0.601, test_loss=2.04]\n",
      "Epoch: 500: 100%|██████████████| 500/500 [01:53<00:00,  4.42batch/s, accuracy=0.625, test_loss=1.95]\n",
      "Epoch: 500: 100%|██████████████| 500/500 [02:18<00:00,  3.62batch/s, accuracy=0.638, test_loss=1.84]\n",
      "Epoch: 500: 100%|██████████████| 500/500 [01:54<00:00,  4.35batch/s, accuracy=0.643, test_loss=1.88]\n",
      "Epoch: 500: 100%|██████████████| 500/500 [02:23<00:00,  3.48batch/s, accuracy=0.649, test_loss=2.03]\n",
      "Epoch: 500: 100%|██████████████| 500/500 [02:00<00:00,  4.13batch/s, accuracy=0.646, test_loss=1.71]\n",
      "Epoch: 500: 100%|██████████████| 500/500 [02:21<00:00,  3.54batch/s, accuracy=0.535, test_loss=3.17]\n",
      "Epoch: 500: 100%|█████████████████| 500/500 [02:03<00:00,  4.04batch/s, accuracy=0.545, test_loss=3]\n",
      "Epoch: 500: 100%|██████████████| 500/500 [02:10<00:00,  3.83batch/s, accuracy=0.543, test_loss=3.12]\n",
      "Epoch: 500: 100%|██████████████| 500/500 [02:03<00:00,  4.04batch/s, accuracy=0.538, test_loss=3.55]\n",
      "Epoch: 500: 100%|██████████████| 500/500 [01:56<00:00,  4.28batch/s, accuracy=0.547, test_loss=3.13]\n",
      "Epoch: 500: 100%|██████████████| 500/500 [02:11<00:00,  3.81batch/s, accuracy=0.556, test_loss=4.67]\n",
      "Epoch: 500: 100%|██████████████| 500/500 [01:56<00:00,  4.30batch/s, accuracy=0.556, test_loss=4.48]\n",
      "Epoch: 500: 100%|██████████████| 500/500 [02:17<00:00,  3.63batch/s, accuracy=0.551, test_loss=4.48]\n",
      "Epoch: 500: 100%|██████████████| 500/500 [01:53<00:00,  4.39batch/s, accuracy=0.555, test_loss=4.09]\n",
      "Epoch: 500: 100%|██████████████| 500/500 [02:21<00:00,  3.53batch/s, accuracy=0.556, test_loss=4.59]\n",
      "Epoch: 500: 100%|██████████████| 500/500 [01:54<00:00,  4.36batch/s, accuracy=0.686, test_loss=1.47]\n",
      "Epoch: 500: 100%|███████████████| 500/500 [02:21<00:00,  3.53batch/s, accuracy=0.663, test_loss=1.6]\n",
      "Epoch: 500: 100%|███████████████| 500/500 [02:03<00:00,  4.05batch/s, accuracy=0.662, test_loss=1.6]\n",
      "Epoch: 500: 100%|███████████████| 500/500 [02:11<00:00,  3.81batch/s, accuracy=0.65, test_loss=1.58]\n",
      "Epoch: 500: 100%|██████████████| 500/500 [02:06<00:00,  3.97batch/s, accuracy=0.678, test_loss=1.38]\n",
      "Epoch: 500: 100%|██████████████| 500/500 [02:05<00:00,  3.98batch/s, accuracy=0.547, test_loss=4.76]\n",
      "Epoch: 500: 100%|██████████████| 500/500 [02:05<00:00,  3.97batch/s, accuracy=0.529, test_loss=4.82]\n",
      "Epoch: 500: 100%|█████████████████| 500/500 [01:57<00:00,  4.25batch/s, accuracy=0.529, test_loss=5]\n",
      "Epoch: 500: 100%|██████████████| 500/500 [02:13<00:00,  3.76batch/s, accuracy=0.533, test_loss=4.94]\n",
      "Epoch: 500: 100%|██████████████| 500/500 [01:49<00:00,  4.56batch/s, accuracy=0.534, test_loss=5.09]\n",
      "Epoch: 500: 100%|██████████████| 500/500 [02:18<00:00,  3.62batch/s, accuracy=0.567, test_loss=4.22]\n",
      "Epoch: 500: 100%|██████████████| 500/500 [01:55<00:00,  4.33batch/s, accuracy=0.559, test_loss=4.17]\n",
      "Epoch: 500: 100%|██████████████| 500/500 [02:22<00:00,  3.50batch/s, accuracy=0.569, test_loss=3.84]\n",
      "Epoch: 500: 100%|██████████████| 500/500 [02:02<00:00,  4.09batch/s, accuracy=0.573, test_loss=3.63]\n",
      "Epoch: 500: 100%|██████████████| 500/500 [02:14<00:00,  3.72batch/s, accuracy=0.567, test_loss=3.65]\n"
     ]
    }
   ],
   "source": [
    "start_entropy = []\n",
    "final_entropy = []\n",
    "final_entropy_error = []\n",
    "losses = {}\n",
    "accuracy = {}\n",
    "train_metrics = {}\n",
    "\n",
    "for i in range(30):\n",
    "    random_ds = random_agent.build_dataset(target_size=30)\n",
    "    ntk = production_model.compute_ntk(x_i=random_ds, normalize=False)\n",
    "    start_entropy.append(\n",
    "        znrnd.analysis.EntropyAnalysis(\n",
    "            matrix=ntk[\"empirical\"]\n",
    "        ).compute_von_neumann_entropy()\n",
    "    )\n",
    "    random_ds = {\n",
    "    \"inputs\": np.take(data_generator.ds_train[\"image\"], random_agent.target_indices, axis=0),\n",
    "    \"targets\": np.take(data_generator.ds_train[\"label\"], random_agent.target_indices, axis=0)\n",
    "}\n",
    "    entropy = []\n",
    "    losses[i] = []\n",
    "    accuracy[i] = []\n",
    "    train_metrics[i] = []\n",
    "    for _ in range(5):\n",
    "        random_model = znrnd.models.NTModel(\n",
    "            nt_module=model,\n",
    "            optimizer=optax.adam(learning_rate=0.001),\n",
    "            loss_fn=znrnd.loss_functions.CrossEntropyLoss(classes=10, apply_softmax=False),\n",
    "            input_shape=(1, 28, 28, 1),\n",
    "            training_threshold=0.001\n",
    "        )\n",
    "        random_loss, random_acc, training_metrics = random_model.train_model(\n",
    "            train_ds=random_ds, test_ds=test_ds, batch_size=10, epochs=500\n",
    "        )\n",
    "\n",
    "        final_random_ntk = random_model.compute_ntk(random_ds[\"inputs\"], normalize=False)\n",
    "        entropy.append(znrnd.analysis.EntropyAnalysis(\n",
    "            final_random_ntk[\"empirical\"]\n",
    "        ).compute_von_neumann_entropy())\n",
    "\n",
    "        losses[i].append(random_loss)\n",
    "        accuracy[i].append(random_acc)\n",
    "        train_metrics[i].append(training_metrics)\n",
    "        \n",
    "    final_entropy.append(np.mean(entropy))\n",
    "    final_entropy.append(np.std(entropy) / np.sqrt(5))"
   ]
  },
  {
   "cell_type": "code",
   "execution_count": null,
   "id": "7b86dee1",
   "metadata": {},
   "outputs": [],
   "source": []
  }
 ],
 "metadata": {
  "kernelspec": {
   "display_name": "Python 3 (ipykernel)",
   "language": "python",
   "name": "python3"
  },
  "language_info": {
   "codemirror_mode": {
    "name": "ipython",
    "version": 3
   },
   "file_extension": ".py",
   "mimetype": "text/x-python",
   "name": "python",
   "nbconvert_exporter": "python",
   "pygments_lexer": "ipython3",
   "version": "3.9.12"
  }
 },
 "nbformat": 4,
 "nbformat_minor": 5
}
