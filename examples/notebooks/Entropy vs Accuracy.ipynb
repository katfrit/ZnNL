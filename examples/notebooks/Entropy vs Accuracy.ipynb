{
 "cells": [
  {
   "cell_type": "markdown",
   "id": "63d24171",
   "metadata": {},
   "source": [
    "# Entropy vs Accuracy\n",
    "\n",
    "Here we study how starting with a maximum entropy dataset, and therefore, maximising the entropy transfer to the model, results in better trained models"
   ]
  },
  {
   "cell_type": "code",
   "execution_count": 1,
   "id": "604b03a0",
   "metadata": {},
   "outputs": [
    {
     "name": "stderr",
     "output_type": "stream",
     "text": [
      "/Users/samueltovey/miniconda3/envs/zincware/lib/python3.8/site-packages/jax/_src/lib/__init__.py:33: UserWarning: JAX on Mac ARM machines is experimental and minimally tested. Please see https://github.com/google/jax/issues/5501 in the event of problems.\n",
      "  warnings.warn(\"JAX on Mac ARM machines is experimental and minimally tested. \"\n",
      "WARNING:absl:No GPU/TPU found, falling back to CPU. (Set TF_CPP_MIN_LOG_LEVEL=0 and rerun for more info.)\n"
     ]
    }
   ],
   "source": [
    "import znrnd\n",
    "\n",
    "import numpy as np\n",
    "import optax\n",
    "from plotly.subplots import make_subplots\n",
    "import plotly.graph_objects as go\n",
    "from neural_tangents import stax\n",
    "\n",
    "import matplotlib.pyplot as plt\n",
    "import copy"
   ]
  },
  {
   "cell_type": "markdown",
   "id": "4c24f1c4",
   "metadata": {},
   "source": [
    "### Trivial test"
   ]
  },
  {
   "cell_type": "code",
   "execution_count": 2,
   "id": "93a92afe",
   "metadata": {},
   "outputs": [
    {
     "name": "stdout",
     "output_type": "stream",
     "text": [
      "Metal device set to: Apple M1\n"
     ]
    },
    {
     "name": "stderr",
     "output_type": "stream",
     "text": [
      "2022-05-13 14:28:50.427227: W tensorflow/core/platform/profile_utils/cpu_utils.cc:128] Failed to get CPU frequency: 0 Hz\n"
     ]
    }
   ],
   "source": [
    "data_generator = znrnd.data.MNISTGenerator(ds_size=1000)"
   ]
  },
  {
   "cell_type": "code",
   "execution_count": 3,
   "id": "90114409",
   "metadata": {},
   "outputs": [],
   "source": [
    "model = stax.serial(\n",
    "    stax.Conv(32, (3, 3)),\n",
    "    stax.Relu(),\n",
    "    stax.AvgPool(window_shape=(2, 2), strides=(2, 2)),\n",
    "    stax.Conv(64, (3, 3)),\n",
    "    stax.Relu(),\n",
    "    stax.AvgPool(window_shape=(2, 2), strides=(2, 2)),\n",
    "    stax.Flatten(),\n",
    "    stax.Dense(256),\n",
    "    stax.Relu(),\n",
    "    stax.Dense(10)\n",
    ")"
   ]
  },
  {
   "cell_type": "code",
   "execution_count": 4,
   "id": "dd5c1245",
   "metadata": {},
   "outputs": [],
   "source": [
    "production_model = znrnd.models.NTModel(\n",
    "        nt_module=model,\n",
    "        optimizer=optax.adam(learning_rate=0.001),\n",
    "        loss_fn=znrnd.loss_functions.CrossEntropyLoss(classes=10, apply_softmax=False),\n",
    "        input_shape=(1, 28, 28, 1),\n",
    "        training_threshold=0.001\n",
    "    )"
   ]
  },
  {
   "cell_type": "code",
   "execution_count": 5,
   "id": "27857b9c",
   "metadata": {},
   "outputs": [],
   "source": [
    "test_ds = {\n",
    "    \"inputs\": data_generator.ds_test[\"image\"],\n",
    "    \"targets\": data_generator.ds_test[\"label\"]\n",
    "}"
   ]
  },
  {
   "cell_type": "code",
   "execution_count": 16,
   "id": "0122d471",
   "metadata": {},
   "outputs": [],
   "source": [
    "maximum_agent = znrnd.agents.ApproximateMaximumEntropy(\n",
    "    target_network=production_model, \n",
    "    data_generator=data_generator,\n",
    "    samples=30\n",
    ")"
   ]
  },
  {
   "cell_type": "code",
   "execution_count": 17,
   "id": "2396144d",
   "metadata": {},
   "outputs": [],
   "source": [
    "\n",
    "random_agent = znrnd.agents.RandomAgent(\n",
    "    data_generator=data_generator\n",
    ")"
   ]
  },
  {
   "cell_type": "code",
   "execution_count": 18,
   "id": "7dfec8c7",
   "metadata": {},
   "outputs": [],
   "source": [
    "max_ds = maximum_agent.build_dataset(target_size=30)"
   ]
  },
  {
   "cell_type": "code",
   "execution_count": 19,
   "id": "b3abb250",
   "metadata": {},
   "outputs": [],
   "source": [
    "ntk = production_model.compute_ntk(x_i=max_ds, normalize=False)"
   ]
  },
  {
   "cell_type": "code",
   "execution_count": 20,
   "id": "b28f00b0",
   "metadata": {},
   "outputs": [],
   "source": [
    "max_entropy = znrnd.analysis.EntropyAnalysis(matrix=ntk[\"empirical\"]).compute_von_neumann_entropy()"
   ]
  },
  {
   "cell_type": "code",
   "execution_count": 21,
   "id": "3fc369c4",
   "metadata": {},
   "outputs": [
    {
     "data": {
      "text/plain": [
       "DeviceArray(0.5621587-0.j, dtype=complex64)"
      ]
     },
     "execution_count": 21,
     "metadata": {},
     "output_type": "execute_result"
    }
   ],
   "source": [
    "max_entropy"
   ]
  },
  {
   "cell_type": "code",
   "execution_count": 12,
   "id": "447bda7c",
   "metadata": {},
   "outputs": [],
   "source": [
    "random_ds = random_agent.build_dataset(target_size=30)"
   ]
  },
  {
   "cell_type": "code",
   "execution_count": 13,
   "id": "f8390cea",
   "metadata": {},
   "outputs": [],
   "source": [
    "ntk = production_model.compute_ntk(x_i=random_ds, normalize=False)"
   ]
  },
  {
   "cell_type": "code",
   "execution_count": 14,
   "id": "bd1fc2e8",
   "metadata": {},
   "outputs": [],
   "source": [
    "random_entropy = znrnd.analysis.EntropyAnalysis(matrix=ntk[\"empirical\"]).compute_von_neumann_entropy()"
   ]
  },
  {
   "cell_type": "code",
   "execution_count": 15,
   "id": "42f211fc",
   "metadata": {},
   "outputs": [
    {
     "data": {
      "text/plain": [
       "DeviceArray(0.5275276-0.j, dtype=complex64)"
      ]
     },
     "execution_count": 15,
     "metadata": {},
     "output_type": "execute_result"
    }
   ],
   "source": [
    "random_entropy"
   ]
  },
  {
   "cell_type": "code",
   "execution_count": 16,
   "id": "fd0c3e8f",
   "metadata": {},
   "outputs": [],
   "source": [
    "max_ds = {\n",
    "    \"inputs\": np.take(data_generator.ds_train[\"image\"], maximum_agent.target_indices, axis=0),\n",
    "    \"targets\": np.take(data_generator.ds_train[\"label\"], maximum_agent.target_indices, axis=0)\n",
    "}\n",
    "random_ds = {\n",
    "    \"inputs\": np.take(data_generator.ds_train[\"image\"], random_agent.target_indices, axis=0),\n",
    "    \"targets\": np.take(data_generator.ds_train[\"label\"], random_agent.target_indices, axis=0)\n",
    "}"
   ]
  },
  {
   "cell_type": "code",
   "execution_count": 17,
   "id": "ebcd8d47",
   "metadata": {},
   "outputs": [
    {
     "name": "stderr",
     "output_type": "stream",
     "text": [
      "Epoch: 500: 100%|██████████████| 500/500 [01:29<00:00,  5.58batch/s, accuracy=0.486, test_loss=7.63]\n"
     ]
    },
    {
     "ename": "ValueError",
     "evalue": "too many values to unpack (expected 2)",
     "output_type": "error",
     "traceback": [
      "\u001b[0;31m---------------------------------------------------------------------------\u001b[0m",
      "\u001b[0;31mValueError\u001b[0m                                Traceback (most recent call last)",
      "Input \u001b[0;32mIn [17]\u001b[0m, in \u001b[0;36m<cell line: 8>\u001b[0;34m()\u001b[0m\n\u001b[1;32m      9\u001b[0m max_model \u001b[38;5;241m=\u001b[39m znrnd\u001b[38;5;241m.\u001b[39mmodels\u001b[38;5;241m.\u001b[39mNTModel(\n\u001b[1;32m     10\u001b[0m     nt_module\u001b[38;5;241m=\u001b[39mmodel,\n\u001b[1;32m     11\u001b[0m     optimizer\u001b[38;5;241m=\u001b[39moptax\u001b[38;5;241m.\u001b[39madam(learning_rate\u001b[38;5;241m=\u001b[39m\u001b[38;5;241m0.001\u001b[39m),\n\u001b[0;32m   (...)\u001b[0m\n\u001b[1;32m     14\u001b[0m     training_threshold\u001b[38;5;241m=\u001b[39m\u001b[38;5;241m0.001\u001b[39m\n\u001b[1;32m     15\u001b[0m )\n\u001b[1;32m     16\u001b[0m random_model \u001b[38;5;241m=\u001b[39m znrnd\u001b[38;5;241m.\u001b[39mmodels\u001b[38;5;241m.\u001b[39mNTModel(\n\u001b[1;32m     17\u001b[0m     nt_module\u001b[38;5;241m=\u001b[39mmodel,\n\u001b[1;32m     18\u001b[0m     optimizer\u001b[38;5;241m=\u001b[39moptax\u001b[38;5;241m.\u001b[39madam(learning_rate\u001b[38;5;241m=\u001b[39m\u001b[38;5;241m0.001\u001b[39m),\n\u001b[0;32m   (...)\u001b[0m\n\u001b[1;32m     21\u001b[0m     training_threshold\u001b[38;5;241m=\u001b[39m\u001b[38;5;241m0.001\u001b[39m\n\u001b[1;32m     22\u001b[0m )\n\u001b[0;32m---> 23\u001b[0m max_loss, max_acc \u001b[38;5;241m=\u001b[39m max_model\u001b[38;5;241m.\u001b[39mtrain_model(\n\u001b[1;32m     24\u001b[0m     train_ds\u001b[38;5;241m=\u001b[39mmax_ds, test_ds\u001b[38;5;241m=\u001b[39mtest_ds, batch_size\u001b[38;5;241m=\u001b[39m\u001b[38;5;241m10\u001b[39m, epochs\u001b[38;5;241m=\u001b[39m\u001b[38;5;241m500\u001b[39m\n\u001b[1;32m     25\u001b[0m )\n\u001b[1;32m     26\u001b[0m random_loss, random_acc \u001b[38;5;241m=\u001b[39m random_model\u001b[38;5;241m.\u001b[39mtrain_model(\n\u001b[1;32m     27\u001b[0m     train_ds\u001b[38;5;241m=\u001b[39mrandom_ds, test_ds\u001b[38;5;241m=\u001b[39mtest_ds, batch_size\u001b[38;5;241m=\u001b[39m\u001b[38;5;241m10\u001b[39m, epochs\u001b[38;5;241m=\u001b[39m\u001b[38;5;241m500\u001b[39m\n\u001b[1;32m     28\u001b[0m )\n\u001b[1;32m     29\u001b[0m final_max_ntk \u001b[38;5;241m=\u001b[39m max_model\u001b[38;5;241m.\u001b[39mcompute_ntk(max_ds[\u001b[38;5;124m\"\u001b[39m\u001b[38;5;124minputs\u001b[39m\u001b[38;5;124m\"\u001b[39m], normalize\u001b[38;5;241m=\u001b[39m\u001b[38;5;28;01mFalse\u001b[39;00m)\n",
      "\u001b[0;31mValueError\u001b[0m: too many values to unpack (expected 2)"
     ]
    }
   ],
   "source": [
    "max_final_entropy = []\n",
    "random_final_entropy = []\n",
    "max_losses = []\n",
    "random_losses = []\n",
    "max_accuracy = []\n",
    "random_accuracy = []\n",
    "\n",
    "for _ in range(5):\n",
    "    max_model = znrnd.models.NTModel(\n",
    "        nt_module=model,\n",
    "        optimizer=optax.adam(learning_rate=0.001),\n",
    "        loss_fn=znrnd.loss_functions.CrossEntropyLoss(classes=10, apply_softmax=False),\n",
    "        input_shape=(1, 28, 28, 1),\n",
    "        training_threshold=0.001\n",
    "    )\n",
    "    random_model = znrnd.models.NTModel(\n",
    "        nt_module=model,\n",
    "        optimizer=optax.adam(learning_rate=0.001),\n",
    "        loss_fn=znrnd.loss_functions.CrossEntropyLoss(classes=10, apply_softmax=False),\n",
    "        input_shape=(1, 28, 28, 1),\n",
    "        training_threshold=0.001\n",
    "    )\n",
    "    max_loss, max_acc, _ = max_model.train_model(\n",
    "        train_ds=max_ds, test_ds=test_ds, batch_size=10, epochs=500\n",
    "    )\n",
    "    random_loss, random_acc = random_model.train_model(\n",
    "        train_ds=random_ds, test_ds=test_ds, batch_size=10, epochs=500\n",
    "    )\n",
    "    final_max_ntk = max_model.compute_ntk(max_ds[\"inputs\"], normalize=False)\n",
    "    max_final_entropy.append(znrnd.analysis.EntropyAnalysis(\n",
    "        final_max_ntk[\"empirical\"]\n",
    "    ).compute_von_neumann_entropy())\n",
    "    final_random_ntk = random_model.compute_ntk(random_ds[\"inputs\"], normalize=False)\n",
    "    random_final_entropy.append(znrnd.analysis.EntropyAnalysis(\n",
    "        final_random_ntk[\"empirical\"]\n",
    "    ).compute_von_neumann_entropy())\n",
    "    \n",
    "    max_losses.append(max_loss)\n",
    "    max_accuracy.append(max_acc)\n",
    "    random_losses.append(random_loss)\n",
    "    random_accuracy.append(random_acc)"
   ]
  },
  {
   "cell_type": "markdown",
   "id": "3b8b52bb",
   "metadata": {},
   "source": [
    "### Analysis"
   ]
  },
  {
   "cell_type": "code",
   "execution_count": null,
   "id": "0a26374d",
   "metadata": {},
   "outputs": [],
   "source": [
    "max_delta_s = max_entropy - np.array(max_final_entropy)"
   ]
  },
  {
   "cell_type": "code",
   "execution_count": null,
   "id": "fb6e6405",
   "metadata": {},
   "outputs": [],
   "source": [
    "max_delta_s_error = np.std(max_delta_s) / np.sqrt(5)\n",
    "max_delta_s_ave = np.real(np.mean(max_delta_s))"
   ]
  },
  {
   "cell_type": "code",
   "execution_count": null,
   "id": "d37927b7",
   "metadata": {},
   "outputs": [],
   "source": [
    "random_delta_s = random_entropy - np.array(random_final_entropy)"
   ]
  },
  {
   "cell_type": "code",
   "execution_count": null,
   "id": "906d0cf4",
   "metadata": {},
   "outputs": [],
   "source": [
    "random_delta_s_error = np.std(random_delta_s) / np.sqrt(5)\n",
    "random_delta_s_ave = np.real(np.mean(random_delta_s))"
   ]
  },
  {
   "cell_type": "code",
   "execution_count": null,
   "id": "60aab414",
   "metadata": {},
   "outputs": [],
   "source": [
    "max_min_loss = np.min(max_losses, axis=0).mean()\n",
    "random_min_loss = np.min(random_losses, axis=0).mean()"
   ]
  },
  {
   "cell_type": "code",
   "execution_count": null,
   "id": "849b4e07",
   "metadata": {},
   "outputs": [],
   "source": [
    "plt.errorbar(\n",
    "    [max_min_loss, random_min_loss], \n",
    "    [max_delta_s_ave, random_delta_s_ave], \n",
    "    yerr=[float(max_delta_s_error), float(random_delta_s_error)],\n",
    "    marker='o'\n",
    ")\n",
    "plt.show()"
   ]
  },
  {
   "cell_type": "code",
   "execution_count": 18,
   "id": "8bf39d5c",
   "metadata": {},
   "outputs": [
    {
     "name": "stderr",
     "output_type": "stream",
     "text": [
      "Epoch: 500: 100%|██████████████| 500/500 [01:15<00:00,  6.64batch/s, accuracy=0.544, test_loss=3.39]\n",
      "Epoch: 500: 100%|██████████████| 500/500 [01:14<00:00,  6.67batch/s, accuracy=0.582, test_loss=2.74]\n",
      "Epoch: 500: 100%|██████████████| 500/500 [01:15<00:00,  6.64batch/s, accuracy=0.578, test_loss=2.86]\n",
      "Epoch: 500: 100%|██████████████| 500/500 [01:16<00:00,  6.49batch/s, accuracy=0.571, test_loss=3.16]\n",
      "Epoch: 500: 100%|██████████████| 500/500 [01:16<00:00,  6.50batch/s, accuracy=0.588, test_loss=3.21]\n",
      "Epoch: 500: 100%|██████████████| 500/500 [01:16<00:00,  6.52batch/s, accuracy=0.568, test_loss=2.41]\n",
      "Epoch: 500: 100%|██████████████| 500/500 [01:16<00:00,  6.57batch/s, accuracy=0.582, test_loss=2.35]\n",
      "Epoch: 500: 100%|██████████████| 500/500 [01:21<00:00,  6.13batch/s, accuracy=0.562, test_loss=2.47]\n",
      "Epoch: 500: 100%|██████████████| 500/500 [01:17<00:00,  6.48batch/s, accuracy=0.561, test_loss=2.36]\n",
      "Epoch: 500: 100%|██████████████| 500/500 [01:16<00:00,  6.54batch/s, accuracy=0.571, test_loss=2.49]\n",
      "Epoch: 500: 100%|██████████████| 500/500 [01:16<00:00,  6.58batch/s, accuracy=0.559, test_loss=5.68]\n",
      "Epoch: 500: 100%|██████████████████| 500/500 [01:16<00:00,  6.55batch/s, accuracy=0.56, test_loss=6]\n",
      "Epoch: 500: 100%|██████████████| 500/500 [01:19<00:00,  6.26batch/s, accuracy=0.559, test_loss=5.37]\n",
      "Epoch: 500: 100%|██████████████| 500/500 [01:20<00:00,  6.22batch/s, accuracy=0.548, test_loss=6.26]\n",
      "Epoch: 500: 100%|██████████████| 500/500 [01:22<00:00,  6.04batch/s, accuracy=0.559, test_loss=5.03]\n",
      "Epoch: 500: 100%|██████████████| 500/500 [01:16<00:00,  6.52batch/s, accuracy=0.587, test_loss=2.36]\n",
      "Epoch: 500: 100%|██████████████| 500/500 [01:21<00:00,  6.13batch/s, accuracy=0.564, test_loss=2.53]\n",
      "Epoch: 500: 100%|██████████████| 500/500 [01:20<00:00,  6.19batch/s, accuracy=0.577, test_loss=2.53]\n",
      "Epoch: 500: 100%|██████████████| 500/500 [01:17<00:00,  6.49batch/s, accuracy=0.589, test_loss=2.22]\n",
      "Epoch: 500: 100%|██████████████| 500/500 [01:17<00:00,  6.49batch/s, accuracy=0.576, test_loss=2.28]\n",
      "Epoch: 500: 100%|██████████████| 500/500 [01:16<00:00,  6.52batch/s, accuracy=0.576, test_loss=2.83]\n",
      "Epoch: 500: 100%|██████████████| 500/500 [01:17<00:00,  6.49batch/s, accuracy=0.581, test_loss=2.67]\n",
      "Epoch: 500: 100%|██████████████| 500/500 [01:16<00:00,  6.51batch/s, accuracy=0.593, test_loss=2.66]\n",
      "Epoch: 500: 100%|██████████████| 500/500 [01:17<00:00,  6.48batch/s, accuracy=0.605, test_loss=2.45]\n",
      "Epoch: 500: 100%|███████████████| 500/500 [01:16<00:00,  6.52batch/s, accuracy=0.591, test_loss=2.5]\n",
      "Epoch: 500: 100%|██████████████| 500/500 [01:16<00:00,  6.50batch/s, accuracy=0.583, test_loss=2.54]\n",
      "Epoch: 500: 100%|██████████████| 500/500 [01:16<00:00,  6.52batch/s, accuracy=0.583, test_loss=2.46]\n",
      "Epoch: 500: 100%|██████████████| 500/500 [01:16<00:00,  6.55batch/s, accuracy=0.609, test_loss=2.33]\n",
      "Epoch: 500: 100%|██████████████| 500/500 [01:16<00:00,  6.51batch/s, accuracy=0.589, test_loss=2.42]\n",
      "Epoch: 500: 100%|███████████████| 500/500 [01:17<00:00,  6.48batch/s, accuracy=0.63, test_loss=1.84]\n",
      "Epoch: 500: 100%|██████████████| 500/500 [01:17<00:00,  6.47batch/s, accuracy=0.658, test_loss=1.68]\n",
      "Epoch: 500: 100%|██████████████| 500/500 [01:16<00:00,  6.50batch/s, accuracy=0.655, test_loss=1.65]\n",
      "Epoch: 500: 100%|██████████████| 500/500 [01:16<00:00,  6.49batch/s, accuracy=0.663, test_loss=1.68]\n",
      "Epoch: 500: 100%|██████████████| 500/500 [01:17<00:00,  6.49batch/s, accuracy=0.661, test_loss=1.76]\n",
      "Epoch: 500: 100%|██████████████| 500/500 [01:17<00:00,  6.49batch/s, accuracy=0.663, test_loss=1.58]\n",
      "Epoch: 500: 100%|██████████████| 500/500 [01:17<00:00,  6.49batch/s, accuracy=0.609, test_loss=2.35]\n",
      "Epoch: 500: 100%|██████████████| 500/500 [01:16<00:00,  6.52batch/s, accuracy=0.601, test_loss=2.53]\n",
      "Epoch: 500: 100%|███████████████| 500/500 [01:17<00:00,  6.48batch/s, accuracy=0.624, test_loss=2.3]\n",
      "Epoch: 500: 100%|████████████████| 500/500 [01:17<00:00,  6.46batch/s, accuracy=0.6, test_loss=2.51]\n",
      "Epoch: 500: 100%|███████████████| 500/500 [01:17<00:00,  6.45batch/s, accuracy=0.59, test_loss=2.35]\n",
      "Epoch: 500: 100%|██████████████| 500/500 [01:17<00:00,  6.48batch/s, accuracy=0.621, test_loss=1.88]\n",
      "Epoch: 500: 100%|██████████████| 500/500 [01:17<00:00,  6.49batch/s, accuracy=0.619, test_loss=1.77]\n",
      "Epoch: 500: 100%|██████████████| 500/500 [01:17<00:00,  6.49batch/s, accuracy=0.631, test_loss=1.78]\n",
      "Epoch: 500: 100%|███████████████| 500/500 [01:17<00:00,  6.45batch/s, accuracy=0.61, test_loss=1.84]\n",
      "Epoch: 500: 100%|██████████████| 500/500 [01:17<00:00,  6.45batch/s, accuracy=0.626, test_loss=1.72]\n",
      "Epoch: 500: 100%|██████████████| 500/500 [01:18<00:00,  6.39batch/s, accuracy=0.635, test_loss=1.97]\n",
      "Epoch: 500: 100%|██████████████| 500/500 [01:17<00:00,  6.48batch/s, accuracy=0.604, test_loss=2.16]\n",
      "Epoch: 500: 100%|██████████████| 500/500 [01:16<00:00,  6.50batch/s, accuracy=0.637, test_loss=1.96]\n",
      "Epoch: 500: 100%|██████████████| 500/500 [01:17<00:00,  6.48batch/s, accuracy=0.605, test_loss=2.37]\n",
      "Epoch: 500: 100%|██████████████| 500/500 [01:18<00:00,  6.38batch/s, accuracy=0.625, test_loss=2.05]\n",
      "Epoch: 500: 100%|███████████████| 500/500 [01:17<00:00,  6.45batch/s, accuracy=0.56, test_loss=4.24]\n",
      "Epoch: 500: 100%|██████████████| 500/500 [01:17<00:00,  6.49batch/s, accuracy=0.561, test_loss=4.17]\n",
      "Epoch: 500: 100%|███████████████| 500/500 [01:17<00:00,  6.44batch/s, accuracy=0.548, test_loss=4.1]\n",
      "Epoch: 500: 100%|███████████████| 500/500 [01:16<00:00,  6.51batch/s, accuracy=0.57, test_loss=3.73]\n",
      "Epoch: 500: 100%|███████████████| 500/500 [01:16<00:00,  6.54batch/s, accuracy=0.55, test_loss=5.36]\n",
      "Epoch: 500: 100%|██████████████| 500/500 [01:16<00:00,  6.52batch/s, accuracy=0.662, test_loss=1.38]\n",
      "Epoch: 500: 100%|██████████████| 500/500 [01:18<00:00,  6.41batch/s, accuracy=0.669, test_loss=1.29]\n",
      "Epoch: 500: 100%|██████████████| 500/500 [01:17<00:00,  6.46batch/s, accuracy=0.635, test_loss=1.55]\n",
      "Epoch: 500: 100%|██████████████| 500/500 [01:17<00:00,  6.49batch/s, accuracy=0.654, test_loss=1.42]\n",
      "Epoch: 500: 100%|████████████████| 500/500 [01:19<00:00,  6.29batch/s, accuracy=0.65, test_loss=1.4]\n",
      "Epoch: 500: 100%|██████████████| 500/500 [01:17<00:00,  6.43batch/s, accuracy=0.567, test_loss=3.61]\n",
      "Epoch: 500: 100%|██████████████| 500/500 [01:17<00:00,  6.44batch/s, accuracy=0.553, test_loss=3.38]\n",
      "Epoch: 500: 100%|██████████████| 500/500 [01:18<00:00,  6.37batch/s, accuracy=0.575, test_loss=2.96]\n",
      "Epoch: 500: 100%|███████████████| 500/500 [01:20<00:00,  6.20batch/s, accuracy=0.56, test_loss=3.37]\n",
      "Epoch: 500: 100%|███████████████| 500/500 [01:17<00:00,  6.45batch/s, accuracy=0.56, test_loss=3.32]\n",
      "Epoch: 500: 100%|██████████████| 500/500 [01:19<00:00,  6.26batch/s, accuracy=0.665, test_loss=2.03]\n",
      "Epoch: 500: 100%|██████████████| 500/500 [01:19<00:00,  6.32batch/s, accuracy=0.693, test_loss=1.77]\n",
      "Epoch: 500: 100%|███████████████| 500/500 [01:19<00:00,  6.31batch/s, accuracy=0.674, test_loss=2.2]\n",
      "Epoch: 500: 100%|███████████████| 500/500 [01:21<00:00,  6.16batch/s, accuracy=0.689, test_loss=1.7]\n",
      "Epoch: 500: 100%|██████████████| 500/500 [01:20<00:00,  6.24batch/s, accuracy=0.665, test_loss=1.88]\n",
      "Epoch: 500: 100%|██████████████| 500/500 [01:17<00:00,  6.41batch/s, accuracy=0.586, test_loss=3.13]\n",
      "Epoch: 500: 100%|███████████████| 500/500 [01:18<00:00,  6.34batch/s, accuracy=0.606, test_loss=3.2]\n",
      "Epoch: 500: 100%|██████████████| 500/500 [01:18<00:00,  6.39batch/s, accuracy=0.584, test_loss=3.24]\n",
      "Epoch: 500: 100%|██████████████| 500/500 [01:18<00:00,  6.38batch/s, accuracy=0.573, test_loss=3.04]\n",
      "Epoch: 500: 100%|██████████████| 500/500 [01:17<00:00,  6.46batch/s, accuracy=0.585, test_loss=3.02]\n",
      "Epoch: 500: 100%|█████████████████| 500/500 [01:18<00:00,  6.39batch/s, accuracy=0.6, test_loss=2.5]\n",
      "Epoch: 500: 100%|██████████████| 500/500 [01:18<00:00,  6.36batch/s, accuracy=0.586, test_loss=2.58]\n",
      "Epoch: 500: 100%|██████████████| 500/500 [01:18<00:00,  6.37batch/s, accuracy=0.599, test_loss=2.55]\n",
      "Epoch: 500: 100%|██████████████| 500/500 [01:17<00:00,  6.42batch/s, accuracy=0.599, test_loss=2.46]\n",
      "Epoch: 500: 100%|██████████████| 500/500 [01:18<00:00,  6.39batch/s, accuracy=0.584, test_loss=2.58]\n",
      "Epoch: 500: 100%|██████████████| 500/500 [01:17<00:00,  6.42batch/s, accuracy=0.532, test_loss=4.26]\n"
     ]
    },
    {
     "name": "stderr",
     "output_type": "stream",
     "text": [
      "Epoch: 500: 100%|██████████████| 500/500 [01:17<00:00,  6.47batch/s, accuracy=0.532, test_loss=4.59]\n",
      "Epoch: 500: 100%|███████████████| 500/500 [01:16<00:00,  6.54batch/s, accuracy=0.53, test_loss=4.94]\n",
      "Epoch: 500: 100%|██████████████| 500/500 [01:17<00:00,  6.48batch/s, accuracy=0.519, test_loss=5.18]\n",
      "Epoch: 500: 100%|██████████████| 500/500 [01:17<00:00,  6.46batch/s, accuracy=0.527, test_loss=5.53]\n",
      "Epoch: 500: 100%|██████████████| 500/500 [01:17<00:00,  6.45batch/s, accuracy=0.631, test_loss=1.99]\n",
      "Epoch: 500: 100%|██████████████| 500/500 [01:18<00:00,  6.37batch/s, accuracy=0.634, test_loss=1.87]\n",
      "Epoch: 500: 100%|██████████████| 500/500 [01:16<00:00,  6.50batch/s, accuracy=0.622, test_loss=2.15]\n",
      "Epoch: 500: 100%|███████████████| 500/500 [01:16<00:00,  6.51batch/s, accuracy=0.63, test_loss=1.68]\n",
      "Epoch: 500: 100%|███████████████| 500/500 [01:16<00:00,  6.57batch/s, accuracy=0.629, test_loss=1.8]\n",
      "Epoch: 500: 100%|██████████████| 500/500 [01:16<00:00,  6.56batch/s, accuracy=0.646, test_loss=2.04]\n",
      "Epoch: 500: 100%|██████████████| 500/500 [01:16<00:00,  6.54batch/s, accuracy=0.651, test_loss=1.87]\n",
      "Epoch: 500: 100%|██████████████| 500/500 [01:17<00:00,  6.48batch/s, accuracy=0.644, test_loss=2.17]\n",
      "Epoch: 500: 100%|██████████████| 500/500 [01:16<00:00,  6.51batch/s, accuracy=0.653, test_loss=2.15]\n",
      "Epoch: 500: 100%|██████████████| 500/500 [01:17<00:00,  6.47batch/s, accuracy=0.654, test_loss=2.19]\n",
      "Epoch: 500: 100%|██████████████| 500/500 [01:16<00:00,  6.51batch/s, accuracy=0.629, test_loss=1.92]\n",
      "Epoch: 500: 100%|██████████████| 500/500 [01:18<00:00,  6.36batch/s, accuracy=0.625, test_loss=1.89]\n",
      "Epoch: 500: 100%|██████████████| 500/500 [01:18<00:00,  6.35batch/s, accuracy=0.633, test_loss=1.82]\n",
      "Epoch: 500: 100%|██████████████| 500/500 [01:17<00:00,  6.46batch/s, accuracy=0.637, test_loss=1.88]\n",
      "Epoch: 500: 100%|██████████████| 500/500 [01:17<00:00,  6.46batch/s, accuracy=0.649, test_loss=1.77]\n",
      "Epoch: 500: 100%|███████████████| 500/500 [01:17<00:00,  6.49batch/s, accuracy=0.61, test_loss=2.19]\n",
      "Epoch: 500: 100%|██████████████| 500/500 [01:17<00:00,  6.46batch/s, accuracy=0.617, test_loss=2.03]\n",
      "Epoch: 500: 100%|██████████████| 500/500 [01:17<00:00,  6.46batch/s, accuracy=0.617, test_loss=2.01]\n",
      "Epoch: 500: 100%|██████████████| 500/500 [01:17<00:00,  6.43batch/s, accuracy=0.596, test_loss=2.45]\n",
      "Epoch: 500: 100%|██████████████| 500/500 [01:17<00:00,  6.48batch/s, accuracy=0.625, test_loss=2.07]\n",
      "Epoch: 500: 100%|██████████████| 500/500 [01:16<00:00,  6.50batch/s, accuracy=0.624, test_loss=2.59]\n",
      "Epoch: 500: 100%|███████████████| 500/500 [01:17<00:00,  6.47batch/s, accuracy=0.62, test_loss=2.85]\n",
      "Epoch: 500: 100%|██████████████| 500/500 [01:17<00:00,  6.46batch/s, accuracy=0.604, test_loss=2.89]\n",
      "Epoch: 500: 100%|██████████████| 500/500 [01:16<00:00,  6.51batch/s, accuracy=0.601, test_loss=2.82]\n",
      "Epoch: 500: 100%|██████████████| 500/500 [01:17<00:00,  6.48batch/s, accuracy=0.609, test_loss=3.07]\n",
      "Epoch: 500: 100%|██████████████| 500/500 [01:17<00:00,  6.47batch/s, accuracy=0.609, test_loss=2.06]\n",
      "Epoch: 500: 100%|██████████████| 500/500 [01:17<00:00,  6.48batch/s, accuracy=0.624, test_loss=1.85]\n",
      "Epoch: 500: 100%|██████████████| 500/500 [01:22<00:00,  6.07batch/s, accuracy=0.618, test_loss=1.99]\n",
      "Epoch: 500: 100%|██████████████| 500/500 [01:18<00:00,  6.38batch/s, accuracy=0.617, test_loss=1.91]\n",
      "Epoch: 500: 100%|██████████████| 500/500 [01:16<00:00,  6.52batch/s, accuracy=0.652, test_loss=1.58]\n",
      "Epoch: 500: 100%|██████████████| 500/500 [01:16<00:00,  6.50batch/s, accuracy=0.611, test_loss=3.25]\n",
      "Epoch: 500: 100%|██████████████| 500/500 [01:17<00:00,  6.49batch/s, accuracy=0.615, test_loss=3.07]\n",
      "Epoch: 500: 100%|██████████████| 500/500 [01:16<00:00,  6.50batch/s, accuracy=0.606, test_loss=2.97]\n",
      "Epoch: 500: 100%|██████████████| 500/500 [01:16<00:00,  6.52batch/s, accuracy=0.616, test_loss=3.16]\n",
      "Epoch: 500: 100%|██████████████| 500/500 [01:18<00:00,  6.34batch/s, accuracy=0.613, test_loss=3.01]\n",
      "Epoch: 500: 100%|██████████████| 500/500 [01:19<00:00,  6.26batch/s, accuracy=0.567, test_loss=2.59]\n",
      "Epoch: 500: 100%|██████████████| 500/500 [01:17<00:00,  6.43batch/s, accuracy=0.574, test_loss=2.59]\n",
      "Epoch: 500: 100%|██████████████| 500/500 [01:16<00:00,  6.52batch/s, accuracy=0.556, test_loss=2.77]\n",
      "Epoch: 500: 100%|██████████████| 500/500 [01:17<00:00,  6.46batch/s, accuracy=0.571, test_loss=2.63]\n",
      "Epoch: 500: 100%|██████████████| 500/500 [01:18<00:00,  6.33batch/s, accuracy=0.559, test_loss=2.74]\n",
      "Epoch: 500: 100%|██████████████| 500/500 [01:18<00:00,  6.40batch/s, accuracy=0.602, test_loss=2.08]\n",
      "Epoch: 500: 100%|██████████████| 500/500 [01:17<00:00,  6.47batch/s, accuracy=0.622, test_loss=1.79]\n",
      "Epoch: 500: 100%|██████████████| 500/500 [01:18<00:00,  6.37batch/s, accuracy=0.603, test_loss=2.07]\n",
      "Epoch: 500: 100%|██████████████| 500/500 [01:17<00:00,  6.42batch/s, accuracy=0.601, test_loss=2.07]\n",
      "Epoch: 500: 100%|████████████████| 500/500 [01:18<00:00,  6.40batch/s, accuracy=0.6, test_loss=2.21]\n",
      "Epoch: 500: 100%|██████████████| 500/500 [01:18<00:00,  6.39batch/s, accuracy=0.546, test_loss=3.03]\n",
      "Epoch: 500: 100%|██████████████| 500/500 [01:18<00:00,  6.35batch/s, accuracy=0.536, test_loss=2.97]\n",
      "Epoch: 500: 100%|██████████████| 500/500 [01:17<00:00,  6.49batch/s, accuracy=0.544, test_loss=2.73]\n",
      "Epoch: 500: 100%|███████████████| 500/500 [01:17<00:00,  6.47batch/s, accuracy=0.54, test_loss=2.83]\n",
      "Epoch: 500: 100%|██████████████| 500/500 [01:17<00:00,  6.44batch/s, accuracy=0.535, test_loss=2.84]\n",
      "Epoch: 500: 100%|██████████████| 500/500 [01:18<00:00,  6.40batch/s, accuracy=0.534, test_loss=3.62]\n",
      "Epoch: 500: 100%|███████████████| 500/500 [01:17<00:00,  6.41batch/s, accuracy=0.539, test_loss=3.6]\n",
      "Epoch: 500: 100%|██████████████| 500/500 [01:19<00:00,  6.33batch/s, accuracy=0.534, test_loss=3.54]\n",
      "Epoch: 500: 100%|██████████████| 500/500 [01:17<00:00,  6.42batch/s, accuracy=0.532, test_loss=3.63]\n",
      "Epoch: 500: 100%|██████████████| 500/500 [01:18<00:00,  6.41batch/s, accuracy=0.568, test_loss=3.34]\n",
      "Epoch: 500: 100%|██████████████| 500/500 [01:18<00:00,  6.41batch/s, accuracy=0.569, test_loss=2.51]\n",
      "Epoch: 500: 100%|██████████████| 500/500 [01:18<00:00,  6.39batch/s, accuracy=0.544, test_loss=2.74]\n",
      "Epoch: 500: 100%|██████████████| 500/500 [01:18<00:00,  6.40batch/s, accuracy=0.568, test_loss=2.47]\n",
      "Epoch: 500: 100%|██████████████| 500/500 [01:17<00:00,  6.44batch/s, accuracy=0.546, test_loss=2.44]\n",
      "Epoch: 500: 100%|██████████████| 500/500 [01:17<00:00,  6.48batch/s, accuracy=0.539, test_loss=2.49]\n",
      "Epoch: 500: 100%|██████████████| 500/500 [01:17<00:00,  6.48batch/s, accuracy=0.552, test_loss=2.76]\n",
      "Epoch: 500: 100%|██████████████| 500/500 [01:16<00:00,  6.51batch/s, accuracy=0.549, test_loss=2.63]\n",
      "Epoch: 500: 100%|███████████████| 500/500 [01:17<00:00,  6.48batch/s, accuracy=0.563, test_loss=2.5]\n",
      "Epoch: 500: 100%|██████████████| 500/500 [01:17<00:00,  6.47batch/s, accuracy=0.551, test_loss=2.66]\n",
      "Epoch: 500: 100%|██████████████| 500/500 [01:17<00:00,  6.43batch/s, accuracy=0.535, test_loss=2.74]\n"
     ]
    }
   ],
   "source": [
    "start_entropy = []\n",
    "final_entropy = []\n",
    "final_entropy_error = []\n",
    "losses = {}\n",
    "accuracy = {}\n",
    "train_metrics = {}\n",
    "\n",
    "for i in range(30):\n",
    "    random_ds = random_agent.build_dataset(target_size=30)\n",
    "    ntk = production_model.compute_ntk(x_i=random_ds, normalize=False)\n",
    "    start_entropy.append(\n",
    "        znrnd.analysis.EntropyAnalysis(\n",
    "            matrix=ntk[\"empirical\"]\n",
    "        ).compute_von_neumann_entropy()\n",
    "    )\n",
    "    random_ds = {\n",
    "    \"inputs\": np.take(data_generator.ds_train[\"image\"], random_agent.target_indices, axis=0),\n",
    "    \"targets\": np.take(data_generator.ds_train[\"label\"], random_agent.target_indices, axis=0)\n",
    "}\n",
    "    entropy = []\n",
    "    losses[i] = []\n",
    "    accuracy[i] = []\n",
    "    train_metrics[i] = []\n",
    "    for _ in range(5):\n",
    "        random_model = znrnd.models.NTModel(\n",
    "            nt_module=model,\n",
    "            optimizer=optax.adam(learning_rate=0.001),\n",
    "            loss_fn=znrnd.loss_functions.CrossEntropyLoss(classes=10, apply_softmax=False),\n",
    "            input_shape=(1, 28, 28, 1),\n",
    "            training_threshold=0.001\n",
    "        )\n",
    "        random_loss, random_acc, training_metrics = random_model.train_model(\n",
    "            train_ds=random_ds, test_ds=test_ds, batch_size=10, epochs=500\n",
    "        )\n",
    "\n",
    "        final_random_ntk = random_model.compute_ntk(random_ds[\"inputs\"], normalize=False)\n",
    "        entropy.append(znrnd.analysis.EntropyAnalysis(\n",
    "            final_random_ntk[\"empirical\"]\n",
    "        ).compute_von_neumann_entropy())\n",
    "\n",
    "        losses[i].append(random_loss)\n",
    "        accuracy[i].append(random_acc)\n",
    "        train_metrics[i].append(training_metrics)\n",
    "        \n",
    "    final_entropy.append(np.mean(entropy))\n",
    "    final_entropy.append(np.std(entropy) / np.sqrt(5))"
   ]
  },
  {
   "cell_type": "code",
   "execution_count": 22,
   "id": "7b86dee1",
   "metadata": {},
   "outputs": [
    {
     "data": {
      "text/plain": [
       "array([0.34193692, 0.38839158, 0.3253614 , 0.38360772, 0.38047135,\n",
       "       0.36951584, 0.38306445, 0.3529695 , 0.35951358, 0.38687006,\n",
       "       0.32582137, 0.3844153 , 0.39197475, 0.39165777, 0.35401005,\n",
       "       0.36168128, 0.30850658, 0.33451253, 0.37175766, 0.35899752,\n",
       "       0.3832767 , 0.31578174, 0.37504977, 0.35646746, 0.3734667 ,\n",
       "       0.35389709, 0.34924886, 0.35546026, 0.36773968, 0.37952518])"
      ]
     },
     "execution_count": 22,
     "metadata": {},
     "output_type": "execute_result"
    }
   ],
   "source": [
    "np.real(final_entropy)[::2]"
   ]
  },
  {
   "cell_type": "code",
   "execution_count": 23,
   "id": "5fed5467",
   "metadata": {},
   "outputs": [
    {
     "data": {
      "text/plain": [
       "array([0.492567  , 0.5426477 , 0.4761879 , 0.5166925 , 0.51928097,\n",
       "       0.49038827, 0.5158705 , 0.48129734, 0.50130594, 0.53730965,\n",
       "       0.482004  , 0.5239529 , 0.56094676, 0.51805216, 0.47833666,\n",
       "       0.51683843, 0.48890436, 0.5154919 , 0.506537  , 0.5080511 ,\n",
       "       0.52154684, 0.47180566, 0.54042846, 0.5274191 , 0.5196627 ,\n",
       "       0.49716073, 0.48876482, 0.5090897 , 0.50207394, 0.5271589 ],\n",
       "      dtype=float32)"
      ]
     },
     "execution_count": 23,
     "metadata": {},
     "output_type": "execute_result"
    }
   ],
   "source": [
    "np.real(start_entropy)"
   ]
  },
  {
   "cell_type": "code",
   "execution_count": 24,
   "id": "8c9938fa",
   "metadata": {},
   "outputs": [],
   "source": [
    "delta_s = np.real(start_entropy) - np.real(final_entropy)[::2]"
   ]
  },
  {
   "cell_type": "code",
   "execution_count": 26,
   "id": "63ef4fdd",
   "metadata": {},
   "outputs": [
    {
     "data": {
      "text/plain": [
       "array([0.15063009, 0.15425614, 0.15082651, 0.1330848 , 0.13880962,\n",
       "       0.12087244, 0.13280606, 0.12832785, 0.14179236, 0.15043959,\n",
       "       0.15618262, 0.1395376 , 0.16897202, 0.12639439, 0.12432662,\n",
       "       0.15515715, 0.18039778, 0.18097937, 0.13477936, 0.14905357,\n",
       "       0.13827014, 0.15602392, 0.16537869, 0.17095163, 0.14619598,\n",
       "       0.14326364, 0.13951597, 0.15362945, 0.13433427, 0.14763373])"
      ]
     },
     "execution_count": 26,
     "metadata": {},
     "output_type": "execute_result"
    }
   ],
   "source": [
    "delta_s"
   ]
  },
  {
   "cell_type": "code",
   "execution_count": 42,
   "id": "1ac1c5c4",
   "metadata": {},
   "outputs": [],
   "source": [
    "loss_arr = [min(np.mean(losses[item], axis=0)) for item in losses]"
   ]
  },
  {
   "cell_type": "code",
   "execution_count": 22,
   "id": "c5f8de4d",
   "metadata": {},
   "outputs": [
    {
     "ename": "NameError",
     "evalue": "name 'final_entropy' is not defined",
     "output_type": "error",
     "traceback": [
      "\u001b[0;31m---------------------------------------------------------------------------\u001b[0m",
      "\u001b[0;31mNameError\u001b[0m                                 Traceback (most recent call last)",
      "Input \u001b[0;32mIn [22]\u001b[0m, in \u001b[0;36m<cell line: 1>\u001b[0;34m()\u001b[0m\n\u001b[0;32m----> 1\u001b[0m plt\u001b[38;5;241m.\u001b[39mplot(np\u001b[38;5;241m.\u001b[39mreal(\u001b[43mfinal_entropy\u001b[49m)[::\u001b[38;5;241m2\u001b[39m], loss_arr, \u001b[38;5;124m'\u001b[39m\u001b[38;5;124m.\u001b[39m\u001b[38;5;124m'\u001b[39m)\n",
      "\u001b[0;31mNameError\u001b[0m: name 'final_entropy' is not defined"
     ]
    }
   ],
   "source": [
    "plt.plot(np.real(final_entropy)[::2], loss_arr, '.')"
   ]
  },
  {
   "cell_type": "code",
   "execution_count": null,
   "id": "9928fd76",
   "metadata": {},
   "outputs": [],
   "source": []
  }
 ],
 "metadata": {
  "kernelspec": {
   "display_name": "Python 3 (ipykernel)",
   "language": "python",
   "name": "python3"
  },
  "language_info": {
   "codemirror_mode": {
    "name": "ipython",
    "version": 3
   },
   "file_extension": ".py",
   "mimetype": "text/x-python",
   "name": "python",
   "nbconvert_exporter": "python",
   "pygments_lexer": "ipython3",
   "version": "3.8.12"
  }
 },
 "nbformat": 4,
 "nbformat_minor": 5
}
