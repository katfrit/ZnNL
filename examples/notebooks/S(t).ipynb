{
 "cells": [
  {
   "cell_type": "markdown",
   "id": "432499fb",
   "metadata": {},
   "source": [
    "# S(t)\n",
    "\n",
    "Measure the epoch dependence of the entropy of the NTK.\n",
    "\n",
    "### Experiment\n",
    "Perform RND with a model and select N points. Train the model on these N points and use the parameters of the trained model to perform NTK again and see if the points change. Along the way, check the entropy of the updated NTK and see how it has been effected by the training."
   ]
  },
  {
   "cell_type": "code",
   "execution_count": 15,
   "id": "923e44f3",
   "metadata": {},
   "outputs": [],
   "source": [
    "import os\n",
    "os.environ[\"CUDA_VISIBLE_DEVICES\"] = \"-1\"\n",
    "\n",
    "\n",
    "import znrnd as rnd\n",
    "\n",
    "import tensorflow_datasets as tfds\n",
    "\n",
    "import numpy as np\n",
    "import optax\n",
    "from plotly.subplots import make_subplots\n",
    "import plotly.graph_objects as go\n",
    "from neural_tangents import stax\n",
    "\n",
    "import matplotlib.pyplot as plt\n",
    "\n",
    "from scipy import integrate"
   ]
  },
  {
   "cell_type": "code",
   "execution_count": 2,
   "id": "9847f2de",
   "metadata": {},
   "outputs": [
    {
     "name": "stderr",
     "output_type": "stream",
     "text": [
      "2022-05-04 08:57:24.224227: E tensorflow/stream_executor/cuda/cuda_driver.cc:271] failed call to cuInit: CUDA_ERROR_NO_DEVICE: no CUDA-capable device is detected\n"
     ]
    }
   ],
   "source": [
    "data_generator = rnd.data.MNISTGenerator(ds_size=1000)"
   ]
  },
  {
   "cell_type": "code",
   "execution_count": 3,
   "id": "86a09133",
   "metadata": {},
   "outputs": [],
   "source": [
    "model = stax.serial(\n",
    "    stax.Conv(32, (3, 3)),\n",
    "    stax.Relu(),\n",
    "    stax.AvgPool(window_shape=(2, 2), strides=(2, 2)),\n",
    "    stax.Conv(64, (3, 3)),\n",
    "    stax.Relu(),\n",
    "    stax.AvgPool(window_shape=(2, 2), strides=(2, 2)),\n",
    "    stax.Flatten(),\n",
    "    stax.Dense(256),\n",
    "    stax.Relu(),\n",
    "    stax.Dense(10)\n",
    ")"
   ]
  },
  {
   "cell_type": "code",
   "execution_count": 4,
   "id": "7f1ae49a",
   "metadata": {},
   "outputs": [],
   "source": [
    "production_model = rnd.models.NTModel(\n",
    "        nt_module=model,\n",
    "        optimizer=optax.adam(learning_rate=0.001),\n",
    "        loss_fn=rnd.loss_functions.CrossEntropyLoss(classes=10, apply_softmax=False),\n",
    "        input_shape=(1, 28, 28, 1),\n",
    "        training_threshold=0.001\n",
    "    )"
   ]
  },
  {
   "cell_type": "code",
   "execution_count": 5,
   "id": "cf91ac11",
   "metadata": {},
   "outputs": [],
   "source": [
    "train_ds = {\n",
    "    \"inputs\": data_generator.ds_train[\"image\"],\n",
    "    \"targets\": data_generator.ds_train[\"label\"]\n",
    "}\n",
    "test_ds = {\n",
    "    \"inputs\": data_generator.ds_test[\"image\"],\n",
    "    \"targets\": data_generator.ds_test[\"label\"]\n",
    "}"
   ]
  },
  {
   "cell_type": "code",
   "execution_count": 6,
   "id": "0e772422",
   "metadata": {
    "scrolled": true
   },
   "outputs": [
    {
     "name": "stderr",
     "output_type": "stream",
     "text": [
      "/tikhome/stovey/miniconda3/envs/zincware/lib/python3.9/site-packages/jax/_src/tree_util.py:188: FutureWarning: jax.tree_util.tree_multimap() is deprecated. Please use jax.tree_util.tree_map() instead as a drop-in replacement.\n",
      "  warnings.warn('jax.tree_util.tree_multimap() is deprecated. Please use jax.tree_util.tree_map() '\n",
      "/tikhome/stovey/miniconda3/envs/zincware/lib/python3.9/site-packages/jax/_src/tree_util.py:188: FutureWarning: jax.tree_util.tree_multimap() is deprecated. Please use jax.tree_util.tree_map() instead as a drop-in replacement.\n",
      "  warnings.warn('jax.tree_util.tree_multimap() is deprecated. Please use jax.tree_util.tree_map() '\n",
      "Epoch: 1: 100%|████████████████████| 1/1 [00:03<00:00,  3.08s/batch, accuracy=0.214, test_loss=2.22]\n",
      "Epoch: 1: 100%|████████████████████| 1/1 [00:01<00:00,  1.16s/batch, accuracy=0.503, test_loss=2.08]\n",
      "Epoch: 1: 100%|████████████████████| 1/1 [00:01<00:00,  1.11s/batch, accuracy=0.654, test_loss=1.85]\n",
      "Epoch: 1: 100%|████████████████████| 1/1 [00:01<00:00,  1.32s/batch, accuracy=0.723, test_loss=1.54]\n",
      "Epoch: 1: 100%|████████████████████| 1/1 [00:01<00:00,  1.13s/batch, accuracy=0.771, test_loss=1.19]\n",
      "Epoch: 1: 100%|███████████████████| 1/1 [00:01<00:00,  1.12s/batch, accuracy=0.803, test_loss=0.913]\n",
      "Epoch: 1: 100%|████████████████████| 1/1 [00:01<00:00,  1.12s/batch, accuracy=0.83, test_loss=0.731]\n",
      "Epoch: 1: 100%|███████████████████| 1/1 [00:01<00:00,  1.18s/batch, accuracy=0.845, test_loss=0.619]\n",
      "Epoch: 1: 100%|███████████████████| 1/1 [00:01<00:00,  1.13s/batch, accuracy=0.859, test_loss=0.548]\n",
      "Epoch: 1: 100%|███████████████████| 1/1 [00:01<00:00,  1.08s/batch, accuracy=0.871, test_loss=0.499]\n",
      "Epoch: 1: 100%|███████████████████| 1/1 [00:01<00:00,  1.18s/batch, accuracy=0.877, test_loss=0.464]\n",
      "Epoch: 1: 100%|███████████████████| 1/1 [00:01<00:00,  1.13s/batch, accuracy=0.881, test_loss=0.437]\n",
      "Epoch: 1: 100%|███████████████████| 1/1 [00:01<00:00,  1.17s/batch, accuracy=0.885, test_loss=0.416]\n",
      "Epoch: 1: 100%|█████████████████████| 1/1 [00:01<00:00,  1.10s/batch, accuracy=0.893, test_loss=0.4]\n",
      "Epoch: 1: 100%|███████████████████| 1/1 [00:01<00:00,  1.13s/batch, accuracy=0.898, test_loss=0.386]\n",
      "Epoch: 1: 100%|███████████████████| 1/1 [00:01<00:00,  1.11s/batch, accuracy=0.901, test_loss=0.374]\n",
      "Epoch: 1: 100%|███████████████████| 1/1 [00:01<00:00,  1.11s/batch, accuracy=0.902, test_loss=0.365]\n",
      "Epoch: 1: 100%|███████████████████| 1/1 [00:01<00:00,  1.12s/batch, accuracy=0.904, test_loss=0.356]\n",
      "Epoch: 1: 100%|███████████████████| 1/1 [00:01<00:00,  1.11s/batch, accuracy=0.903, test_loss=0.349]\n",
      "Epoch: 1: 100%|███████████████████| 1/1 [00:01<00:00,  1.14s/batch, accuracy=0.905, test_loss=0.343]\n",
      "Epoch: 1: 100%|███████████████████| 1/1 [00:01<00:00,  1.23s/batch, accuracy=0.908, test_loss=0.337]\n",
      "Epoch: 1: 100%|███████████████████| 1/1 [00:01<00:00,  1.11s/batch, accuracy=0.909, test_loss=0.333]\n",
      "Epoch: 1: 100%|████████████████████| 1/1 [00:01<00:00,  1.11s/batch, accuracy=0.91, test_loss=0.328]\n",
      "Epoch: 1: 100%|███████████████████| 1/1 [00:01<00:00,  1.13s/batch, accuracy=0.912, test_loss=0.324]\n",
      "Epoch: 1: 100%|███████████████████| 1/1 [00:01<00:00,  1.12s/batch, accuracy=0.912, test_loss=0.321]\n",
      "Epoch: 1: 100%|███████████████████| 1/1 [00:01<00:00,  1.17s/batch, accuracy=0.913, test_loss=0.318]\n",
      "Epoch: 1: 100%|███████████████████| 1/1 [00:01<00:00,  1.13s/batch, accuracy=0.914, test_loss=0.315]\n",
      "Epoch: 1: 100%|███████████████████| 1/1 [00:01<00:00,  1.14s/batch, accuracy=0.914, test_loss=0.312]\n",
      "Epoch: 1: 100%|████████████████████| 1/1 [00:01<00:00,  1.09s/batch, accuracy=0.915, test_loss=0.31]\n",
      "Epoch: 1: 100%|███████████████████| 1/1 [00:01<00:00,  1.21s/batch, accuracy=0.919, test_loss=0.308]\n",
      "Epoch: 1: 100%|███████████████████| 1/1 [00:01<00:00,  1.12s/batch, accuracy=0.918, test_loss=0.306]\n",
      "Epoch: 1: 100%|███████████████████| 1/1 [00:01<00:00,  1.13s/batch, accuracy=0.921, test_loss=0.305]\n",
      "Epoch: 1: 100%|███████████████████| 1/1 [00:01<00:00,  1.14s/batch, accuracy=0.919, test_loss=0.304]\n",
      "Epoch: 1: 100%|███████████████████| 1/1 [00:01<00:00,  1.13s/batch, accuracy=0.919, test_loss=0.303]\n",
      "Epoch: 1: 100%|███████████████████| 1/1 [00:01<00:00,  1.17s/batch, accuracy=0.919, test_loss=0.302]\n",
      "Epoch: 1: 100%|████████████████████| 1/1 [00:01<00:00,  1.15s/batch, accuracy=0.92, test_loss=0.301]\n",
      "Epoch: 1: 100%|██████████████████████| 1/1 [00:01<00:00,  1.13s/batch, accuracy=0.92, test_loss=0.3]\n",
      "Epoch: 1: 100%|███████████████████| 1/1 [00:01<00:00,  1.12s/batch, accuracy=0.919, test_loss=0.299]\n",
      "Epoch: 1: 100%|███████████████████| 1/1 [00:01<00:00,  1.14s/batch, accuracy=0.919, test_loss=0.298]\n",
      "Epoch: 1: 100%|████████████████████| 1/1 [00:01<00:00,  1.11s/batch, accuracy=0.92, test_loss=0.298]\n",
      "Epoch: 1: 100%|███████████████████| 1/1 [00:01<00:00,  1.14s/batch, accuracy=0.921, test_loss=0.298]\n",
      "Epoch: 1: 100%|███████████████████| 1/1 [00:01<00:00,  1.21s/batch, accuracy=0.921, test_loss=0.297]\n",
      "Epoch: 1: 100%|███████████████████| 1/1 [00:01<00:00,  1.14s/batch, accuracy=0.921, test_loss=0.297]\n",
      "Epoch: 1: 100%|███████████████████| 1/1 [00:01<00:00,  1.14s/batch, accuracy=0.921, test_loss=0.297]\n",
      "Epoch: 1: 100%|███████████████████| 1/1 [00:01<00:00,  1.13s/batch, accuracy=0.921, test_loss=0.297]\n",
      "Epoch: 1: 100%|███████████████████| 1/1 [00:01<00:00,  1.16s/batch, accuracy=0.921, test_loss=0.297]\n",
      "Epoch: 1: 100%|███████████████████| 1/1 [00:01<00:00,  1.18s/batch, accuracy=0.923, test_loss=0.298]\n",
      "Epoch: 1: 100%|███████████████████| 1/1 [00:01<00:00,  1.13s/batch, accuracy=0.923, test_loss=0.297]\n",
      "Epoch: 1: 100%|███████████████████| 1/1 [00:01<00:00,  1.10s/batch, accuracy=0.923, test_loss=0.297]\n",
      "Epoch: 1: 100%|███████████████████| 1/1 [00:01<00:00,  1.17s/batch, accuracy=0.923, test_loss=0.298]\n",
      "Epoch: 1: 100%|███████████████████| 1/1 [00:01<00:00,  1.09s/batch, accuracy=0.923, test_loss=0.298]\n",
      "Epoch: 1: 100%|███████████████████| 1/1 [00:01<00:00,  1.22s/batch, accuracy=0.923, test_loss=0.298]\n",
      "Epoch: 1: 100%|███████████████████| 1/1 [00:01<00:00,  1.21s/batch, accuracy=0.924, test_loss=0.298]\n",
      "Epoch: 1: 100%|███████████████████| 1/1 [00:01<00:00,  1.13s/batch, accuracy=0.923, test_loss=0.299]\n",
      "Epoch: 1: 100%|███████████████████| 1/1 [00:01<00:00,  1.10s/batch, accuracy=0.924, test_loss=0.299]\n",
      "Epoch: 1: 100%|█████████████████████| 1/1 [00:01<00:00,  1.15s/batch, accuracy=0.924, test_loss=0.3]\n",
      "Epoch: 1: 100%|█████████████████████| 1/1 [00:01<00:00,  1.09s/batch, accuracy=0.924, test_loss=0.3]\n",
      "Epoch: 1: 100%|███████████████████| 1/1 [00:01<00:00,  1.12s/batch, accuracy=0.924, test_loss=0.301]\n",
      "Epoch: 1: 100%|███████████████████| 1/1 [00:01<00:00,  1.13s/batch, accuracy=0.925, test_loss=0.301]\n",
      "Epoch: 1: 100%|███████████████████| 1/1 [00:01<00:00,  1.15s/batch, accuracy=0.926, test_loss=0.301]\n",
      "Epoch: 1: 100%|███████████████████| 1/1 [00:01<00:00,  1.12s/batch, accuracy=0.926, test_loss=0.302]\n",
      "Epoch: 1: 100%|███████████████████| 1/1 [00:01<00:00,  1.15s/batch, accuracy=0.926, test_loss=0.303]\n",
      "Epoch: 1: 100%|███████████████████| 1/1 [00:01<00:00,  1.24s/batch, accuracy=0.926, test_loss=0.303]\n",
      "Epoch: 1: 100%|███████████████████| 1/1 [00:01<00:00,  1.12s/batch, accuracy=0.926, test_loss=0.304]\n",
      "Epoch: 1: 100%|███████████████████| 1/1 [00:01<00:00,  1.16s/batch, accuracy=0.927, test_loss=0.305]\n",
      "Epoch: 1: 100%|███████████████████| 1/1 [00:01<00:00,  1.13s/batch, accuracy=0.928, test_loss=0.305]\n",
      "Epoch: 1: 100%|███████████████████| 1/1 [00:01<00:00,  1.13s/batch, accuracy=0.928, test_loss=0.307]\n",
      "Epoch: 1: 100%|███████████████████| 1/1 [00:01<00:00,  1.17s/batch, accuracy=0.928, test_loss=0.307]\n",
      "Epoch: 1: 100%|███████████████████| 1/1 [00:01<00:00,  1.09s/batch, accuracy=0.928, test_loss=0.308]\n",
      "Epoch: 1: 100%|███████████████████| 1/1 [00:01<00:00,  1.08s/batch, accuracy=0.928, test_loss=0.309]\n",
      "Epoch: 1: 100%|████████████████████| 1/1 [00:01<00:00,  1.11s/batch, accuracy=0.928, test_loss=0.31]\n",
      "Epoch: 1: 100%|███████████████████| 1/1 [00:01<00:00,  1.09s/batch, accuracy=0.928, test_loss=0.311]\n",
      "Epoch: 1: 100%|███████████████████| 1/1 [00:01<00:00,  1.16s/batch, accuracy=0.928, test_loss=0.312]\n",
      "Epoch: 1: 100%|███████████████████| 1/1 [00:01<00:00,  1.13s/batch, accuracy=0.927, test_loss=0.313]\n"
     ]
    },
    {
     "name": "stderr",
     "output_type": "stream",
     "text": [
      "Epoch: 1: 100%|███████████████████| 1/1 [00:01<00:00,  1.12s/batch, accuracy=0.927, test_loss=0.314]\n",
      "Epoch: 1: 100%|███████████████████| 1/1 [00:01<00:00,  1.12s/batch, accuracy=0.928, test_loss=0.316]\n",
      "Epoch: 1: 100%|███████████████████| 1/1 [00:01<00:00,  1.17s/batch, accuracy=0.928, test_loss=0.317]\n",
      "Epoch: 1: 100%|███████████████████| 1/1 [00:01<00:00,  1.13s/batch, accuracy=0.928, test_loss=0.318]\n",
      "Epoch: 1: 100%|███████████████████| 1/1 [00:01<00:00,  1.13s/batch, accuracy=0.928, test_loss=0.319]\n",
      "Epoch: 1: 100%|████████████████████| 1/1 [00:01<00:00,  1.12s/batch, accuracy=0.927, test_loss=0.32]\n",
      "Epoch: 1: 100%|███████████████████| 1/1 [00:01<00:00,  1.21s/batch, accuracy=0.926, test_loss=0.322]\n",
      "Epoch: 1: 100%|███████████████████| 1/1 [00:01<00:00,  1.10s/batch, accuracy=0.926, test_loss=0.323]\n",
      "Epoch: 1: 100%|███████████████████| 1/1 [00:01<00:00,  1.14s/batch, accuracy=0.926, test_loss=0.324]\n",
      "Epoch: 1: 100%|███████████████████| 1/1 [00:01<00:00,  1.20s/batch, accuracy=0.926, test_loss=0.325]\n",
      "Epoch: 1: 100%|███████████████████| 1/1 [00:01<00:00,  1.27s/batch, accuracy=0.926, test_loss=0.327]\n",
      "Epoch: 1: 100%|███████████████████| 1/1 [00:01<00:00,  1.09s/batch, accuracy=0.926, test_loss=0.328]\n",
      "Epoch: 1: 100%|███████████████████| 1/1 [00:01<00:00,  1.12s/batch, accuracy=0.927, test_loss=0.329]\n",
      "Epoch: 1: 100%|███████████████████| 1/1 [00:01<00:00,  1.13s/batch, accuracy=0.927, test_loss=0.331]\n",
      "Epoch: 1: 100%|███████████████████| 1/1 [00:01<00:00,  1.17s/batch, accuracy=0.929, test_loss=0.332]\n",
      "Epoch: 1: 100%|███████████████████| 1/1 [00:01<00:00,  1.15s/batch, accuracy=0.928, test_loss=0.334]\n",
      "Epoch: 1: 100%|███████████████████| 1/1 [00:01<00:00,  1.16s/batch, accuracy=0.929, test_loss=0.335]\n",
      "Epoch: 1: 100%|████████████████████| 1/1 [00:01<00:00,  1.11s/batch, accuracy=0.93, test_loss=0.337]\n",
      "Epoch: 1: 100%|████████████████████| 1/1 [00:01<00:00,  1.16s/batch, accuracy=0.93, test_loss=0.338]\n",
      "Epoch: 1: 100%|████████████████████| 1/1 [00:01<00:00,  1.16s/batch, accuracy=0.93, test_loss=0.339]\n",
      "Epoch: 1: 100%|████████████████████| 1/1 [00:01<00:00,  1.20s/batch, accuracy=0.93, test_loss=0.341]\n",
      "Epoch: 1: 100%|████████████████████| 1/1 [00:01<00:00,  1.09s/batch, accuracy=0.93, test_loss=0.342]\n",
      "Epoch: 1: 100%|████████████████████| 1/1 [00:01<00:00,  1.15s/batch, accuracy=0.93, test_loss=0.343]\n",
      "Epoch: 1: 100%|███████████████████| 1/1 [00:01<00:00,  1.16s/batch, accuracy=0.931, test_loss=0.345]\n",
      "Epoch: 1: 100%|███████████████████| 1/1 [00:01<00:00,  1.14s/batch, accuracy=0.931, test_loss=0.346]\n",
      "Epoch: 1: 100%|███████████████████| 1/1 [00:01<00:00,  1.12s/batch, accuracy=0.931, test_loss=0.348]\n",
      "Epoch: 1: 100%|███████████████████| 1/1 [00:01<00:00,  1.17s/batch, accuracy=0.931, test_loss=0.349]\n",
      "Epoch: 1: 100%|███████████████████| 1/1 [00:01<00:00,  1.15s/batch, accuracy=0.931, test_loss=0.351]\n",
      "Epoch: 1: 100%|███████████████████| 1/1 [00:01<00:00,  1.13s/batch, accuracy=0.932, test_loss=0.352]\n",
      "Epoch: 1: 100%|███████████████████| 1/1 [00:01<00:00,  1.14s/batch, accuracy=0.932, test_loss=0.354]\n",
      "Epoch: 1: 100%|███████████████████| 1/1 [00:01<00:00,  1.14s/batch, accuracy=0.932, test_loss=0.355]\n",
      "Epoch: 1: 100%|███████████████████| 1/1 [00:01<00:00,  1.12s/batch, accuracy=0.932, test_loss=0.357]\n",
      "Epoch: 1: 100%|███████████████████| 1/1 [00:01<00:00,  1.19s/batch, accuracy=0.932, test_loss=0.358]\n",
      "Epoch: 1: 100%|███████████████████| 1/1 [00:01<00:00,  1.20s/batch, accuracy=0.932, test_loss=0.359]\n",
      "Epoch: 1: 100%|███████████████████| 1/1 [00:01<00:00,  1.15s/batch, accuracy=0.932, test_loss=0.361]\n",
      "Epoch: 1: 100%|███████████████████| 1/1 [00:01<00:00,  1.11s/batch, accuracy=0.933, test_loss=0.362]\n",
      "Epoch: 1: 100%|███████████████████| 1/1 [00:01<00:00,  1.12s/batch, accuracy=0.932, test_loss=0.363]\n",
      "Epoch: 1: 100%|███████████████████| 1/1 [00:01<00:00,  1.12s/batch, accuracy=0.933, test_loss=0.365]\n",
      "Epoch: 1: 100%|███████████████████| 1/1 [00:01<00:00,  1.14s/batch, accuracy=0.933, test_loss=0.366]\n",
      "Epoch: 1: 100%|███████████████████| 1/1 [00:01<00:00,  1.16s/batch, accuracy=0.933, test_loss=0.368]\n",
      "Epoch: 1: 100%|███████████████████| 1/1 [00:01<00:00,  1.18s/batch, accuracy=0.933, test_loss=0.369]\n",
      "Epoch: 1: 100%|████████████████████| 1/1 [00:01<00:00,  1.16s/batch, accuracy=0.933, test_loss=0.37]\n",
      "Epoch: 1: 100%|███████████████████| 1/1 [00:01<00:00,  1.11s/batch, accuracy=0.933, test_loss=0.371]\n",
      "Epoch: 1: 100%|███████████████████| 1/1 [00:01<00:00,  1.15s/batch, accuracy=0.933, test_loss=0.373]\n",
      "Epoch: 1: 100%|███████████████████| 1/1 [00:01<00:00,  1.12s/batch, accuracy=0.933, test_loss=0.374]\n",
      "Epoch: 1: 100%|███████████████████| 1/1 [00:01<00:00,  1.22s/batch, accuracy=0.933, test_loss=0.376]\n",
      "Epoch: 1: 100%|███████████████████| 1/1 [00:01<00:00,  1.25s/batch, accuracy=0.933, test_loss=0.377]\n",
      "Epoch: 1: 100%|███████████████████| 1/1 [00:01<00:00,  1.12s/batch, accuracy=0.933, test_loss=0.378]\n",
      "Epoch: 1: 100%|████████████████████| 1/1 [00:01<00:00,  1.14s/batch, accuracy=0.933, test_loss=0.38]\n",
      "Epoch: 1: 100%|███████████████████| 1/1 [00:01<00:00,  1.13s/batch, accuracy=0.933, test_loss=0.381]\n",
      "Epoch: 1: 100%|███████████████████| 1/1 [00:01<00:00,  1.10s/batch, accuracy=0.933, test_loss=0.382]\n",
      "Epoch: 1: 100%|███████████████████| 1/1 [00:01<00:00,  1.19s/batch, accuracy=0.933, test_loss=0.384]\n",
      "Epoch: 1: 100%|███████████████████| 1/1 [00:01<00:00,  1.19s/batch, accuracy=0.933, test_loss=0.385]\n",
      "Epoch: 1: 100%|███████████████████| 1/1 [00:01<00:00,  1.14s/batch, accuracy=0.933, test_loss=0.386]\n",
      "Epoch: 1: 100%|███████████████████| 1/1 [00:01<00:00,  1.16s/batch, accuracy=0.933, test_loss=0.387]\n",
      "Epoch: 1: 100%|███████████████████| 1/1 [00:01<00:00,  1.18s/batch, accuracy=0.933, test_loss=0.389]\n",
      "Epoch: 1: 100%|████████████████████| 1/1 [00:01<00:00,  1.15s/batch, accuracy=0.933, test_loss=0.39]\n",
      "Epoch: 1: 100%|███████████████████| 1/1 [00:01<00:00,  1.19s/batch, accuracy=0.933, test_loss=0.391]\n",
      "Epoch: 1: 100%|███████████████████| 1/1 [00:01<00:00,  1.17s/batch, accuracy=0.933, test_loss=0.392]\n",
      "Epoch: 1: 100%|███████████████████| 1/1 [00:01<00:00,  1.14s/batch, accuracy=0.933, test_loss=0.394]\n",
      "Epoch: 1: 100%|███████████████████| 1/1 [00:01<00:00,  1.15s/batch, accuracy=0.933, test_loss=0.395]\n",
      "Epoch: 1: 100%|███████████████████| 1/1 [00:01<00:00,  1.17s/batch, accuracy=0.933, test_loss=0.396]\n",
      "Epoch: 1: 100%|███████████████████| 1/1 [00:01<00:00,  1.17s/batch, accuracy=0.933, test_loss=0.398]\n",
      "Epoch: 1: 100%|███████████████████| 1/1 [00:01<00:00,  1.26s/batch, accuracy=0.933, test_loss=0.399]\n",
      "Epoch: 1: 100%|█████████████████████| 1/1 [00:01<00:00,  1.22s/batch, accuracy=0.933, test_loss=0.4]\n",
      "Epoch: 1: 100%|███████████████████| 1/1 [00:01<00:00,  1.17s/batch, accuracy=0.933, test_loss=0.401]\n",
      "Epoch: 1: 100%|███████████████████| 1/1 [00:01<00:00,  1.25s/batch, accuracy=0.933, test_loss=0.403]\n",
      "Epoch: 1: 100%|███████████████████| 1/1 [00:01<00:00,  1.15s/batch, accuracy=0.933, test_loss=0.404]\n",
      "Epoch: 1: 100%|███████████████████| 1/1 [00:01<00:00,  1.14s/batch, accuracy=0.933, test_loss=0.405]\n",
      "Epoch: 1: 100%|███████████████████| 1/1 [00:01<00:00,  1.19s/batch, accuracy=0.933, test_loss=0.407]\n",
      "Epoch: 1: 100%|███████████████████| 1/1 [00:01<00:00,  1.15s/batch, accuracy=0.933, test_loss=0.408]\n",
      "Epoch: 1: 100%|███████████████████| 1/1 [00:01<00:00,  1.22s/batch, accuracy=0.933, test_loss=0.409]\n",
      "Epoch: 1: 100%|████████████████████| 1/1 [00:01<00:00,  1.19s/batch, accuracy=0.933, test_loss=0.41]\n",
      "Epoch: 1: 100%|███████████████████| 1/1 [00:01<00:00,  1.20s/batch, accuracy=0.933, test_loss=0.411]\n",
      "Epoch: 1: 100%|███████████████████| 1/1 [00:01<00:00,  1.20s/batch, accuracy=0.933, test_loss=0.413]\n",
      "Epoch: 1: 100%|███████████████████| 1/1 [00:01<00:00,  1.15s/batch, accuracy=0.933, test_loss=0.414]\n",
      "Epoch: 1: 100%|███████████████████| 1/1 [00:01<00:00,  1.15s/batch, accuracy=0.933, test_loss=0.415]\n",
      "Epoch: 1: 100%|███████████████████| 1/1 [00:01<00:00,  1.15s/batch, accuracy=0.933, test_loss=0.416]\n",
      "Epoch: 1: 100%|███████████████████| 1/1 [00:01<00:00,  1.18s/batch, accuracy=0.933, test_loss=0.417]\n",
      "Epoch: 1: 100%|███████████████████| 1/1 [00:01<00:00,  1.18s/batch, accuracy=0.933, test_loss=0.419]\n",
      "Epoch: 1: 100%|████████████████████| 1/1 [00:01<00:00,  1.16s/batch, accuracy=0.933, test_loss=0.42]\n"
     ]
    },
    {
     "name": "stderr",
     "output_type": "stream",
     "text": [
      "Epoch: 1: 100%|███████████████████| 1/1 [00:01<00:00,  1.19s/batch, accuracy=0.933, test_loss=0.421]\n",
      "Epoch: 1: 100%|███████████████████| 1/1 [00:01<00:00,  1.22s/batch, accuracy=0.933, test_loss=0.422]\n",
      "Epoch: 1: 100%|███████████████████| 1/1 [00:01<00:00,  1.15s/batch, accuracy=0.933, test_loss=0.423]\n",
      "Epoch: 1: 100%|███████████████████| 1/1 [00:01<00:00,  1.19s/batch, accuracy=0.933, test_loss=0.425]\n",
      "Epoch: 1: 100%|███████████████████| 1/1 [00:01<00:00,  1.16s/batch, accuracy=0.933, test_loss=0.426]\n",
      "Epoch: 1: 100%|███████████████████| 1/1 [00:01<00:00,  1.21s/batch, accuracy=0.933, test_loss=0.427]\n",
      "Epoch: 1: 100%|███████████████████| 1/1 [00:01<00:00,  1.19s/batch, accuracy=0.933, test_loss=0.428]\n",
      "Epoch: 1: 100%|████████████████████| 1/1 [00:01<00:00,  1.15s/batch, accuracy=0.933, test_loss=0.43]\n",
      "Epoch: 1: 100%|███████████████████| 1/1 [00:01<00:00,  1.22s/batch, accuracy=0.933, test_loss=0.431]\n",
      "Epoch: 1: 100%|███████████████████| 1/1 [00:01<00:00,  1.14s/batch, accuracy=0.933, test_loss=0.432]\n",
      "Epoch: 1: 100%|███████████████████| 1/1 [00:01<00:00,  1.16s/batch, accuracy=0.933, test_loss=0.433]\n",
      "Epoch: 1: 100%|███████████████████| 1/1 [00:01<00:00,  1.18s/batch, accuracy=0.932, test_loss=0.434]\n",
      "Epoch: 1: 100%|███████████████████| 1/1 [00:01<00:00,  1.13s/batch, accuracy=0.932, test_loss=0.435]\n",
      "Epoch: 1: 100%|███████████████████| 1/1 [00:01<00:00,  1.17s/batch, accuracy=0.933, test_loss=0.436]\n",
      "Epoch: 1: 100%|███████████████████| 1/1 [00:01<00:00,  1.20s/batch, accuracy=0.932, test_loss=0.438]\n",
      "Epoch: 1: 100%|███████████████████| 1/1 [00:01<00:00,  1.18s/batch, accuracy=0.932, test_loss=0.439]\n",
      "Epoch: 1: 100%|████████████████████| 1/1 [00:01<00:00,  1.20s/batch, accuracy=0.932, test_loss=0.44]\n",
      "Epoch: 1: 100%|███████████████████| 1/1 [00:01<00:00,  1.19s/batch, accuracy=0.932, test_loss=0.441]\n",
      "Epoch: 1: 100%|███████████████████| 1/1 [00:01<00:00,  1.20s/batch, accuracy=0.932, test_loss=0.442]\n",
      "Epoch: 1: 100%|███████████████████| 1/1 [00:01<00:00,  1.20s/batch, accuracy=0.932, test_loss=0.444]\n",
      "Epoch: 1: 100%|███████████████████| 1/1 [00:01<00:00,  1.16s/batch, accuracy=0.933, test_loss=0.445]\n",
      "Epoch: 1: 100%|███████████████████| 1/1 [00:01<00:00,  1.17s/batch, accuracy=0.933, test_loss=0.446]\n",
      "Epoch: 1: 100%|███████████████████| 1/1 [00:01<00:00,  1.16s/batch, accuracy=0.933, test_loss=0.447]\n",
      "Epoch: 1: 100%|███████████████████| 1/1 [00:01<00:00,  1.20s/batch, accuracy=0.933, test_loss=0.448]\n",
      "Epoch: 1: 100%|███████████████████| 1/1 [00:01<00:00,  1.17s/batch, accuracy=0.933, test_loss=0.449]\n",
      "Epoch: 1: 100%|███████████████████| 1/1 [00:01<00:00,  1.24s/batch, accuracy=0.933, test_loss=0.451]\n",
      "Epoch: 1: 100%|███████████████████| 1/1 [00:01<00:00,  1.20s/batch, accuracy=0.933, test_loss=0.452]\n",
      "Epoch: 1: 100%|███████████████████| 1/1 [00:01<00:00,  1.15s/batch, accuracy=0.933, test_loss=0.453]\n",
      "Epoch: 1: 100%|███████████████████| 1/1 [00:01<00:00,  1.16s/batch, accuracy=0.932, test_loss=0.454]\n",
      "Epoch: 1: 100%|███████████████████| 1/1 [00:01<00:00,  1.20s/batch, accuracy=0.933, test_loss=0.455]\n",
      "Epoch: 1: 100%|███████████████████| 1/1 [00:01<00:00,  1.17s/batch, accuracy=0.933, test_loss=0.456]\n",
      "Epoch: 1: 100%|███████████████████| 1/1 [00:01<00:00,  1.18s/batch, accuracy=0.933, test_loss=0.458]\n",
      "Epoch: 1: 100%|███████████████████| 1/1 [00:01<00:00,  1.17s/batch, accuracy=0.933, test_loss=0.459]\n",
      "Epoch: 1: 100%|████████████████████| 1/1 [00:01<00:00,  1.22s/batch, accuracy=0.933, test_loss=0.46]\n",
      "Epoch: 1: 100%|███████████████████| 1/1 [00:01<00:00,  1.16s/batch, accuracy=0.932, test_loss=0.461]\n",
      "Epoch: 1: 100%|███████████████████| 1/1 [00:01<00:00,  1.17s/batch, accuracy=0.933, test_loss=0.462]\n",
      "Epoch: 1: 100%|███████████████████| 1/1 [00:01<00:00,  1.18s/batch, accuracy=0.932, test_loss=0.463]\n",
      "Epoch: 1: 100%|███████████████████| 1/1 [00:01<00:00,  1.21s/batch, accuracy=0.932, test_loss=0.464]\n",
      "Epoch: 1: 100%|███████████████████| 1/1 [00:01<00:00,  1.26s/batch, accuracy=0.933, test_loss=0.466]\n",
      "Epoch: 1: 100%|███████████████████| 1/1 [00:01<00:00,  1.20s/batch, accuracy=0.933, test_loss=0.467]\n",
      "Epoch: 1: 100%|███████████████████| 1/1 [00:01<00:00,  1.23s/batch, accuracy=0.933, test_loss=0.468]\n",
      "Epoch: 1: 100%|███████████████████| 1/1 [00:01<00:00,  1.22s/batch, accuracy=0.933, test_loss=0.469]\n",
      "Epoch: 1: 100%|████████████████████| 1/1 [00:01<00:00,  1.20s/batch, accuracy=0.933, test_loss=0.47]\n",
      "Epoch: 1: 100%|███████████████████| 1/1 [00:01<00:00,  1.21s/batch, accuracy=0.933, test_loss=0.471]\n",
      "Epoch: 1: 100%|███████████████████| 1/1 [00:01<00:00,  1.17s/batch, accuracy=0.933, test_loss=0.472]\n",
      "Epoch: 1: 100%|███████████████████| 1/1 [00:01<00:00,  1.15s/batch, accuracy=0.933, test_loss=0.473]\n",
      "Epoch: 1: 100%|███████████████████| 1/1 [00:01<00:00,  1.16s/batch, accuracy=0.933, test_loss=0.474]\n",
      "Epoch: 1: 100%|███████████████████| 1/1 [00:01<00:00,  1.20s/batch, accuracy=0.933, test_loss=0.475]\n",
      "Epoch: 1: 100%|███████████████████| 1/1 [00:01<00:00,  1.16s/batch, accuracy=0.933, test_loss=0.476]\n",
      "Epoch: 1: 100%|███████████████████| 1/1 [00:01<00:00,  1.15s/batch, accuracy=0.933, test_loss=0.477]\n",
      "Epoch: 1: 100%|███████████████████| 1/1 [00:01<00:00,  1.16s/batch, accuracy=0.933, test_loss=0.479]\n",
      "Epoch: 1: 100%|████████████████████| 1/1 [00:01<00:00,  1.17s/batch, accuracy=0.933, test_loss=0.48]\n",
      "Epoch: 1: 100%|███████████████████| 1/1 [00:01<00:00,  1.19s/batch, accuracy=0.933, test_loss=0.481]\n",
      "Epoch: 1: 100%|███████████████████| 1/1 [00:01<00:00,  1.16s/batch, accuracy=0.933, test_loss=0.482]\n",
      "Epoch: 1: 100%|███████████████████| 1/1 [00:01<00:00,  1.26s/batch, accuracy=0.933, test_loss=0.483]\n",
      "Epoch: 1: 100%|███████████████████| 1/1 [00:01<00:00,  1.20s/batch, accuracy=0.933, test_loss=0.484]\n",
      "Epoch: 1: 100%|███████████████████| 1/1 [00:01<00:00,  1.21s/batch, accuracy=0.933, test_loss=0.485]\n",
      "Epoch: 1: 100%|███████████████████| 1/1 [00:01<00:00,  1.18s/batch, accuracy=0.933, test_loss=0.486]\n",
      "Epoch: 1: 100%|███████████████████| 1/1 [00:01<00:00,  1.15s/batch, accuracy=0.933, test_loss=0.487]\n",
      "Epoch: 1: 100%|███████████████████| 1/1 [00:01<00:00,  1.16s/batch, accuracy=0.933, test_loss=0.488]\n",
      "Epoch: 1: 100%|███████████████████| 1/1 [00:01<00:00,  1.31s/batch, accuracy=0.933, test_loss=0.489]\n",
      "Epoch: 1: 100%|████████████████████| 1/1 [00:01<00:00,  1.20s/batch, accuracy=0.933, test_loss=0.49]\n",
      "Epoch: 1: 100%|███████████████████| 1/1 [00:01<00:00,  1.19s/batch, accuracy=0.933, test_loss=0.491]\n",
      "Epoch: 1: 100%|███████████████████| 1/1 [00:01<00:00,  1.17s/batch, accuracy=0.933, test_loss=0.492]\n",
      "Epoch: 1: 100%|███████████████████| 1/1 [00:01<00:00,  1.16s/batch, accuracy=0.933, test_loss=0.493]\n",
      "Epoch: 1: 100%|███████████████████| 1/1 [00:01<00:00,  1.18s/batch, accuracy=0.933, test_loss=0.494]\n",
      "Epoch: 1: 100%|███████████████████| 1/1 [00:01<00:00,  1.18s/batch, accuracy=0.933, test_loss=0.496]\n",
      "Epoch: 1: 100%|███████████████████| 1/1 [00:01<00:00,  1.21s/batch, accuracy=0.933, test_loss=0.496]\n",
      "Epoch: 1: 100%|███████████████████| 1/1 [00:01<00:00,  1.18s/batch, accuracy=0.933, test_loss=0.498]\n",
      "Epoch: 1: 100%|███████████████████| 1/1 [00:01<00:00,  1.20s/batch, accuracy=0.933, test_loss=0.498]\n",
      "Epoch: 1: 100%|█████████████████████| 1/1 [00:01<00:00,  1.17s/batch, accuracy=0.933, test_loss=0.5]\n",
      "Epoch: 1: 100%|█████████████████████| 1/1 [00:01<00:00,  1.16s/batch, accuracy=0.933, test_loss=0.5]\n",
      "Epoch: 1: 100%|███████████████████| 1/1 [00:01<00:00,  1.22s/batch, accuracy=0.933, test_loss=0.502]\n",
      "Epoch: 1: 100%|███████████████████| 1/1 [00:01<00:00,  1.16s/batch, accuracy=0.933, test_loss=0.502]\n",
      "Epoch: 1: 100%|███████████████████| 1/1 [00:01<00:00,  1.20s/batch, accuracy=0.933, test_loss=0.504]\n",
      "Epoch: 1: 100%|███████████████████| 1/1 [00:01<00:00,  1.20s/batch, accuracy=0.933, test_loss=0.505]\n",
      "Epoch: 1: 100%|███████████████████| 1/1 [00:01<00:00,  1.19s/batch, accuracy=0.933, test_loss=0.506]\n",
      "Epoch: 1: 100%|███████████████████| 1/1 [00:01<00:00,  1.16s/batch, accuracy=0.933, test_loss=0.507]\n",
      "Epoch: 1: 100%|███████████████████| 1/1 [00:01<00:00,  1.19s/batch, accuracy=0.933, test_loss=0.508]\n",
      "Epoch: 1: 100%|███████████████████| 1/1 [00:01<00:00,  1.17s/batch, accuracy=0.933, test_loss=0.509]\n",
      "Epoch: 1: 100%|████████████████████| 1/1 [00:01<00:00,  1.16s/batch, accuracy=0.933, test_loss=0.51]\n"
     ]
    },
    {
     "name": "stderr",
     "output_type": "stream",
     "text": [
      "Epoch: 1: 100%|███████████████████| 1/1 [00:01<00:00,  1.19s/batch, accuracy=0.933, test_loss=0.511]\n",
      "Epoch: 1: 100%|███████████████████| 1/1 [00:01<00:00,  1.17s/batch, accuracy=0.933, test_loss=0.512]\n",
      "Epoch: 1: 100%|███████████████████| 1/1 [00:01<00:00,  1.30s/batch, accuracy=0.933, test_loss=0.513]\n",
      "Epoch: 1: 100%|███████████████████| 1/1 [00:01<00:00,  1.19s/batch, accuracy=0.933, test_loss=0.514]\n",
      "Epoch: 1: 100%|███████████████████| 1/1 [00:01<00:00,  1.17s/batch, accuracy=0.933, test_loss=0.515]\n",
      "Epoch: 1: 100%|███████████████████| 1/1 [00:01<00:00,  1.17s/batch, accuracy=0.933, test_loss=0.516]\n",
      "Epoch: 1: 100%|███████████████████| 1/1 [00:01<00:00,  1.17s/batch, accuracy=0.933, test_loss=0.517]\n",
      "Epoch: 1: 100%|███████████████████| 1/1 [00:01<00:00,  1.15s/batch, accuracy=0.933, test_loss=0.518]\n",
      "Epoch: 1: 100%|███████████████████| 1/1 [00:01<00:00,  1.18s/batch, accuracy=0.933, test_loss=0.519]\n",
      "Epoch: 1: 100%|████████████████████| 1/1 [00:01<00:00,  1.17s/batch, accuracy=0.933, test_loss=0.52]\n",
      "Epoch: 1: 100%|███████████████████| 1/1 [00:01<00:00,  1.18s/batch, accuracy=0.933, test_loss=0.521]\n",
      "Epoch: 1: 100%|███████████████████| 1/1 [00:01<00:00,  1.20s/batch, accuracy=0.932, test_loss=0.522]\n",
      "Epoch: 1: 100%|███████████████████| 1/1 [00:01<00:00,  1.26s/batch, accuracy=0.932, test_loss=0.523]\n",
      "Epoch: 1: 100%|███████████████████| 1/1 [00:01<00:00,  1.17s/batch, accuracy=0.932, test_loss=0.524]\n",
      "Epoch: 1: 100%|███████████████████| 1/1 [00:01<00:00,  1.19s/batch, accuracy=0.932, test_loss=0.525]\n",
      "Epoch: 1: 100%|███████████████████| 1/1 [00:01<00:00,  1.22s/batch, accuracy=0.932, test_loss=0.526]\n",
      "Epoch: 1: 100%|███████████████████| 1/1 [00:01<00:00,  1.18s/batch, accuracy=0.932, test_loss=0.527]\n",
      "Epoch: 1: 100%|███████████████████| 1/1 [00:01<00:00,  1.17s/batch, accuracy=0.932, test_loss=0.528]\n",
      "Epoch: 1: 100%|███████████████████| 1/1 [00:01<00:00,  1.22s/batch, accuracy=0.932, test_loss=0.529]\n",
      "Epoch: 1: 100%|████████████████████| 1/1 [00:01<00:00,  1.21s/batch, accuracy=0.932, test_loss=0.53]\n",
      "Epoch: 1: 100%|███████████████████| 1/1 [00:01<00:00,  1.17s/batch, accuracy=0.932, test_loss=0.531]\n",
      "Epoch: 1: 100%|███████████████████| 1/1 [00:01<00:00,  1.16s/batch, accuracy=0.932, test_loss=0.532]\n",
      "Epoch: 1: 100%|███████████████████| 1/1 [00:01<00:00,  1.20s/batch, accuracy=0.932, test_loss=0.533]\n",
      "Epoch: 1: 100%|███████████████████| 1/1 [00:01<00:00,  1.23s/batch, accuracy=0.932, test_loss=0.534]\n",
      "Epoch: 1: 100%|███████████████████| 1/1 [00:01<00:00,  1.17s/batch, accuracy=0.932, test_loss=0.535]\n",
      "Epoch: 1: 100%|███████████████████| 1/1 [00:01<00:00,  1.29s/batch, accuracy=0.932, test_loss=0.536]\n",
      "Epoch: 1: 100%|███████████████████| 1/1 [00:01<00:00,  1.17s/batch, accuracy=0.932, test_loss=0.537]\n",
      "Epoch: 1: 100%|███████████████████| 1/1 [00:01<00:00,  1.24s/batch, accuracy=0.932, test_loss=0.538]\n",
      "Epoch: 1: 100%|███████████████████| 1/1 [00:01<00:00,  1.21s/batch, accuracy=0.932, test_loss=0.539]\n",
      "Epoch: 1: 100%|████████████████████| 1/1 [00:01<00:00,  1.20s/batch, accuracy=0.932, test_loss=0.54]\n",
      "Epoch: 1: 100%|███████████████████| 1/1 [00:01<00:00,  1.23s/batch, accuracy=0.932, test_loss=0.541]\n",
      "Epoch: 1: 100%|███████████████████| 1/1 [00:01<00:00,  1.21s/batch, accuracy=0.932, test_loss=0.542]\n",
      "Epoch: 1: 100%|███████████████████| 1/1 [00:01<00:00,  1.19s/batch, accuracy=0.932, test_loss=0.542]\n",
      "Epoch: 1: 100%|███████████████████| 1/1 [00:01<00:00,  1.23s/batch, accuracy=0.932, test_loss=0.543]\n",
      "Epoch: 1: 100%|███████████████████| 1/1 [00:01<00:00,  1.27s/batch, accuracy=0.932, test_loss=0.545]\n",
      "Epoch: 1: 100%|███████████████████| 1/1 [00:01<00:00,  1.26s/batch, accuracy=0.932, test_loss=0.545]\n",
      "Epoch: 1: 100%|███████████████████| 1/1 [00:01<00:00,  1.18s/batch, accuracy=0.932, test_loss=0.546]\n",
      "Epoch: 1: 100%|███████████████████| 1/1 [00:01<00:00,  1.22s/batch, accuracy=0.932, test_loss=0.547]\n",
      "Epoch: 1: 100%|███████████████████| 1/1 [00:01<00:00,  1.23s/batch, accuracy=0.932, test_loss=0.549]\n",
      "Epoch: 1: 100%|███████████████████| 1/1 [00:01<00:00,  1.16s/batch, accuracy=0.932, test_loss=0.549]\n",
      "Epoch: 1: 100%|████████████████████| 1/1 [00:01<00:00,  1.20s/batch, accuracy=0.932, test_loss=0.55]\n",
      "Epoch: 1: 100%|███████████████████| 1/1 [00:01<00:00,  1.18s/batch, accuracy=0.932, test_loss=0.551]\n",
      "Epoch: 1: 100%|███████████████████| 1/1 [00:01<00:00,  1.17s/batch, accuracy=0.932, test_loss=0.552]\n",
      "Epoch: 1: 100%|███████████████████| 1/1 [00:01<00:00,  1.18s/batch, accuracy=0.932, test_loss=0.553]\n",
      "Epoch: 1: 100%|███████████████████| 1/1 [00:01<00:00,  1.18s/batch, accuracy=0.932, test_loss=0.554]\n",
      "Epoch: 1: 100%|███████████████████| 1/1 [00:01<00:00,  1.23s/batch, accuracy=0.932, test_loss=0.555]\n",
      "Epoch: 1: 100%|███████████████████| 1/1 [00:01<00:00,  1.19s/batch, accuracy=0.932, test_loss=0.556]\n",
      "Epoch: 1: 100%|███████████████████| 1/1 [00:01<00:00,  1.17s/batch, accuracy=0.932, test_loss=0.557]\n",
      "Epoch: 1: 100%|███████████████████| 1/1 [00:01<00:00,  1.24s/batch, accuracy=0.932, test_loss=0.558]\n",
      "Epoch: 1: 100%|███████████████████| 1/1 [00:01<00:00,  1.16s/batch, accuracy=0.932, test_loss=0.559]\n",
      "Epoch: 1: 100%|███████████████████| 1/1 [00:01<00:00,  1.21s/batch, accuracy=0.932, test_loss=0.559]\n",
      "Epoch: 1: 100%|███████████████████| 1/1 [00:01<00:00,  1.19s/batch, accuracy=0.932, test_loss=0.561]\n",
      "Epoch: 1: 100%|███████████████████| 1/1 [00:01<00:00,  1.21s/batch, accuracy=0.932, test_loss=0.561]\n",
      "Epoch: 1: 100%|███████████████████| 1/1 [00:01<00:00,  1.19s/batch, accuracy=0.932, test_loss=0.562]\n",
      "Epoch: 1: 100%|███████████████████| 1/1 [00:01<00:00,  1.17s/batch, accuracy=0.932, test_loss=0.563]\n",
      "Epoch: 1: 100%|███████████████████| 1/1 [00:01<00:00,  1.20s/batch, accuracy=0.932, test_loss=0.564]\n",
      "Epoch: 1: 100%|███████████████████| 1/1 [00:01<00:00,  1.18s/batch, accuracy=0.932, test_loss=0.565]\n",
      "Epoch: 1: 100%|███████████████████| 1/1 [00:01<00:00,  1.22s/batch, accuracy=0.932, test_loss=0.566]\n",
      "Epoch: 1: 100%|███████████████████| 1/1 [00:01<00:00,  1.21s/batch, accuracy=0.932, test_loss=0.567]\n",
      "Epoch: 1: 100%|███████████████████| 1/1 [00:01<00:00,  1.23s/batch, accuracy=0.932, test_loss=0.568]\n",
      "Epoch: 1: 100%|███████████████████| 1/1 [00:01<00:00,  1.20s/batch, accuracy=0.932, test_loss=0.569]\n",
      "Epoch: 1: 100%|████████████████████| 1/1 [00:01<00:00,  1.20s/batch, accuracy=0.932, test_loss=0.57]\n",
      "Epoch: 1: 100%|███████████████████| 1/1 [00:01<00:00,  1.19s/batch, accuracy=0.932, test_loss=0.571]\n",
      "Epoch: 1: 100%|███████████████████| 1/1 [00:01<00:00,  1.16s/batch, accuracy=0.932, test_loss=0.571]\n"
     ]
    }
   ],
   "source": [
    "entropy_data = {\n",
    "    \"5\": {\"infinite\": [], \"empirical\": []}, \n",
    "    \"10\": {\"infinite\": [], \"empirical\": []},\n",
    "    \"15\": {\"infinite\": [], \"empirical\": []},\n",
    "    \"20\": {\"infinite\": [], \"empirical\": []},\n",
    "    \"25\": {\"infinite\": [], \"empirical\": []},\n",
    "    \"30\": {\"infinite\": [], \"empirical\": []},\n",
    "    \"35\": {\"infinite\": [], \"empirical\": []},\n",
    "    \"40\": {\"infinite\": [], \"empirical\": []},\n",
    "    \"50\": {\"infinite\": [], \"empirical\": []},\n",
    "    \"100\": {\"infinite\": [], \"empirical\": []},\n",
    "}\n",
    "subsets = [5, 10, 15, 20, 25, 30, 35, 40, 50, 100]\n",
    "metrics_array = []\n",
    "\n",
    "for _ in range(100):\n",
    "    for item in subsets:\n",
    "        data_subset = data_generator.ds_train[\"image\"][:item]\n",
    "        ntk = production_model.compute_ntk(\n",
    "            data_subset,\n",
    "            normalize=True\n",
    "        )\n",
    "        entropy_inifinite = rnd.analysis.EntropyAnalysis(\n",
    "            ntk[\"infinite\"]\n",
    "        ).compute_von_neumann_entropy(\n",
    "            normalize=False\n",
    "        )\n",
    "        entropy_empirical = rnd.analysis.EntropyAnalysis(\n",
    "            ntk[\"empirical\"]\n",
    "        ).compute_von_neumann_entropy(\n",
    "            normalize=False\n",
    "        )\n",
    "        entropy_data[str(item)][\"infinite\"].append(entropy_inifinite)\n",
    "        entropy_data[str(item)][\"empirical\"].append(entropy_empirical)\n",
    "        \n",
    "    metrics_array.append(production_model.train_model(\n",
    "        train_ds=train_ds, test_ds=test_ds, batch_size=32, epochs=1\n",
    "    ))\n"
   ]
  },
  {
   "cell_type": "code",
   "execution_count": 7,
   "id": "9387d24e",
   "metadata": {},
   "outputs": [],
   "source": [
    "acc_arr = [item[\"accuracy\"] for item in metrics_array]\n",
    "loss_arr = [item[\"loss\"] for item in metrics_array]"
   ]
  },
  {
   "cell_type": "code",
   "execution_count": 8,
   "id": "54176188",
   "metadata": {},
   "outputs": [
    {
     "name": "stderr",
     "output_type": "stream",
     "text": [
      "/tikhome/stovey/miniconda3/envs/zincware/lib/python3.9/site-packages/matplotlib/cbook/__init__.py:1298: ComplexWarning: Casting complex values to real discards the imaginary part\n",
      "  return np.asarray(x, float)\n"
     ]
    },
    {
     "data": {
      "image/png": "[encoded data removed]",
      "text/plain": [
       "<Figure size 432x288 with 2 Axes>"
      ]
     },
     "metadata": {
      "needs_background": "light"
     },
     "output_type": "display_data"
    }
   ],
   "source": [
    "# colours = [\"red\", \"blue\", \"green\"]\n",
    "scale = [np.log(5), np.log(10), np.log(30)]\n",
    "fig, ax = plt.subplots()\n",
    "\n",
    "ax2 = ax.twinx()\n",
    "\n",
    "for i, item in enumerate(entropy_data):\n",
    "    ax.plot(entropy_data[item][\"empirical\"], label=item)\n",
    "#     ax.plot(entropy_data[item][\"infinite\"]), '-', c=colours[i])\n",
    "\n",
    "ax2.plot(acc_arr, '.')\n",
    "# plt.yscale(\"log\")\n",
    "ax.legend()\n",
    "ax.set_xlabel(\"Epoch\")\n",
    "ax2.set_ylabel(\"Accuracy\")\n",
    "ax.set_ylabel(\"Total Entropy\")\n",
    "plt.savefig(\"Entropy_vs_Training.pdf\")\n",
    "plt.show()"
   ]
  },
  {
   "cell_type": "code",
   "execution_count": 9,
   "id": "84dccdb9",
   "metadata": {},
   "outputs": [
    {
     "name": "stderr",
     "output_type": "stream",
     "text": [
      "/tikhome/stovey/miniconda3/envs/zincware/lib/python3.9/site-packages/matplotlib/cbook/__init__.py:1298: ComplexWarning: Casting complex values to real discards the imaginary part\n",
      "  return np.asarray(x, float)\n"
     ]
    },
    {
     "data": {
      "image/png": "[encoded data removed]",
      "text/plain": [
       "<Figure size 432x288 with 1 Axes>"
      ]
     },
     "metadata": {
      "needs_background": "light"
     },
     "output_type": "display_data"
    }
   ],
   "source": [
    "plt.plot(\n",
    "    subsets, \n",
    "    [entropy_data[item][\"empirical\"][-1] for item in entropy_data],\n",
    "    'o',\n",
    "    label=\"empirical\"\n",
    ")\n",
    "plt.plot(\n",
    "    subsets, \n",
    "    [entropy_data[item][\"infinite\"][-1] for item in entropy_data],\n",
    "    'o',\n",
    "    label=\"inifinite\"\n",
    ")\n",
    "plt.xlabel(\"Subset size\")\n",
    "plt.ylabel(\"Final entropy\")\n",
    "plt.legend()\n",
    "plt.savefig(\"Final_Entropy_Subsets.pdf\")\n",
    "plt.show()"
   ]
  },
  {
   "cell_type": "code",
   "execution_count": 20,
   "id": "130e329c",
   "metadata": {},
   "outputs": [
    {
     "data": {
      "image/png": "[encoded data removed]",
      "text/plain": [
       "<Figure size 432x288 with 1 Axes>"
      ]
     },
     "metadata": {
      "needs_background": "light"
     },
     "output_type": "display_data"
    }
   ],
   "source": [
    "plt.plot(acc_arr, entropy_data[\"100\"][\"empirical\"], '.')\n",
    "plt.plot(acc_arr, entropy_data[\"50\"][\"empirical\"], '.')\n",
    "plt.plot(acc_arr, entropy_data[\"10\"][\"empirical\"], '.')\n",
    "plt.xlabel(\"Accuracy\")\n",
    "plt.ylabel(\"Empirical Entropy\")\n",
    "plt.savefig(\"Entropy_vs_Accuracy.pdf\")\n",
    "plt.show()"
   ]
  },
  {
   "cell_type": "markdown",
   "id": "d39df75a",
   "metadata": {},
   "source": [
    "### Information transfer"
   ]
  },
  {
   "cell_type": "code",
   "execution_count": 14,
   "id": "b9685227",
   "metadata": {},
   "outputs": [
    {
     "data": {
      "text/plain": [
       "[<matplotlib.lines.Line2D at 0x14ea5671f760>]"
      ]
     },
     "execution_count": 14,
     "metadata": {},
     "output_type": "execute_result"
    },
    {
     "data": {
      "image/png": "[encoded data removed]",
      "text/plain": [
       "<Figure size 432x288 with 1 Axes>"
      ]
     },
     "metadata": {
      "needs_background": "light"
     },
     "output_type": "display_data"
    }
   ],
   "source": [
    "plot_array = []\n",
    "for value in entropy_data.values():\n",
    "    data = value[\"empirical\"][0] - value[\"empirical\"][-1]\n",
    "    plot_array.append(data)\n",
    "    \n",
    "plt.plot(subsets, plot_array, '.')"
   ]
  },
  {
   "cell_type": "markdown",
   "id": "fccd6eb4",
   "metadata": {},
   "source": [
    "### Area under the curve"
   ]
  },
  {
   "cell_type": "code",
   "execution_count": 29,
   "id": "5434696d",
   "metadata": {},
   "outputs": [
    {
     "data": {
      "image/png": "[encoded data removed]",
      "text/plain": [
       "<Figure size 432x288 with 1 Axes>"
      ]
     },
     "metadata": {
      "needs_background": "light"
     },
     "output_type": "display_data"
    }
   ],
   "source": [
    "integral_data = []\n",
    "\n",
    "for value in entropy_data.values():\n",
    "    integral = integrate.trapz(value[\"empirical\"])\n",
    "    integral_data.append(integral)\n",
    "    \n",
    "plt.plot(subsets, integral_data, '.')\n",
    "plt.show()"
   ]
  },
  {
   "cell_type": "code",
   "execution_count": null,
   "id": "cbec97f7",
   "metadata": {},
   "outputs": [],
   "source": []
  },
  {
   "cell_type": "code",
   "execution_count": null,
   "id": "19b2ec9c",
   "metadata": {},
   "outputs": [],
   "source": []
  }
 ],
 "metadata": {
  "kernelspec": {
   "display_name": "Python 3 (ipykernel)",
   "language": "python",
   "name": "python3"
  },
  "language_info": {
   "codemirror_mode": {
    "name": "ipython",
    "version": 3
   },
   "file_extension": ".py",
   "mimetype": "text/x-python",
   "name": "python",
   "nbconvert_exporter": "python",
   "pygments_lexer": "ipython3",
   "version": "3.9.12"
  }
 },
 "nbformat": 4,
 "nbformat_minor": 5
}
