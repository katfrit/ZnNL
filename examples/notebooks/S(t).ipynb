{
 "cells": [
  {
   "cell_type": "markdown",
   "id": "702006c9",
   "metadata": {},
   "source": [
    "# S(t)\n",
    "\n",
    "Measure the epoch dependence of the entropy of the NTK.\n",
    "\n",
    "### Experiment\n",
    "Perform RND with a model and select N points. Train the model on these N points and use the parameters of the trained model to perform NTK again and see if the points change. Along the way, check the entropy of the updated NTK and see how it has been effected by the training."
   ]
  },
  {
   "cell_type": "code",
   "execution_count": 1,
   "id": "0d5525be",
   "metadata": {},
   "outputs": [
    {
     "name": "stderr",
     "output_type": "stream",
     "text": [
      "2022-04-29 16:27:41.491501: E external/org_tensorflow/tensorflow/stream_executor/cuda/cuda_driver.cc:271] failed call to cuInit: CUDA_ERROR_NO_DEVICE: no CUDA-capable device is detected\n",
      "WARNING:absl:No GPU/TPU found, falling back to CPU. (Set TF_CPP_MIN_LOG_LEVEL=0 and rerun for more info.)\n"
     ]
    }
   ],
   "source": [
    "import os\n",
    "os.environ[\"CUDA_VISIBLE_DEVICES\"] = \"-1\"\n",
    "\n",
    "\n",
    "import znrnd as rnd\n",
    "\n",
    "import tensorflow_datasets as tfds\n",
    "\n",
    "import numpy as np\n",
    "import optax\n",
    "from plotly.subplots import make_subplots\n",
    "import plotly.graph_objects as go\n",
    "from neural_tangents import stax\n",
    "\n",
    "import matplotlib.pyplot as plt"
   ]
  },
  {
   "cell_type": "code",
   "execution_count": 2,
   "id": "257e1932",
   "metadata": {},
   "outputs": [
    {
     "name": "stderr",
     "output_type": "stream",
     "text": [
      "2022-04-29 16:27:42.626336: E tensorflow/stream_executor/cuda/cuda_driver.cc:271] failed call to cuInit: CUDA_ERROR_NO_DEVICE: no CUDA-capable device is detected\n"
     ]
    }
   ],
   "source": [
    "data_generator = rnd.data.MNISTGenerator(ds_size=800)"
   ]
  },
  {
   "cell_type": "code",
   "execution_count": 3,
   "id": "d81e6a0f",
   "metadata": {},
   "outputs": [],
   "source": [
    "model = stax.serial(\n",
    "    stax.Conv(32, (3, 3)),\n",
    "    stax.Relu(),\n",
    "    stax.AvgPool(window_shape=(2, 2), strides=(2, 2)),\n",
    "    stax.Conv(64, (3, 3)),\n",
    "    stax.Relu(),\n",
    "    stax.AvgPool(window_shape=(2, 2), strides=(2, 2)),\n",
    "    stax.Flatten(),\n",
    "    stax.Dense(256),\n",
    "    stax.Relu(),\n",
    "    stax.Dense(10)\n",
    ")"
   ]
  },
  {
   "cell_type": "code",
   "execution_count": 4,
   "id": "45e85f17",
   "metadata": {},
   "outputs": [],
   "source": [
    "production_model = rnd.models.NTModel(\n",
    "        nt_module=model,\n",
    "        optimizer=optax.adam(learning_rate=0.1),\n",
    "        loss_fn=rnd.loss_functions.CrossEntropyLoss(classes=10, apply_softmax=False),\n",
    "        input_shape=(1, 28, 28, 1),\n",
    "        training_threshold=0.001\n",
    "    )"
   ]
  },
  {
   "cell_type": "code",
   "execution_count": 5,
   "id": "73d16f5d",
   "metadata": {},
   "outputs": [],
   "source": [
    "train_ds = {\n",
    "    \"inputs\": data_generator.ds_train[\"image\"],\n",
    "    \"targets\": data_generator.ds_train[\"label\"]\n",
    "}\n",
    "test_ds = {\n",
    "    \"inputs\": data_generator.ds_test[\"image\"],\n",
    "    \"targets\": data_generator.ds_test[\"label\"]\n",
    "}"
   ]
  },
  {
   "cell_type": "code",
   "execution_count": null,
   "id": "ff13e0bc",
   "metadata": {},
   "outputs": [
    {
     "name": "stderr",
     "output_type": "stream",
     "text": [
      "/home/s/S.Tovey/miniconda3/envs/zincware/lib/python3.8/site-packages/jax/_src/tree_util.py:188: FutureWarning: jax.tree_util.tree_multimap() is deprecated. Please use jax.tree_util.tree_map() instead as a drop-in replacement.\n",
      "  warnings.warn('jax.tree_util.tree_multimap() is deprecated. Please use jax.tree_util.tree_map() '\n",
      "/home/s/S.Tovey/miniconda3/envs/zincware/lib/python3.8/site-packages/jax/_src/tree_util.py:188: FutureWarning: jax.tree_util.tree_multimap() is deprecated. Please use jax.tree_util.tree_map() instead as a drop-in replacement.\n",
      "  warnings.warn('jax.tree_util.tree_multimap() is deprecated. Please use jax.tree_util.tree_map() '\n",
      "Epoch: 1: 100%|███████████████████| 1/1 [00:06<00:00,  6.91s/batch, accuracy=0.901, test_loss=0.358]\n",
      "Epoch: 1: 100%|███████████████████| 1/1 [00:03<00:00,  3.21s/batch, accuracy=0.925, test_loss=0.259]\n",
      "Epoch: 1: 100%|███████████████████| 1/1 [00:02<00:00,  2.80s/batch, accuracy=0.931, test_loss=0.251]\n",
      "Epoch: 1: 100%|████████████████████| 1/1 [00:02<00:00,  2.81s/batch, accuracy=0.93, test_loss=0.242]\n"
     ]
    }
   ],
   "source": [
    "entropy_array = []\n",
    "metrics_array = []\n",
    "data_subset = data_generator.ds_train[\"image\"][:20]\n",
    "\n",
    "for _ in range(5):\n",
    "    ntk = production_model.compute_ntk(\n",
    "        data_subset, normalize=False\n",
    "    )[\"empirical\"]\n",
    "    entropy_array.append(\n",
    "        rnd.analysis.EntropyAnalysis(ntk).compute_von_neumann_entropy(\n",
    "            normalize=True\n",
    "        )\n",
    "    )\n",
    "    metrics_array.append(production_model.train_model(\n",
    "        train_ds=train_ds, test_ds=test_ds, batch_size=32, epochs=1\n",
    "    ))\n",
    "    "
   ]
  },
  {
   "cell_type": "code",
   "execution_count": null,
   "id": "714069ac",
   "metadata": {},
   "outputs": [],
   "source": [
    "acc_arr = [item[\"accuracy\"] for item in metrics_array]\n",
    "loss_arr = [item[\"loss\"] for item in metrics_array]"
   ]
  },
  {
   "cell_type": "code",
   "execution_count": null,
   "id": "8505f430",
   "metadata": {},
   "outputs": [],
   "source": [
    "plt.plot(loss_arr, entropy_array, 'o')\n",
    "plt.show()"
   ]
  },
  {
   "cell_type": "code",
   "execution_count": null,
   "id": "1f809abe",
   "metadata": {},
   "outputs": [],
   "source": []
  }
 ],
 "metadata": {
  "kernelspec": {
   "display_name": "Python 3 (ipykernel)",
   "language": "python",
   "name": "python3"
  },
  "language_info": {
   "codemirror_mode": {
    "name": "ipython",
    "version": 3
   },
   "file_extension": ".py",
   "mimetype": "text/x-python",
   "name": "python",
   "nbconvert_exporter": "python",
   "pygments_lexer": "ipython3",
   "version": "3.8.12"
  }
 },
 "nbformat": 4,
 "nbformat_minor": 5
}
