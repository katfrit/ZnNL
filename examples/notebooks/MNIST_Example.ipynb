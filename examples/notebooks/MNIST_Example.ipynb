{
 "cells": [
  {
   "cell_type": "markdown",
   "id": "2c522a05",
   "metadata": {},
   "source": [
    "# MNIST meets RND\n",
    "\n",
    "In this tutorial, we go over how to apply random network distillation to non-standard network architectures, specifically, the convoltutional neural networks required to classify the MNIST dataset."
   ]
  },
  {
   "cell_type": "code",
   "execution_count": 1,
   "id": "f4f62b3c",
   "metadata": {},
   "outputs": [
    {
     "name": "stderr",
     "output_type": "stream",
     "text": [
      "WARNING:absl:No GPU/TPU found, falling back to CPU. (Set TF_CPP_MIN_LOG_LEVEL=0 and rerun for more info.)\n"
     ]
    }
   ],
   "source": [
    "import os\n",
    "os.environ[\"CUDA_VISIBLE_DEVICES\"] = \"-1\"\n",
    "\n",
    "\n",
    "import znrnd as rnd\n",
    "\n",
    "import tensorflow_datasets as tfds\n",
    "\n",
    "import numpy as np\n",
    "from flax import linen as nn\n",
    "import optax\n",
    "from plotly.subplots import make_subplots\n",
    "import plotly.graph_objects as go"
   ]
  },
  {
   "cell_type": "markdown",
   "id": "aad7b959",
   "metadata": {},
   "source": [
    "### Making a data generator\n",
    "\n",
    "The first thing we need to do is create a data generator for the problem."
   ]
  },
  {
   "cell_type": "code",
   "execution_count": 2,
   "id": "c8029770",
   "metadata": {},
   "outputs": [
    {
     "name": "stderr",
     "output_type": "stream",
     "text": [
      "2022-04-25 11:38:31.837810: E tensorflow/stream_executor/cuda/cuda_driver.cc:271] failed call to cuInit: CUDA_ERROR_NO_DEVICE: no CUDA-capable device is detected\n"
     ]
    }
   ],
   "source": [
    "data_generator = rnd.data.MNISTGenerator()"
   ]
  },
  {
   "cell_type": "markdown",
   "id": "8a967968",
   "metadata": {},
   "source": [
    "### Define the agent"
   ]
  },
  {
   "cell_type": "code",
   "execution_count": 3,
   "id": "772667ec",
   "metadata": {},
   "outputs": [],
   "source": [
    "class CustomModule(nn.Module):\n",
    "    \"\"\"\n",
    "    Simple CNN module.\n",
    "    \"\"\"\n",
    "    @nn.compact\n",
    "    def __call__(self, x):\n",
    "        x = nn.Conv(features=32, kernel_size=(3, 3))(x)\n",
    "        x = nn.relu(x)\n",
    "        x = nn.avg_pool(x, window_shape=(2, 2), strides=(2, 2))\n",
    "        x = nn.Conv(features=64, kernel_size=(3, 3))(x)\n",
    "        x = nn.relu(x)\n",
    "        x = nn.avg_pool(x, window_shape=(2, 2), strides=(2, 2))\n",
    "        x = x.reshape((x.shape[0], -1))  # flatten\n",
    "        x = nn.Dense(features=256)(x)\n",
    "        return x"
   ]
  },
  {
   "cell_type": "code",
   "execution_count": 4,
   "id": "622300c1",
   "metadata": {},
   "outputs": [],
   "source": [
    "target = rnd.models.FlaxModel(\n",
    "        flax_module=CustomModule(),\n",
    "        optimizer=optax.adam(learning_rate=0.001),\n",
    "        loss_fn=rnd.loss_functions.MeanPowerLoss(order=2),\n",
    "        input_shape=(1, 28, 28, 1),\n",
    "        training_threshold=0.001\n",
    "    )\n",
    "\n",
    "predictor = rnd.models.FlaxModel(\n",
    "        flax_module=CustomModule(),\n",
    "        optimizer=optax.adam(learning_rate=0.001),\n",
    "        loss_fn=rnd.loss_functions.MeanPowerLoss(order=2),\n",
    "        input_shape=(1, 28, 28, 1),\n",
    "        training_threshold=0.001\n",
    "    )"
   ]
  },
  {
   "cell_type": "code",
   "execution_count": 5,
   "id": "37801fbc",
   "metadata": {},
   "outputs": [],
   "source": [
    "agent = rnd.agents.RND(\n",
    "        point_selector=rnd.point_selection.GreedySelection(threshold=0.01),\n",
    "        distance_metric=rnd.distance_metrics.OrderNDifference(order=2),\n",
    "        data_generator=data_generator,\n",
    "        target_network=target,\n",
    "        predictor_network=predictor,\n",
    "        tolerance=8,\n",
    "    )"
   ]
  },
  {
   "cell_type": "code",
   "execution_count": null,
   "id": "39439c0b",
   "metadata": {
    "scrolled": false
   },
   "outputs": [
    {
     "name": "stderr",
     "output_type": "stream",
     "text": [
      "Epoch: 100: 100%|███████████████████████████| 100/100 [00:18<00:00,  5.27batch/s, test_loss=7.86e-8]\n",
      "/tikhome/stovey/miniconda3/envs/zincware/lib/python3.9/site-packages/sklearn/manifold/_t_sne.py:982: FutureWarning: The PCA initialization in TSNE will change to have the standard deviation of PC1 equal to 1e-4 in 1.2. This will ensure better convergence.\n",
      "  warnings.warn(\n",
      "/tikhome/stovey/miniconda3/envs/zincware/lib/python3.9/site-packages/sklearn/manifold/_t_sne.py:982: FutureWarning: The PCA initialization in TSNE will change to have the standard deviation of PC1 equal to 1e-4 in 1.2. This will ensure better convergence.\n",
      "  warnings.warn(\n",
      "/tikhome/stovey/miniconda3/envs/zincware/lib/python3.9/site-packages/sklearn/manifold/_t_sne.py:982: FutureWarning: The PCA initialization in TSNE will change to have the standard deviation of PC1 equal to 1e-4 in 1.2. This will ensure better convergence.\n",
      "  warnings.warn(\n",
      "Epoch: 100: 100%|██████████████████████████| 100/100 [00:28<00:00,  3.51batch/s, test_loss=2.13e-12]\n",
      "/tikhome/stovey/miniconda3/envs/zincware/lib/python3.9/site-packages/sklearn/manifold/_t_sne.py:982: FutureWarning: The PCA initialization in TSNE will change to have the standard deviation of PC1 equal to 1e-4 in 1.2. This will ensure better convergence.\n",
      "  warnings.warn(\n",
      "Epoch: 100: 100%|███████████████████████████| 100/100 [00:40<00:00,  2.46batch/s, test_loss=2.36e-6]\n",
      "/tikhome/stovey/miniconda3/envs/zincware/lib/python3.9/site-packages/sklearn/manifold/_t_sne.py:982: FutureWarning: The PCA initialization in TSNE will change to have the standard deviation of PC1 equal to 1e-4 in 1.2. This will ensure better convergence.\n",
      "  warnings.warn(\n",
      "Epoch: 83:  82%|██████████████████████▉     | 82/100 [00:42<00:09,  1.90batch/s, test_loss=2.69e-13]"
     ]
    }
   ],
   "source": [
    "agent.build_dataset(visualize=True)"
   ]
  },
  {
   "cell_type": "code",
   "execution_count": null,
   "id": "86ff87ef",
   "metadata": {},
   "outputs": [],
   "source": [
    "data_generator.plot_image(data_list=np.array(agent.target_set))"
   ]
  },
  {
   "cell_type": "code",
   "execution_count": null,
   "id": "18659de4",
   "metadata": {},
   "outputs": [],
   "source": []
  }
 ],
 "metadata": {
  "kernelspec": {
   "display_name": "Python 3 (ipykernel)",
   "language": "python",
   "name": "python3"
  },
  "language_info": {
   "codemirror_mode": {
    "name": "ipython",
    "version": 3
   },
   "file_extension": ".py",
   "mimetype": "text/x-python",
   "name": "python",
   "nbconvert_exporter": "python",
   "pygments_lexer": "ipython3",
   "version": "3.9.7"
  }
 },
 "nbformat": 4,
 "nbformat_minor": 5
}
