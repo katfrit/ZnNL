{
 "cells": [
  {
   "cell_type": "markdown",
   "id": "2c522a05",
   "metadata": {},
   "source": [
    "# MNIST meets RND\n",
    "\n",
    "In this tutorial, we go over how to apply random network distillation to non-standard network architectures, specifically, the convoltutional neural networks required to classify the MNIST dataset."
   ]
  },
  {
   "cell_type": "code",
   "execution_count": 1,
   "id": "f4f62b3c",
   "metadata": {},
   "outputs": [
    {
     "name": "stderr",
     "output_type": "stream",
     "text": [
      "\n",
      "KeyboardInterrupt\n",
      "\n"
     ]
    }
   ],
   "source": [
    "import os\n",
    "os.environ[\"CUDA_VISIBLE_DEVICES\"] = \"-1\"\n",
    "\n",
    "\n",
    "import znrnd as rnd\n",
    "\n",
    "import tensorflow_datasets as tfds\n",
    "\n",
    "import numpy as np\n",
    "from flax import linen as nn\n",
    "import optax\n",
    "from plotly.subplots import make_subplots\n",
    "import plotly.graph_objects as go"
   ]
  },
  {
   "cell_type": "markdown",
   "id": "aad7b959",
   "metadata": {},
   "source": [
    "### Making a data generator\n",
    "\n",
    "The first thing we need to do is create a data generator for the problem."
   ]
  },
  {
   "cell_type": "code",
   "execution_count": null,
   "id": "a1de0512",
   "metadata": {},
   "outputs": [],
   "source": [
    "class MNISTGenerator(rnd.data.DataGenerator):\n",
    "    \"\"\"\n",
    "    Data generator for MNIST datasets\n",
    "    \"\"\"\n",
    "    def __init__(self):\n",
    "        \"\"\"\n",
    "        Constructor for the MNIST generator class.\n",
    "        \"\"\"\n",
    "        self.ds_train, self.ds_test = tfds.as_numpy(\n",
    "            tfds.load(\n",
    "                'mnist:3.*.*', \n",
    "                split=['train[:%d]' % 500, 'test[:%d]' % 500], \n",
    "                batch_size=-1\n",
    "            )\n",
    "        )\n",
    "        self.data_pool = self.ds_train['image']\n",
    "    \n",
    "    def _process_data(self, data_chunk):\n",
    "        \"\"\"\n",
    "        Flatten the images and one-hot encode the labels.\n",
    "        \"\"\"  \n",
    "        image, label = data_chunk['image'], data_chunk['label']\n",
    "\n",
    "        samples = image.shape[0]\n",
    "        image = np.array(np.reshape(image, (samples, -1)), dtype=np.float32)\n",
    "        image = (image - np.mean(image)) / np.std(image)\n",
    "        label = np.eye(10)[label]\n",
    "\n",
    "        return {'image': image, 'label': label}\n",
    "    \n",
    "    def plot_image(self, indices: list = None, data_list: list = None):\n",
    "        \"\"\"\n",
    "        Plot a single image from the training dataset.\n",
    "        \n",
    "        Parameters\n",
    "        ----------\n",
    "        indices : list (None)\n",
    "        data_list : list (None)\n",
    "        \"\"\"\n",
    "        if indices is not None:\n",
    "            data_length = len(indices)\n",
    "            data_source = self.ds_train[\"image\"][indices]\n",
    "        elif data_list is not None:\n",
    "            data_length = len(data_list)\n",
    "            data_source = data_list\n",
    "        else:\n",
    "            raise TypeError(\"No valid data provided\")\n",
    "        \n",
    "        if data_length <= 4:\n",
    "            columns = data_length\n",
    "            rows = 1\n",
    "        else:\n",
    "            columns = 4\n",
    "            rows = int(np.ceil(data_length / 4))\n",
    "            \n",
    "        fig = make_subplots(rows=rows, cols=columns)\n",
    "        \n",
    "        img_counter = 0\n",
    "        for i in range(1, rows + 1):\n",
    "            for j in range(1, columns + 1):\n",
    "                if indices is not None:\n",
    "                    data = self.ds_train[\"image\"][img_counter].reshape(28, 28)\n",
    "                else:\n",
    "                    data = data_list[img_counter].reshape(28, 28)\n",
    "                fig.add_trace(go.Heatmap(z=data), row=i, col=j)\n",
    "                if img_counter == len(data_source) - 1:\n",
    "                    break\n",
    "                else:\n",
    "                    img_counter += 1\n",
    "                \n",
    "        fig.show()"
   ]
  },
  {
   "cell_type": "code",
   "execution_count": null,
   "id": "c8029770",
   "metadata": {},
   "outputs": [],
   "source": [
    "data_generator = MNISTGenerator()"
   ]
  },
  {
   "cell_type": "code",
   "execution_count": null,
   "id": "3fdc43f3",
   "metadata": {},
   "outputs": [],
   "source": [
    "data_generator.plot_image([1, 2, 3, 4, 5, 6, 7, 8, 9, 10, 11, 12, 13, 14, 15, 16])"
   ]
  },
  {
   "cell_type": "markdown",
   "id": "8a967968",
   "metadata": {},
   "source": [
    "### Define the agent"
   ]
  },
  {
   "cell_type": "code",
   "execution_count": null,
   "id": "772667ec",
   "metadata": {},
   "outputs": [],
   "source": [
    "class CustomModule(nn.Module):\n",
    "    \"\"\"\n",
    "    Simple CNN module.\n",
    "    \"\"\"\n",
    "    @nn.compact\n",
    "    def __call__(self, x):\n",
    "        x = nn.Conv(features=32, kernel_size=(3, 3))(x)\n",
    "        x = nn.relu(x)\n",
    "        x = nn.avg_pool(x, window_shape=(2, 2), strides=(2, 2))\n",
    "        x = nn.Conv(features=64, kernel_size=(3, 3))(x)\n",
    "        x = nn.relu(x)\n",
    "        x = nn.avg_pool(x, window_shape=(2, 2), strides=(2, 2))\n",
    "        x = x.reshape((x.shape[0], -1))  # flatten\n",
    "        x = nn.Dense(features=256)(x)\n",
    "        return x"
   ]
  },
  {
   "cell_type": "code",
   "execution_count": null,
   "id": "622300c1",
   "metadata": {},
   "outputs": [],
   "source": [
    "target = rnd.models.FlaxModel(\n",
    "        flax_module=CustomModule(),\n",
    "        optimizer=optax.adam(learning_rate=0.001),\n",
    "        loss_fn=rnd.loss_functions.MeanPowerLoss(order=2),\n",
    "        input_shape=(1, 28, 28, 1),\n",
    "        training_threshold=0.001\n",
    "    )\n",
    "\n",
    "predictor = rnd.models.FlaxModel(\n",
    "        flax_module=CustomModule(),\n",
    "        optimizer=optax.adam(learning_rate=0.001),\n",
    "        loss_fn=rnd.loss_functions.MeanPowerLoss(order=2),\n",
    "        input_shape=(1, 28, 28, 1),\n",
    "        training_threshold=0.001\n",
    "    )"
   ]
  },
  {
   "cell_type": "code",
   "execution_count": null,
   "id": "37801fbc",
   "metadata": {},
   "outputs": [],
   "source": [
    "agent = rnd.RND(\n",
    "        point_selector=rnd.point_selection.GreedySelection(threshold=0.01),\n",
    "        distance_metric=rnd.distance_metrics.OrderNDifference(order=2),\n",
    "        data_generator=data_generator,\n",
    "        target_network=target,\n",
    "        predictor_network=predictor,\n",
    "        tolerance=8,\n",
    "        target_size=10\n",
    "    )"
   ]
  },
  {
   "cell_type": "code",
   "execution_count": null,
   "id": "39439c0b",
   "metadata": {
    "scrolled": false
   },
   "outputs": [],
   "source": [
    "agent.run_rnd(visualize=True)"
   ]
  },
  {
   "cell_type": "code",
   "execution_count": null,
   "id": "86ff87ef",
   "metadata": {},
   "outputs": [],
   "source": [
    "data_generator.plot_image(data_list=np.array(agent.target_set))"
   ]
  },
  {
   "cell_type": "code",
   "execution_count": null,
   "id": "18659de4",
   "metadata": {},
   "outputs": [],
   "source": []
  }
 ],
 "metadata": {
  "kernelspec": {
   "display_name": "Python 3 (ipykernel)",
   "language": "python",
   "name": "python3"
  },
  "language_info": {
   "codemirror_mode": {
    "name": "ipython",
    "version": 3
   },
   "file_extension": ".py",
   "mimetype": "text/x-python",
   "name": "python",
   "nbconvert_exporter": "python",
   "pygments_lexer": "ipython3",
   "version": "3.9.7"
  }
 },
 "nbformat": 4,
 "nbformat_minor": 5
}
