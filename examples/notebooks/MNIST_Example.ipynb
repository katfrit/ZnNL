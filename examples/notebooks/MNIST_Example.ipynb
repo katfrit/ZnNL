{
 "cells": [
  {
   "cell_type": "markdown",
   "id": "2c522a05",
   "metadata": {},
   "source": [
    "# MNIST meets RND\n",
    "\n",
    "In this tutorial, we go over how to apply random network distillation to non-standard network architectures, specifically, the convoltutional neural networks required to classify the MNIST dataset."
   ]
  },
  {
   "cell_type": "code",
   "execution_count": 1,
   "id": "f4f62b3c",
   "metadata": {},
   "outputs": [
    {
     "name": "stderr",
     "output_type": "stream",
     "text": [
      "WARNING:absl:No GPU/TPU found, falling back to CPU. (Set TF_CPP_MIN_LOG_LEVEL=0 and rerun for more info.)\n"
     ]
    }
   ],
   "source": [
    "import os\n",
    "os.environ[\"CUDA_VISIBLE_DEVICES\"] = \"-1\"\n",
    "\n",
    "\n",
    "import znrnd as rnd\n",
    "\n",
    "import tensorflow_datasets as tfds\n",
    "\n",
    "import numpy as np\n",
    "from flax import linen as nn\n",
    "import optax\n",
    "from plotly.subplots import make_subplots\n",
    "import plotly.graph_objects as go"
   ]
  },
  {
   "cell_type": "markdown",
   "id": "aad7b959",
   "metadata": {},
   "source": [
    "### Making a data generator\n",
    "\n",
    "The first thing we need to do is create a data generator for the problem."
   ]
  },
  {
   "cell_type": "code",
   "execution_count": 2,
   "id": "c8029770",
   "metadata": {},
   "outputs": [],
   "source": [
    "data_generator = rnd.data.MNISTGenerator()"
   ]
  },
  {
   "cell_type": "markdown",
   "id": "8a967968",
   "metadata": {},
   "source": [
    "### Define the agent"
   ]
  },
  {
   "cell_type": "code",
   "execution_count": 3,
   "id": "772667ec",
   "metadata": {},
   "outputs": [],
   "source": [
    "class CustomModule(nn.Module):\n",
    "    \"\"\"\n",
    "    Simple CNN module.\n",
    "    \"\"\"\n",
    "    @nn.compact\n",
    "    def __call__(self, x):\n",
    "        x = nn.Conv(features=32, kernel_size=(3, 3))(x)\n",
    "        x = nn.relu(x)\n",
    "        x = nn.avg_pool(x, window_shape=(2, 2), strides=(2, 2))\n",
    "        x = nn.Conv(features=64, kernel_size=(3, 3))(x)\n",
    "        x = nn.relu(x)\n",
    "        x = nn.avg_pool(x, window_shape=(2, 2), strides=(2, 2))\n",
    "        x = x.reshape((x.shape[0], -1))  # flatten\n",
    "        x = nn.Dense(features=256)(x)\n",
    "        return x"
   ]
  },
  {
   "cell_type": "code",
   "execution_count": 4,
   "id": "ed479cfc",
   "metadata": {},
   "outputs": [],
   "source": [
    "class ProductionModule(nn.Module):\n",
    "    \"\"\"\n",
    "    Simple CNN module.\n",
    "    \"\"\"\n",
    "\n",
    "    @nn.compact\n",
    "    def __call__(self, x):\n",
    "        x = nn.Conv(features=32, kernel_size=(3, 3))(x)\n",
    "        x = nn.relu(x)\n",
    "        x = nn.avg_pool(x, window_shape=(2, 2), strides=(2, 2))\n",
    "        x = nn.Conv(features=64, kernel_size=(3, 3))(x)\n",
    "        x = nn.relu(x)\n",
    "        x = nn.avg_pool(x, window_shape=(2, 2), strides=(2, 2))\n",
    "        x = x.reshape((x.shape[0], -1))  # flatten\n",
    "        x = nn.Dense(features=256)(x)\n",
    "        x = nn.relu(x)\n",
    "        x = nn.Dense(10)(x)\n",
    "        x = nn.log_softmax(x)\n",
    "\n",
    "        return x"
   ]
  },
  {
   "cell_type": "code",
   "execution_count": 5,
   "id": "2868daf4",
   "metadata": {},
   "outputs": [],
   "source": [
    "production_model = rnd.models.FlaxModel(\n",
    "            flax_module=ProductionModule(),\n",
    "            optimizer=optax.adam(learning_rate=0.1),\n",
    "            loss_fn=rnd.loss_functions.CrossEntropyLoss(classes=10),\n",
    "            input_shape=(1, 28, 28, 1),\n",
    "            training_threshold=0.001,\n",
    "            compute_accuracy=True\n",
    "        )"
   ]
  },
  {
   "cell_type": "code",
   "execution_count": 6,
   "id": "2ec38476",
   "metadata": {},
   "outputs": [
    {
     "name": "stderr",
     "output_type": "stream",
     "text": [
      "Epoch: 50: 100%|███████████████████████████████████| 50/50 [02:00<00:00,  2.40s/batch, accuracy=0.1]\n"
     ]
    },
    {
     "data": {
      "text/plain": [
       "([2.3014981746673584,\n",
       "  2.3084380626678467,\n",
       "  2.309455633163452,\n",
       "  2.3112237453460693,\n",
       "  2.3098599910736084,\n",
       "  2.3113555908203125,\n",
       "  2.31083607673645,\n",
       "  2.311269760131836,\n",
       "  2.3115267753601074,\n",
       "  2.3116278648376465,\n",
       "  2.3117856979370117,\n",
       "  2.311898946762085,\n",
       "  2.312002420425415,\n",
       "  2.3120880126953125,\n",
       "  2.3121700286865234,\n",
       "  2.3123295307159424,\n",
       "  2.312422513961792,\n",
       "  2.3124547004699707,\n",
       "  2.3125,\n",
       "  2.312549352645874,\n",
       "  2.3125903606414795,\n",
       "  2.312685251235962,\n",
       "  2.313063144683838,\n",
       "  2.3130977153778076,\n",
       "  2.3130006790161133,\n",
       "  2.3130128383636475,\n",
       "  2.3130147457122803,\n",
       "  2.313001871109009,\n",
       "  2.312995433807373,\n",
       "  2.312990427017212,\n",
       "  2.312983989715576,\n",
       "  2.312978744506836,\n",
       "  2.3129732608795166,\n",
       "  2.3129677772521973,\n",
       "  2.3129630088806152,\n",
       "  2.3129587173461914,\n",
       "  2.3129541873931885,\n",
       "  2.3129498958587646,\n",
       "  2.31294584274292,\n",
       "  2.3129420280456543,\n",
       "  2.312938690185547,\n",
       "  2.3129348754882812,\n",
       "  2.312931776046753,\n",
       "  2.3129284381866455,\n",
       "  2.312925100326538,\n",
       "  2.3129220008850098,\n",
       "  2.3129191398620605,\n",
       "  2.3129162788391113,\n",
       "  2.312913656234741,\n",
       "  2.31291127204895],\n",
       " [0.10400000214576721,\n",
       "  0.10400000214576721,\n",
       "  0.10400000214576721,\n",
       "  0.10000000149011612,\n",
       "  0.10400000214576721,\n",
       "  0.10000000149011612,\n",
       "  0.10000000149011612,\n",
       "  0.10000000149011612,\n",
       "  0.10000000149011612,\n",
       "  0.10000000149011612,\n",
       "  0.10000000149011612,\n",
       "  0.10000000149011612,\n",
       "  0.10000000149011612,\n",
       "  0.10000000149011612,\n",
       "  0.10000000149011612,\n",
       "  0.10000000149011612,\n",
       "  0.10000000149011612,\n",
       "  0.10000000149011612,\n",
       "  0.10000000149011612,\n",
       "  0.10000000149011612,\n",
       "  0.10000000149011612,\n",
       "  0.10000000149011612,\n",
       "  0.10000000149011612,\n",
       "  0.10000000149011612,\n",
       "  0.10000000149011612,\n",
       "  0.10000000149011612,\n",
       "  0.10000000149011612,\n",
       "  0.10000000149011612,\n",
       "  0.10000000149011612,\n",
       "  0.10000000149011612,\n",
       "  0.10000000149011612,\n",
       "  0.10000000149011612,\n",
       "  0.10000000149011612,\n",
       "  0.10000000149011612,\n",
       "  0.10000000149011612,\n",
       "  0.10000000149011612,\n",
       "  0.10000000149011612,\n",
       "  0.10000000149011612,\n",
       "  0.10000000149011612,\n",
       "  0.10000000149011612,\n",
       "  0.10000000149011612,\n",
       "  0.10000000149011612,\n",
       "  0.10000000149011612,\n",
       "  0.10000000149011612,\n",
       "  0.10000000149011612,\n",
       "  0.10000000149011612,\n",
       "  0.10000000149011612,\n",
       "  0.10000000149011612,\n",
       "  0.10000000149011612,\n",
       "  0.10000000149011612],\n",
       " [{'accuracy': 0.104166664, 'loss': 86.382866},\n",
       "  {'accuracy': 0.09375, 'loss': 2.3193042},\n",
       "  {'accuracy': 0.110416666, 'loss': 2.2970953},\n",
       "  {'accuracy': 0.11666667, 'loss': 2.295607},\n",
       "  {'accuracy': 0.12083333, 'loss': 2.295327},\n",
       "  {'accuracy': 0.1125, 'loss': 2.2944722},\n",
       "  {'accuracy': 0.12708333, 'loss': 2.2942266},\n",
       "  {'accuracy': 0.12708333, 'loss': 2.2943199},\n",
       "  {'accuracy': 0.12708333, 'loss': 2.2941527},\n",
       "  {'accuracy': 0.12708333, 'loss': 2.2940629},\n",
       "  {'accuracy': 0.12708333, 'loss': 2.2939973},\n",
       "  {'accuracy': 0.12708333, 'loss': 2.2939386},\n",
       "  {'accuracy': 0.12708333, 'loss': 2.2938843},\n",
       "  {'accuracy': 0.12708333, 'loss': 2.293841},\n",
       "  {'accuracy': 0.12708333, 'loss': 2.2938066},\n",
       "  {'accuracy': 0.12708333, 'loss': 2.2937102},\n",
       "  {'accuracy': 0.12708333, 'loss': 2.2936072},\n",
       "  {'accuracy': 0.12708333, 'loss': 2.2936025},\n",
       "  {'accuracy': 0.12708333, 'loss': 2.2936015},\n",
       "  {'accuracy': 0.12708333, 'loss': 2.2935972},\n",
       "  {'accuracy': 0.12708333, 'loss': 2.2935984},\n",
       "  {'accuracy': 0.12708333, 'loss': 2.2935998},\n",
       "  {'accuracy': 0.12708333, 'loss': 2.2933528},\n",
       "  {'accuracy': 0.12708333, 'loss': 2.2933586},\n",
       "  {'accuracy': 0.12708333, 'loss': 2.2933702},\n",
       "  {'accuracy': 0.12708333, 'loss': 2.2933936},\n",
       "  {'accuracy': 0.12708333, 'loss': 2.2934098},\n",
       "  {'accuracy': 0.12708333, 'loss': 2.2934244},\n",
       "  {'accuracy': 0.12708333, 'loss': 2.29344},\n",
       "  {'accuracy': 0.12708333, 'loss': 2.293454},\n",
       "  {'accuracy': 0.12708333, 'loss': 2.2934668},\n",
       "  {'accuracy': 0.12708333, 'loss': 2.2934794},\n",
       "  {'accuracy': 0.12708333, 'loss': 2.2934914},\n",
       "  {'accuracy': 0.12708333, 'loss': 2.2935026},\n",
       "  {'accuracy': 0.12708333, 'loss': 2.2935138},\n",
       "  {'accuracy': 0.12708333, 'loss': 2.2935233},\n",
       "  {'accuracy': 0.12708333, 'loss': 2.2935328},\n",
       "  {'accuracy': 0.12708333, 'loss': 2.293542},\n",
       "  {'accuracy': 0.12708333, 'loss': 2.2935512},\n",
       "  {'accuracy': 0.12708333, 'loss': 2.2935593},\n",
       "  {'accuracy': 0.12708333, 'loss': 2.2935674},\n",
       "  {'accuracy': 0.12708333, 'loss': 2.293575},\n",
       "  {'accuracy': 0.12708333, 'loss': 2.2935822},\n",
       "  {'accuracy': 0.12708333, 'loss': 2.2935896},\n",
       "  {'accuracy': 0.12708333, 'loss': 2.293596},\n",
       "  {'accuracy': 0.12708333, 'loss': 2.2936027},\n",
       "  {'accuracy': 0.12708333, 'loss': 2.2936091},\n",
       "  {'accuracy': 0.12708333, 'loss': 2.2936146},\n",
       "  {'accuracy': 0.12708333, 'loss': 2.2936208},\n",
       "  {'accuracy': 0.12708333, 'loss': 2.293626}])"
      ]
     },
     "execution_count": 6,
     "metadata": {},
     "output_type": "execute_result"
    }
   ],
   "source": [
    "production_model.train_model(\n",
    "    train_ds={\"inputs\": data_generator.ds_train[\"image\"], \"targets\": data_generator.ds_train[\"label\"]},\n",
    "    test_ds={\"inputs\": data_generator.ds_test[\"image\"], \"targets\": data_generator.ds_test[\"label\"]},\n",
    "    batch_size=32,\n",
    ")"
   ]
  },
  {
   "cell_type": "code",
   "execution_count": 7,
   "id": "622300c1",
   "metadata": {},
   "outputs": [],
   "source": [
    "target = rnd.models.FlaxModel(\n",
    "        flax_module=CustomModule(),\n",
    "        optimizer=optax.adam(learning_rate=0.001),\n",
    "        loss_fn=rnd.loss_functions.MeanPowerLoss(order=2),\n",
    "        input_shape=(1, 28, 28, 1),\n",
    "        training_threshold=0.001\n",
    "    )\n",
    "\n",
    "predictor = rnd.models.FlaxModel(\n",
    "        flax_module=CustomModule(),\n",
    "        optimizer=optax.adam(learning_rate=0.001),\n",
    "        loss_fn=rnd.loss_functions.MeanPowerLoss(order=2),\n",
    "        input_shape=(1, 28, 28, 1),\n",
    "        training_threshold=0.001\n",
    "    )"
   ]
  },
  {
   "cell_type": "code",
   "execution_count": 8,
   "id": "37801fbc",
   "metadata": {},
   "outputs": [],
   "source": [
    "agent = rnd.agents.RND(\n",
    "        point_selector=rnd.point_selection.GreedySelection(threshold=0.01),\n",
    "        distance_metric=rnd.distance_metrics.OrderNDifference(order=2),\n",
    "        data_generator=data_generator,\n",
    "        target_network=target,\n",
    "        predictor_network=predictor,\n",
    "        tolerance=8,\n",
    "    )"
   ]
  },
  {
   "cell_type": "code",
   "execution_count": null,
   "id": "39439c0b",
   "metadata": {
    "scrolled": false
   },
   "outputs": [
    {
     "name": "stderr",
     "output_type": "stream",
     "text": [
      "Epoch: 100: 100%|████| 100/100 [00:14<00:00,  6.95batch/s, test_loss={'loss': 6.73146729468499e-08}]\n",
      "/Users/samueltovey/miniconda3/envs/zincware/lib/python3.8/site-packages/sklearn/manifold/_t_sne.py:982: FutureWarning: The PCA initialization in TSNE will change to have the standard deviation of PC1 equal to 1e-4 in 1.2. This will ensure better convergence.\n",
      "  warnings.warn(\n",
      "/Users/samueltovey/miniconda3/envs/zincware/lib/python3.8/site-packages/sklearn/manifold/_t_sne.py:982: FutureWarning: The PCA initialization in TSNE will change to have the standard deviation of PC1 equal to 1e-4 in 1.2. This will ensure better convergence.\n",
      "  warnings.warn(\n",
      "/Users/samueltovey/miniconda3/envs/zincware/lib/python3.8/site-packages/sklearn/manifold/_t_sne.py:982: FutureWarning: The PCA initialization in TSNE will change to have the standard deviation of PC1 equal to 1e-4 in 1.2. This will ensure better convergence.\n",
      "  warnings.warn(\n",
      "Epoch: 100: 100%|███| 100/100 [00:28<00:00,  3.48batch/s, test_loss={'loss': 7.361788334492303e-08}]\n",
      "/Users/samueltovey/miniconda3/envs/zincware/lib/python3.8/site-packages/sklearn/manifold/_t_sne.py:982: FutureWarning: The PCA initialization in TSNE will change to have the standard deviation of PC1 equal to 1e-4 in 1.2. This will ensure better convergence.\n",
      "  warnings.warn(\n",
      "Epoch: 100: 100%|██| 100/100 [00:43<00:00,  2.30batch/s, test_loss={'loss': 5.7011699743471974e-15}]\n",
      "/Users/samueltovey/miniconda3/envs/zincware/lib/python3.8/site-packages/sklearn/manifold/_t_sne.py:982: FutureWarning: The PCA initialization in TSNE will change to have the standard deviation of PC1 equal to 1e-4 in 1.2. This will ensure better convergence.\n",
      "  warnings.warn(\n",
      "Epoch: 100: 100%|███| 100/100 [00:54<00:00,  1.85batch/s, test_loss={'loss': 5.047224540166619e-15}]\n",
      "/Users/samueltovey/miniconda3/envs/zincware/lib/python3.8/site-packages/sklearn/manifold/_t_sne.py:982: FutureWarning: The PCA initialization in TSNE will change to have the standard deviation of PC1 equal to 1e-4 in 1.2. This will ensure better convergence.\n",
      "  warnings.warn(\n",
      "Epoch: 100: 100%|██| 100/100 [00:52<00:00,  1.90batch/s, test_loss={'loss': 3.7239574827139556e-15}]\n",
      "/Users/samueltovey/miniconda3/envs/zincware/lib/python3.8/site-packages/sklearn/manifold/_t_sne.py:982: FutureWarning: The PCA initialization in TSNE will change to have the standard deviation of PC1 equal to 1e-4 in 1.2. This will ensure better convergence.\n",
      "  warnings.warn(\n",
      "Epoch: 100: 100%|██| 100/100 [01:16<00:00,  1.31batch/s, test_loss={'loss': 3.1359655849882984e-07}]\n",
      "/Users/samueltovey/miniconda3/envs/zincware/lib/python3.8/site-packages/sklearn/manifold/_t_sne.py:982: FutureWarning: The PCA initialization in TSNE will change to have the standard deviation of PC1 equal to 1e-4 in 1.2. This will ensure better convergence.\n",
      "  warnings.warn(\n",
      "Epoch: 86:  85%|████▎| 85/100 [01:12<00:12,  1.17batch/s, test_loss={'loss': 5.104852096593504e-09}]"
     ]
    }
   ],
   "source": [
    "agent.build_dataset(visualize=True)"
   ]
  },
  {
   "cell_type": "code",
   "execution_count": null,
   "id": "86ff87ef",
   "metadata": {},
   "outputs": [],
   "source": [
    "data_generator.plot_image(data_list=np.array(agent.target_set))"
   ]
  },
  {
   "cell_type": "code",
   "execution_count": null,
   "id": "18659de4",
   "metadata": {},
   "outputs": [],
   "source": []
  }
 ],
 "metadata": {
  "kernelspec": {
   "display_name": "Python 3 (ipykernel)",
   "language": "python",
   "name": "python3"
  },
  "language_info": {
   "codemirror_mode": {
    "name": "ipython",
    "version": 3
   },
   "file_extension": ".py",
   "mimetype": "text/x-python",
   "name": "python",
   "nbconvert_exporter": "python",
   "pygments_lexer": "ipython3",
   "version": "3.8.12"
  }
 },
 "nbformat": 4,
 "nbformat_minor": 5
}
