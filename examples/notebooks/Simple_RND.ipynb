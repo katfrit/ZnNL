{
 "cells": [
  {
   "cell_type": "markdown",
   "metadata": {},
   "source": [
    "# Simple Random Network Distillation"
   ]
  },
  {
   "cell_type": "markdown",
   "metadata": {},
   "source": [
    "### Imports\n",
    "The first step to using ZnRND is to import the package as you would any other Python library.\n",
    "\n",
    "In this case we will also import some visualization libraries we can use along the way. Note that, in this case, we have turned off warnings from TF as the very nature of RND, i.e, a lot of re-training, triggers a lot of graph builds and therefore, a lot of TF complaints."
   ]
  },
  {
   "cell_type": "code",
   "execution_count": 1,
   "metadata": {},
   "outputs": [
    {
     "name": "stderr",
     "output_type": "stream",
     "text": [
      "2022-03-23 15:10:11.820304: E external/org_tensorflow/tensorflow/stream_executor/cuda/cuda_driver.cc:271] failed call to cuInit: CUDA_ERROR_NO_DEVICE: no CUDA-capable device is detected\n",
      "WARNING:absl:No GPU/TPU found, falling back to CPU. (Set TF_CPP_MIN_LOG_LEVEL=0 and rerun for more info.)\n"
     ]
    }
   ],
   "source": [
    "import os\n",
    "os.environ[\"CUDA_VISIBLE_DEVICES\"] = \"-1\"\n",
    "\n",
    "import znrnd \n",
    "\n",
    "from flax import linen as nn\n",
    "import optax\n",
    "import matplotlib.pyplot as plt\n",
    "import numpy as np"
   ]
  },
  {
   "cell_type": "markdown",
   "metadata": {},
   "source": [
    "### Data pools\n",
    "\n",
    "In ZnRND we use a data generator to store and handle the passing of data. This makes it easy to perform operations element-wise on data as well as theoretically to make the whole process compilable.\n",
    "\n",
    "For this example we want to use points on a lattice using a built-in generator."
   ]
  },
  {
   "cell_type": "code",
   "execution_count": 2,
   "metadata": {},
   "outputs": [
    {
     "name": "stdout",
     "output_type": "stream",
     "text": [
      "[-5. -4. -3. -2. -1.  0.  1.  2.  3.  4.  5.]\n"
     ]
    }
   ],
   "source": [
    "data_generator = znrnd.data.PointsOnLattice()\n",
    "data_generator.build_pool(x_points=10, y_points=10)"
   ]
  },
  {
   "cell_type": "markdown",
   "metadata": {},
   "source": [
    "Just for fun let's look at this data to see what we are working with."
   ]
  },
  {
   "cell_type": "code",
   "execution_count": 3,
   "metadata": {},
   "outputs": [
    {
     "data": {
      "image/png": "[encoded data removed]",
      "text/plain": [
       "<Figure size 432x288 with 1 Axes>"
      ]
     },
     "metadata": {
      "needs_background": "light"
     },
     "output_type": "display_data"
    }
   ],
   "source": [
    "x = data_generator.data_pool[:, 0]\n",
    "y = data_generator.data_pool[:, 1]\n",
    "\n",
    "plt.plot(x, y, '.')\n",
    "plt.show()"
   ]
  },
  {
   "cell_type": "markdown",
   "metadata": {},
   "source": [
    "So we have some square lattice of points on which to peform distillation. So what will distillation achieve on a grid like this? It should pick points seperated by N lattice spacing depending on what metric we are using."
   ]
  },
  {
   "cell_type": "markdown",
   "metadata": {},
   "source": [
    "### Defining the models\n",
    "\n",
    "Now we need to build our target and predictor models using the build-in ZnRND models."
   ]
  },
  {
   "cell_type": "code",
   "execution_count": 4,
   "metadata": {},
   "outputs": [],
   "source": [
    "layer_stack = [nn.Dense(features=12), nn.sigmoid, nn.Dense(features=12), nn.sigmoid, nn.Dense(features=12)]"
   ]
  },
  {
   "cell_type": "code",
   "execution_count": 5,
   "metadata": {},
   "outputs": [],
   "source": [
    "target = znrnd.models.FlaxModel(\n",
    "        layer_stack=layer_stack,\n",
    "        optimizer=optax.sgd(learning_rate=0.001, momentum=0.9),\n",
    "        loss_fn=znrnd.loss_functions.MeanPowerLoss(order=2),\n",
    "        input_shape=(2, )\n",
    "    )"
   ]
  },
  {
   "cell_type": "code",
   "execution_count": 6,
   "metadata": {},
   "outputs": [],
   "source": [
    "predictor = znrnd.models.FlaxModel(\n",
    "        layer_stack=layer_stack,\n",
    "        optimizer=optax.sgd(learning_rate=0.001, momentum=0.9),\n",
    "        loss_fn=znrnd.loss_functions.MeanPowerLoss(order=2),\n",
    "        input_shape=(2, )\n",
    "    )"
   ]
  },
  {
   "cell_type": "markdown",
   "metadata": {},
   "source": [
    "### Defining the agent\n",
    "\n",
    "Finally we can define the actualy RND agent which will perform the data selection procedure."
   ]
  },
  {
   "cell_type": "code",
   "execution_count": 7,
   "metadata": {},
   "outputs": [],
   "source": [
    "agent = znrnd.RND(\n",
    "        point_selector=znrnd.point_selection.GreedySelection(threshold=0.00005),\n",
    "        distance_metric=znrnd.distance_metrics.OrderNDifference(order=2),\n",
    "        data_generator=data_generator,\n",
    "        target_network=target,\n",
    "        predictor_network=predictor,\n",
    "        tolerance=8,\n",
    "        target_size=10\n",
    "    )"
   ]
  },
  {
   "cell_type": "markdown",
   "metadata": {},
   "source": [
    "### Running rnd\n",
    "\n",
    "With everything established it is now very simple to run the RND procedure"
   ]
  },
  {
   "cell_type": "code",
   "execution_count": null,
   "metadata": {
    "scrolled": false
   },
   "outputs": [
    {
     "name": "stderr",
     "output_type": "stream",
     "text": [
      "Epoch: 432:  43%|▍| 432/1000 [01:05<01:26,  6.56batch/s, test_loss=1.1"
     ]
    }
   ],
   "source": [
    "agent.run_rnd(visualize=True)"
   ]
  },
  {
   "cell_type": "markdown",
   "metadata": {},
   "source": [
    "### Visualizing the results\n",
    "\n",
    "So let's see how well the method performed."
   ]
  },
  {
   "cell_type": "code",
   "execution_count": null,
   "metadata": {},
   "outputs": [],
   "source": [
    "target_set = np.array(agent.target_set)\n",
    "\n",
    "x = data_generator.data_pool[:, 0]\n",
    "y = data_generator.data_pool[:, 1]\n",
    "\n",
    "x_selected = target_set[:, 0]\n",
    "y_selected = target_set[:, 1]\n",
    "\n",
    "plt.plot(x, y, '.', label='Input data')\n",
    "plt.plot(x_selected, y_selected, 'x', label='Selected Points')\n",
    "plt.legend(bbox_to_anchor=(1, 1))\n",
    "plt.show()"
   ]
  },
  {
   "cell_type": "markdown",
   "metadata": {},
   "source": [
    "So we can see that the RND metho was able to pick three points quite far away from one another using these parameters."
   ]
  },
  {
   "cell_type": "markdown",
   "metadata": {},
   "source": [
    "### Seeding the process\n",
    "\n",
    "Sometimes you may know where to start the RND from rather than just randomly selecting a point. We take care of this at the initialization of the RND agent. Let's tell the agent to start with the bottom left corner and center top point in the lattice."
   ]
  },
  {
   "cell_type": "code",
   "execution_count": null,
   "metadata": {},
   "outputs": [],
   "source": [
    "agent = znrnd.RND(\n",
    "    point_selector=znrnd.point_selection.GreedySelection(threshold=0.00005),\n",
    "    distance_metric=znrnd.distance_metrics.OrderNDifference(order=2),\n",
    "    data_generator=data_generator,\n",
    "    target_network=target,\n",
    "    predictor_network=predictor,\n",
    "    tolerance=8,\n",
    "    target_size=10,\n",
    "    seed_point=[[-5, -5], [0, 5]]\n",
    "    )"
   ]
  },
  {
   "cell_type": "code",
   "execution_count": null,
   "metadata": {},
   "outputs": [],
   "source": [
    "agent.run_rnd()"
   ]
  },
  {
   "cell_type": "code",
   "execution_count": null,
   "metadata": {
    "scrolled": true
   },
   "outputs": [],
   "source": [
    "target_set = np.array(agent.target_set)\n",
    "\n",
    "x = data_generator.data_pool[:, 0]\n",
    "y = data_generator.data_pool[:, 1]\n",
    "\n",
    "x_selected = target_set[:, 0]\n",
    "y_selected = target_set[:, 1]\n",
    "\n",
    "plt.plot(x, y, '.', label='Input data')\n",
    "plt.plot(x_selected, y_selected, 'x', label='Selected Points')\n",
    "plt.legend(bbox_to_anchor=(1, 1))\n",
    "plt.show()"
   ]
  },
  {
   "cell_type": "markdown",
   "metadata": {},
   "source": [
    "In this case we have to consider that two of these points are those seeded in the definition of the agent. We can see that in this case, the RND can only find 3 new points each quite far away from one another."
   ]
  }
 ],
 "metadata": {
  "kernelspec": {
   "display_name": "Python 3 (ipykernel)",
   "language": "python",
   "name": "python3"
  },
  "language_info": {
   "codemirror_mode": {
    "name": "ipython",
    "version": 3
   },
   "file_extension": ".py",
   "mimetype": "text/x-python",
   "name": "python",
   "nbconvert_exporter": "python",
   "pygments_lexer": "ipython3",
   "version": "3.8.12"
  }
 },
 "nbformat": 4,
 "nbformat_minor": 4
}
